{
 "cells": [
  {
   "cell_type": "code",
   "execution_count": 2,
   "id": "75565e03",
   "metadata": {},
   "outputs": [
    {
     "name": "stdout",
     "output_type": "stream",
     "text": [
      "3.5.5\n"
     ]
    }
   ],
   "source": [
    "import findspark\n",
    "findspark.init()\n",
    "\n",
    "from pyspark.sql import SparkSession\n",
    "\n",
    "spark = SparkSession.builder \\\n",
    "    .appName(\"MyApp\") \\\n",
    "    .getOrCreate()\n",
    "\n",
    "print(spark.version)"
   ]
  },
  {
   "cell_type": "code",
   "execution_count": 18,
   "id": "b3040672",
   "metadata": {},
   "outputs": [
    {
     "data": {
      "text/html": [
       "\n",
       "            <div>\n",
       "                <p><b>SparkSession - in-memory</b></p>\n",
       "                \n",
       "        <div>\n",
       "            <p><b>SparkContext</b></p>\n",
       "\n",
       "            <p><a href=\"http://KRISHNA:4040\">Spark UI</a></p>\n",
       "\n",
       "            <dl>\n",
       "              <dt>Version</dt>\n",
       "                <dd><code>v3.5.5</code></dd>\n",
       "              <dt>Master</dt>\n",
       "                <dd><code>local[*]</code></dd>\n",
       "              <dt>AppName</dt>\n",
       "                <dd><code>MyApp</code></dd>\n",
       "            </dl>\n",
       "        </div>\n",
       "        \n",
       "            </div>\n",
       "        "
      ],
      "text/plain": [
       "<pyspark.sql.session.SparkSession at 0x2b12fcffe00>"
      ]
     },
     "execution_count": 18,
     "metadata": {},
     "output_type": "execute_result"
    }
   ],
   "source": [
    "spark"
   ]
  },
  {
   "cell_type": "code",
   "execution_count": 3,
   "id": "69512590",
   "metadata": {},
   "outputs": [
    {
     "name": "stdout",
     "output_type": "stream",
     "text": [
      "+--------------------+--------------------+------------------+--------+--------------+------------------+------------------+-------------------+----+\n",
      "|             Created|        Last Updated|Transaction Amount|Currency|Transaction ID|Transaction Status|Pre-Balance Amount|Post-Balance Amount|Fees|\n",
      "+--------------------+--------------------+------------------+--------+--------------+------------------+------------------+-------------------+----+\n",
      "|Sat May 25 2024 0...|Sat May 25 2024 1...|             -2047|     INR|    1924891966|        Successful|                 -|                  -|   -|\n",
      "+--------------------+--------------------+------------------+--------+--------------+------------------+------------------+-------------------+----+\n",
      "\n"
     ]
    }
   ],
   "source": [
    "file = r\"C:\\Users\\Vamsi\\Downloads\\nithin918277-local currency-withdrawals.csv\"\n",
    "var=spark.read.csv(file,header=True)\n",
    "var.show()"
   ]
  },
  {
   "cell_type": "code",
   "execution_count": 5,
   "id": "a28e2d95",
   "metadata": {},
   "outputs": [
    {
     "name": "stdout",
     "output_type": "stream",
     "text": [
      "+--------+------+--------------------+--------------------+----+----+-----------+---------+-----------+------------+----------+----------+-----------+---------+----------------+--------------+-------+\n",
      "|match_id|inning|        batting_team|        bowling_team|over|ball|     batter|   bowler|non_striker|batsman_runs|extra_runs|total_runs|extras_type|is_wicket|player_dismissed|dismissal_kind|fielder|\n",
      "+--------+------+--------------------+--------------------+----+----+-----------+---------+-----------+------------+----------+----------+-----------+---------+----------------+--------------+-------+\n",
      "|  335982|     1|Kolkata Knight Ri...|Royal Challengers...|   0|   1| SC Ganguly|  P Kumar|BB McCullum|           0|         1|         1|    legbyes|        0|              NA|            NA|     NA|\n",
      "|  335982|     1|Kolkata Knight Ri...|Royal Challengers...|   0|   2|BB McCullum|  P Kumar| SC Ganguly|           0|         0|         0|       NULL|        0|              NA|            NA|     NA|\n",
      "|  335982|     1|Kolkata Knight Ri...|Royal Challengers...|   0|   3|BB McCullum|  P Kumar| SC Ganguly|           0|         1|         1|      wides|        0|              NA|            NA|     NA|\n",
      "|  335982|     1|Kolkata Knight Ri...|Royal Challengers...|   0|   4|BB McCullum|  P Kumar| SC Ganguly|           0|         0|         0|       NULL|        0|              NA|            NA|     NA|\n",
      "|  335982|     1|Kolkata Knight Ri...|Royal Challengers...|   0|   5|BB McCullum|  P Kumar| SC Ganguly|           0|         0|         0|       NULL|        0|              NA|            NA|     NA|\n",
      "|  335982|     1|Kolkata Knight Ri...|Royal Challengers...|   0|   6|BB McCullum|  P Kumar| SC Ganguly|           0|         0|         0|       NULL|        0|              NA|            NA|     NA|\n",
      "|  335982|     1|Kolkata Knight Ri...|Royal Challengers...|   0|   7|BB McCullum|  P Kumar| SC Ganguly|           0|         1|         1|    legbyes|        0|              NA|            NA|     NA|\n",
      "|  335982|     1|Kolkata Knight Ri...|Royal Challengers...|   1|   1|BB McCullum|   Z Khan| SC Ganguly|           0|         0|         0|       NULL|        0|              NA|            NA|     NA|\n",
      "|  335982|     1|Kolkata Knight Ri...|Royal Challengers...|   1|   2|BB McCullum|   Z Khan| SC Ganguly|           4|         0|         4|       NULL|        0|              NA|            NA|     NA|\n",
      "|  335982|     1|Kolkata Knight Ri...|Royal Challengers...|   1|   3|BB McCullum|   Z Khan| SC Ganguly|           4|         0|         4|       NULL|        0|              NA|            NA|     NA|\n",
      "|  335982|     1|Kolkata Knight Ri...|Royal Challengers...|   1|   4|BB McCullum|   Z Khan| SC Ganguly|           6|         0|         6|       NULL|        0|              NA|            NA|     NA|\n",
      "|  335982|     1|Kolkata Knight Ri...|Royal Challengers...|   1|   5|BB McCullum|   Z Khan| SC Ganguly|           4|         0|         4|       NULL|        0|              NA|            NA|     NA|\n",
      "|  335982|     1|Kolkata Knight Ri...|Royal Challengers...|   1|   6|BB McCullum|   Z Khan| SC Ganguly|           0|         0|         0|       NULL|        0|              NA|            NA|     NA|\n",
      "|  335982|     1|Kolkata Knight Ri...|Royal Challengers...|   2|   1| SC Ganguly|  P Kumar|BB McCullum|           0|         0|         0|       NULL|        0|              NA|            NA|     NA|\n",
      "|  335982|     1|Kolkata Knight Ri...|Royal Challengers...|   2|   2| SC Ganguly|  P Kumar|BB McCullum|           0|         0|         0|       NULL|        0|              NA|            NA|     NA|\n",
      "|  335982|     1|Kolkata Knight Ri...|Royal Challengers...|   2|   3| SC Ganguly|  P Kumar|BB McCullum|           0|         1|         1|    legbyes|        0|              NA|            NA|     NA|\n",
      "|  335982|     1|Kolkata Knight Ri...|Royal Challengers...|   2|   4|BB McCullum|  P Kumar| SC Ganguly|           4|         0|         4|       NULL|        0|              NA|            NA|     NA|\n",
      "|  335982|     1|Kolkata Knight Ri...|Royal Challengers...|   2|   5|BB McCullum|  P Kumar| SC Ganguly|           1|         0|         1|       NULL|        0|              NA|            NA|     NA|\n",
      "|  335982|     1|Kolkata Knight Ri...|Royal Challengers...|   2|   6| SC Ganguly|  P Kumar|BB McCullum|           0|         0|         0|       NULL|        0|              NA|            NA|     NA|\n",
      "|  335982|     1|Kolkata Knight Ri...|Royal Challengers...|   3|   1|BB McCullum|AA Noffke| SC Ganguly|           0|         5|         5|      wides|        0|              NA|            NA|     NA|\n",
      "+--------+------+--------------------+--------------------+----+----+-----------+---------+-----------+------------+----------+----------+-----------+---------+----------------+--------------+-------+\n",
      "only showing top 20 rows\n",
      "\n"
     ]
    }
   ],
   "source": [
    "file = \"file:///C:/Users/Vamsi/Downloads/archive (1)/deliveries.csv\"\n",
    "var1=spark.read.csv(file,header=True)\n",
    "var1.show()"
   ]
  },
  {
   "cell_type": "code",
   "execution_count": null,
   "id": "f125e018",
   "metadata": {},
   "outputs": [
    {
     "name": "stdout",
     "output_type": "stream",
     "text": [
      "+--------+------+--------------------+--------------------+----+----+-----------+---------+-----------+------------+----------+----------+-----------+---------+----------------+--------------+-------+\n",
      "|match_id|inning|        batting_team|        bowling_team|over|ball|     batter|   bowler|non_striker|batsman_runs|extra_runs|total_runs|extras_type|is_wicket|player_dismissed|dismissal_kind|fielder|\n",
      "+--------+------+--------------------+--------------------+----+----+-----------+---------+-----------+------------+----------+----------+-----------+---------+----------------+--------------+-------+\n",
      "|  335982|     1|Kolkata Knight Ri...|Royal Challengers...|   0|   1| SC Ganguly|  P Kumar|BB McCullum|           0|         1|         1|    legbyes|        0|              NA|            NA|     NA|\n",
      "|  335982|     1|Kolkata Knight Ri...|Royal Challengers...|   0|   2|BB McCullum|  P Kumar| SC Ganguly|           0|         0|         0|       NULL|        0|              NA|            NA|     NA|\n",
      "|  335982|     1|Kolkata Knight Ri...|Royal Challengers...|   0|   3|BB McCullum|  P Kumar| SC Ganguly|           0|         1|         1|      wides|        0|              NA|            NA|     NA|\n",
      "|  335982|     1|Kolkata Knight Ri...|Royal Challengers...|   0|   4|BB McCullum|  P Kumar| SC Ganguly|           0|         0|         0|       NULL|        0|              NA|            NA|     NA|\n",
      "|  335982|     1|Kolkata Knight Ri...|Royal Challengers...|   0|   5|BB McCullum|  P Kumar| SC Ganguly|           0|         0|         0|       NULL|        0|              NA|            NA|     NA|\n",
      "|  335982|     1|Kolkata Knight Ri...|Royal Challengers...|   0|   6|BB McCullum|  P Kumar| SC Ganguly|           0|         0|         0|       NULL|        0|              NA|            NA|     NA|\n",
      "|  335982|     1|Kolkata Knight Ri...|Royal Challengers...|   0|   7|BB McCullum|  P Kumar| SC Ganguly|           0|         1|         1|    legbyes|        0|              NA|            NA|     NA|\n",
      "|  335982|     1|Kolkata Knight Ri...|Royal Challengers...|   1|   1|BB McCullum|   Z Khan| SC Ganguly|           0|         0|         0|       NULL|        0|              NA|            NA|     NA|\n",
      "|  335982|     1|Kolkata Knight Ri...|Royal Challengers...|   1|   2|BB McCullum|   Z Khan| SC Ganguly|           4|         0|         4|       NULL|        0|              NA|            NA|     NA|\n",
      "|  335982|     1|Kolkata Knight Ri...|Royal Challengers...|   1|   3|BB McCullum|   Z Khan| SC Ganguly|           4|         0|         4|       NULL|        0|              NA|            NA|     NA|\n",
      "|  335982|     1|Kolkata Knight Ri...|Royal Challengers...|   1|   4|BB McCullum|   Z Khan| SC Ganguly|           6|         0|         6|       NULL|        0|              NA|            NA|     NA|\n",
      "|  335982|     1|Kolkata Knight Ri...|Royal Challengers...|   1|   5|BB McCullum|   Z Khan| SC Ganguly|           4|         0|         4|       NULL|        0|              NA|            NA|     NA|\n",
      "|  335982|     1|Kolkata Knight Ri...|Royal Challengers...|   1|   6|BB McCullum|   Z Khan| SC Ganguly|           0|         0|         0|       NULL|        0|              NA|            NA|     NA|\n",
      "|  335982|     1|Kolkata Knight Ri...|Royal Challengers...|   2|   1| SC Ganguly|  P Kumar|BB McCullum|           0|         0|         0|       NULL|        0|              NA|            NA|     NA|\n",
      "|  335982|     1|Kolkata Knight Ri...|Royal Challengers...|   2|   2| SC Ganguly|  P Kumar|BB McCullum|           0|         0|         0|       NULL|        0|              NA|            NA|     NA|\n",
      "|  335982|     1|Kolkata Knight Ri...|Royal Challengers...|   2|   3| SC Ganguly|  P Kumar|BB McCullum|           0|         1|         1|    legbyes|        0|              NA|            NA|     NA|\n",
      "|  335982|     1|Kolkata Knight Ri...|Royal Challengers...|   2|   4|BB McCullum|  P Kumar| SC Ganguly|           4|         0|         4|       NULL|        0|              NA|            NA|     NA|\n",
      "|  335982|     1|Kolkata Knight Ri...|Royal Challengers...|   2|   5|BB McCullum|  P Kumar| SC Ganguly|           1|         0|         1|       NULL|        0|              NA|            NA|     NA|\n",
      "|  335982|     1|Kolkata Knight Ri...|Royal Challengers...|   2|   6| SC Ganguly|  P Kumar|BB McCullum|           0|         0|         0|       NULL|        0|              NA|            NA|     NA|\n",
      "|  335982|     1|Kolkata Knight Ri...|Royal Challengers...|   3|   1|BB McCullum|AA Noffke| SC Ganguly|           0|         5|         5|      wides|        0|              NA|            NA|     NA|\n",
      "+--------+------+--------------------+--------------------+----+----+-----------+---------+-----------+------------+----------+----------+-----------+---------+----------------+--------------+-------+\n",
      "only showing top 20 rows\n",
      "\n"
     ]
    }
   ],
   "source": [
    "from pyspark.sql import SparkSession\n",
    "\n",
    "spark = SparkSession.builder.appName(\"ReadCSV\").getOrCreate()\n",
    "\n",
    "file = \"file:///C:/Users/Vamsi/Downloads/archive (1)/deliveries.csv\"\n",
    "df = spark.read.option(\"header\", True).option(\"inferSchema\", True).csv(file)\n",
    "df.write.mode(\"overwrite\").json(\"file:///C:/Users/Vamsi/Downloads/archive (1)/output_json\")\n",
    "df.show()\n",
    "\n"
   ]
  },
  {
   "cell_type": "code",
   "execution_count": 12,
   "id": "ca1c9214",
   "metadata": {},
   "outputs": [
    {
     "name": "stdout",
     "output_type": "stream",
     "text": [
      "+------+---+--------------+--------------------+---+---+----------+-------------+----------+---+----+----+-------+----+---------+------+---------+\n",
      "|   _c0|_c1|           _c2|                 _c3|_c4|_c5|       _c6|          _c7|       _c8|_c9|_c10|_c11|   _c12|_c13|     _c14|  _c15|     _c16|\n",
      "+------+---+--------------+--------------------+---+---+----------+-------------+----------+---+----+----+-------+----+---------+------+---------+\n",
      "|419162|  1|Mumbai Indians|Royal Challengers...| 16|  1| SS Tiwary|     A Kumble| AT Rayudu|  1|   0|   1|   NULL|   0|       NA|    NA|       NA|\n",
      "|419162|  1|Mumbai Indians|Royal Challengers...| 16|  2| AT Rayudu|     A Kumble| SS Tiwary|  0|   0|   0|   NULL|   0|       NA|    NA|       NA|\n",
      "|419162|  1|Mumbai Indians|Royal Challengers...| 16|  3| AT Rayudu|     A Kumble| SS Tiwary|  1|   1|   2|noballs|   0|       NA|    NA|       NA|\n",
      "|419162|  1|Mumbai Indians|Royal Challengers...| 16|  4| SS Tiwary|     A Kumble| AT Rayudu|  4|   0|   4|   NULL|   0|       NA|    NA|       NA|\n",
      "|419162|  1|Mumbai Indians|Royal Challengers...| 16|  5| SS Tiwary|     A Kumble| AT Rayudu|  6|   0|   6|   NULL|   0|       NA|    NA|       NA|\n",
      "|419162|  1|Mumbai Indians|Royal Challengers...| 16|  6| SS Tiwary|     A Kumble| AT Rayudu|  1|   0|   1|   NULL|   0|       NA|    NA|       NA|\n",
      "|419162|  1|Mumbai Indians|Royal Challengers...| 16|  7| AT Rayudu|     A Kumble| SS Tiwary|  1|   1|   2|noballs|   0|       NA|    NA|       NA|\n",
      "|419162|  1|Mumbai Indians|Royal Challengers...| 16|  8| SS Tiwary|     A Kumble| AT Rayudu|  0|   1|   1|legbyes|   0|       NA|    NA|       NA|\n",
      "|419162|  1|Mumbai Indians|Royal Challengers...| 17|  1| SS Tiwary|     DW Steyn| AT Rayudu|  1|   0|   1|   NULL|   0|       NA|    NA|       NA|\n",
      "|419162|  1|Mumbai Indians|Royal Challengers...| 17|  2| AT Rayudu|     DW Steyn| SS Tiwary|  0|   0|   0|   NULL|   0|       NA|    NA|       NA|\n",
      "|419162|  1|Mumbai Indians|Royal Challengers...| 17|  3| AT Rayudu|     DW Steyn| SS Tiwary|  2|   0|   2|   NULL|   0|       NA|    NA|       NA|\n",
      "|419162|  1|Mumbai Indians|Royal Challengers...| 17|  4| AT Rayudu|     DW Steyn| SS Tiwary|  0|   0|   0|   NULL|   1|AT Rayudu|caught|JH Kallis|\n",
      "|419162|  1|Mumbai Indians|Royal Challengers...| 17|  5|KA Pollard|     DW Steyn| SS Tiwary|  1|   0|   1|   NULL|   0|       NA|    NA|       NA|\n",
      "|419162|  1|Mumbai Indians|Royal Challengers...| 17|  6| SS Tiwary|     DW Steyn|KA Pollard|  6|   0|   6|   NULL|   0|       NA|    NA|       NA|\n",
      "|419162|  1|Mumbai Indians|Royal Challengers...| 18|  1|KA Pollard|R Vinay Kumar| SS Tiwary|  2|   0|   2|   NULL|   0|       NA|    NA|       NA|\n",
      "|419162|  1|Mumbai Indians|Royal Challengers...| 18|  2|KA Pollard|R Vinay Kumar| SS Tiwary|  6|   0|   6|   NULL|   0|       NA|    NA|       NA|\n",
      "|419162|  1|Mumbai Indians|Royal Challengers...| 18|  3|KA Pollard|R Vinay Kumar| SS Tiwary|  2|   0|   2|   NULL|   0|       NA|    NA|       NA|\n",
      "|419162|  1|Mumbai Indians|Royal Challengers...| 18|  4|KA Pollard|R Vinay Kumar| SS Tiwary|  6|   0|   6|   NULL|   0|       NA|    NA|       NA|\n",
      "|419162|  1|Mumbai Indians|Royal Challengers...| 18|  5|KA Pollard|R Vinay Kumar| SS Tiwary|  0|   0|   0|   NULL|   0|       NA|    NA|       NA|\n",
      "|419162|  1|Mumbai Indians|Royal Challengers...| 18|  6|KA Pollard|R Vinay Kumar| SS Tiwary|  1|   0|   1|   NULL|   0|       NA|    NA|       NA|\n",
      "+------+---+--------------+--------------------+---+---+----------+-------------+----------+---+----+----+-------+----+---------+------+---------+\n",
      "only showing top 20 rows\n",
      "\n"
     ]
    }
   ],
   "source": [
    "\n",
    "result = spark.read.option(\"delimiter\", \"|\").csv(\"output_txt\")\n",
    "result.show()"
   ]
  },
  {
   "cell_type": "code",
   "execution_count": 6,
   "id": "53f8816a",
   "metadata": {},
   "outputs": [
    {
     "name": "stdout",
     "output_type": "stream",
     "text": [
      "+----+-------+--------------------+-------------+-------------+-------------+------+\n",
      "|code|message|         restaurants|results_found|results_shown|results_start|status|\n",
      "+----+-------+--------------------+-------------+-------------+-------------+------+\n",
      "|NULL|   NULL|[{{{308322}, b90e...|        17151|           20|            1|  NULL|\n",
      "|NULL|   NULL|[{{{18017612}, b9...|         4748|           20|            1|  NULL|\n",
      "|NULL|   NULL|[{{{18313566}, b9...|        13786|           20|            1|  NULL|\n",
      "|NULL|   NULL|[{{{18353121}, b9...|        10224|           20|            1|  NULL|\n",
      "|NULL|   NULL|[{{{18354483}, b9...|         7039|           20|            1|  NULL|\n",
      "|NULL|   NULL|[{{{18452864}, b9...|         5678|           20|            1|  NULL|\n",
      "|NULL|   NULL|[{{{72604}, b90e6...|         5374|           20|            1|  NULL|\n",
      "|NULL|   NULL|[{{{801269}, b90e...|         1382|           20|            1|  NULL|\n",
      "|NULL|   NULL|[{{{900524}, b90e...|         1534|           20|            1|  NULL|\n",
      "|NULL|   NULL|[{{{101834}, b90e...|         2206|           20|            1|  NULL|\n",
      "|NULL|   NULL|[{{{18143128}, b9...|         2974|           20|            1|  NULL|\n",
      "|NULL|   NULL|[{{{120219}, b90e...|         1831|           20|            1|  NULL|\n",
      "|NULL|   NULL|[{{{16512333}, b9...|         2416|           20|            1|  NULL|\n",
      "|NULL|   NULL|[{{{1402050}, b90...|         1016|           20|            1|  NULL|\n",
      "|NULL|   NULL|                  []|            0|            0|            1|  NULL|\n",
      "|NULL|   NULL|[{{{1600067}, b90...|          327|           20|            1|  NULL|\n",
      "|NULL|   NULL|                  []|            0|            0|            1|  NULL|\n",
      "|NULL|   NULL|                  []|            0|            0|            1|  NULL|\n",
      "|NULL|   NULL|                  []|            0|            0|            1|  NULL|\n",
      "|NULL|   NULL|[{{{15853}, b90e6...|          557|           20|            1|  NULL|\n",
      "+----+-------+--------------------+-------------+-------------+-------------+------+\n",
      "only showing top 20 rows\n",
      "\n"
     ]
    }
   ],
   "source": [
    "import findspark\n",
    "from pyspark.sql import SparkSession\n",
    "spark=SparkSession.builder.appName(\"\").getOrCreate()\n",
    "df=spark.read.json(r\"C:\\Users\\Vamsi\\Downloads\\archive (3)\\file1.json\")\n",
    "df.write.mode(\"overwrite\").parquet(\"file:///C:/Users/Vamsi/Downloads/archive (1)/output_json\")\n",
    "df.show()"
   ]
  },
  {
   "cell_type": "code",
   "execution_count": 16,
   "id": "aee0bf80",
   "metadata": {},
   "outputs": [
    {
     "name": "stdout",
     "output_type": "stream",
     "text": [
      "Full path: c:\\Users\\Vamsi\\AppData\\Local\\Programs\\Microsoft VS Code\\output_txt\n"
     ]
    }
   ],
   "source": [
    "import os\n",
    "\n",
    "print(\"Full path:\", os.path.abspath(\"output_txt\"))\n"
   ]
  },
  {
   "cell_type": "code",
   "execution_count": 21,
   "id": "e81ec333",
   "metadata": {},
   "outputs": [
    {
     "data": {
      "text/plain": [
       "pyspark.sql.dataframe.DataFrame"
      ]
     },
     "execution_count": 21,
     "metadata": {},
     "output_type": "execute_result"
    }
   ],
   "source": [
    "type(var1)"
   ]
  },
  {
   "cell_type": "code",
   "execution_count": 9,
   "id": "fec2567b",
   "metadata": {},
   "outputs": [],
   "source": [
    "from pyspark.sql import SparkSession\n",
    "spark=SparkSession.builder.appName(\"hello\").getOrCreate()"
   ]
  },
  {
   "cell_type": "code",
   "execution_count": 2,
   "id": "adea9402",
   "metadata": {},
   "outputs": [
    {
     "name": "stdout",
     "output_type": "stream",
     "text": [
      "+---+------+\n",
      "| id| fruit|\n",
      "+---+------+\n",
      "|  1| apple|\n",
      "|  2|banana|\n",
      "+---+------+\n",
      "\n"
     ]
    }
   ],
   "source": [
    "from pyspark.sql import SparkSession\n",
    "\n",
    "spark = SparkSession.builder.appName(\"TestApp\").getOrCreate()\n",
    "df = spark.createDataFrame([(1, \"apple\"), (2, \"banana\")], [\"id\", \"fruit\"])\n",
    "df.show()\n",
    "spark.stop()"
   ]
  }
 ],
 "metadata": {
  "kernelspec": {
   "display_name": "Python 3",
   "language": "python",
   "name": "python3"
  },
  "language_info": {
   "codemirror_mode": {
    "name": "ipython",
    "version": 3
   },
   "file_extension": ".py",
   "mimetype": "text/x-python",
   "name": "python",
   "nbconvert_exporter": "python",
   "pygments_lexer": "ipython3",
   "version": "3.10.11"
  }
 },
 "nbformat": 4,
 "nbformat_minor": 5
}
