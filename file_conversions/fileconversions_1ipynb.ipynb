{
 "cells": [
  {
   "cell_type": "code",
   "execution_count": 2,
   "id": "ceb0cc83",
   "metadata": {},
   "outputs": [
    {
     "name": "stdout",
     "output_type": "stream",
     "text": [
      "3.5.5\n"
     ]
    }
   ],
   "source": [
    "from pyspark.sql import SparkSession\n",
    "\n",
    "spark = SparkSession.builder.appName(\"MyApp\").getOrCreate()\n",
    "\n",
    "print(spark.version)"
   ]
  },
  {
   "cell_type": "code",
   "execution_count": 3,
   "id": "1d84a04f",
   "metadata": {},
   "outputs": [
    {
     "name": "stdout",
     "output_type": "stream",
     "text": [
      "+--------------------+--------------------+------------------+--------+--------------+------------------+------------------+-------------------+----+\n",
      "|             Created|        Last Updated|Transaction Amount|Currency|Transaction ID|Transaction Status|Pre-Balance Amount|Post-Balance Amount|Fees|\n",
      "+--------------------+--------------------+------------------+--------+--------------+------------------+------------------+-------------------+----+\n",
      "|Sat May 25 2024 0...|Sat May 25 2024 1...|             -2047|     INR|    1924891966|        Successful|                 -|                  -|   -|\n",
      "+--------------------+--------------------+------------------+--------+--------------+------------------+------------------+-------------------+----+\n",
      "\n"
     ]
    }
   ],
   "source": [
    "file = r\"C:\\Users\\Vamsi\\Downloads\\nithin918277-local currency-withdrawals.csv\"\n",
    "var=spark.read.csv(file,header=True)\n",
    "var.show()"
   ]
  },
  {
   "cell_type": "code",
   "execution_count": 10,
   "id": "583a5384",
   "metadata": {},
   "outputs": [],
   "source": [
    "file_path=\"hdfs://localhost:9000/users/fileconversions/deliveries.csv\"\n",
    "df=spark.read.csv(file_path,header=True)\n",
    "df.write.mode(\"overwrite\").json(\"hdfs://localhost:9000/users/fileconversions/output_files\")"
   ]
  },
  {
   "cell_type": "code",
   "execution_count": 6,
   "id": "432c2eef",
   "metadata": {},
   "outputs": [
    {
     "name": "stdout",
     "output_type": "stream",
     "text": [
      "+------+-------+----------+----------+----------+---------------+--------------------+--------------------+--------------------+--------------------+-------------+--------------------+-------+-------------+-----------+------------+----------+------+-----------+--------------+\n",
      "|    id| season|      city|      date|match_type|player_of_match|               venue|               team1|               team2|         toss_winner|toss_decision|              winner| result|result_margin|target_runs|target_overs|super_over|method|    umpire1|       umpire2|\n",
      "+------+-------+----------+----------+----------+---------------+--------------------+--------------------+--------------------+--------------------+-------------+--------------------+-------+-------------+-----------+------------+----------+------+-----------+--------------+\n",
      "|335982|2007/08| Bangalore|2008-04-18|    League|    BB McCullum|M Chinnaswamy Sta...|Royal Challengers...|Kolkata Knight Ri...|Royal Challengers...|        field|Kolkata Knight Ri...|   runs|          140|        223|          20|         N|    NA|  Asad Rauf|   RE Koertzen|\n",
      "|335983|2007/08|Chandigarh|2008-04-19|    League|     MEK Hussey|Punjab Cricket As...|     Kings XI Punjab| Chennai Super Kings| Chennai Super Kings|          bat| Chennai Super Kings|   runs|           33|        241|          20|         N|    NA|  MR Benson|    SL Shastri|\n",
      "|335984|2007/08|     Delhi|2008-04-19|    League|    MF Maharoof|    Feroz Shah Kotla|    Delhi Daredevils|    Rajasthan Royals|    Rajasthan Royals|          bat|    Delhi Daredevils|wickets|            9|        130|          20|         N|    NA|  Aleem Dar|GA Pratapkumar|\n",
      "|335985|2007/08|    Mumbai|2008-04-20|    League|     MV Boucher|    Wankhede Stadium|      Mumbai Indians|Royal Challengers...|      Mumbai Indians|          bat|Royal Challengers...|wickets|            5|        166|          20|         N|    NA|   SJ Davis|     DJ Harper|\n",
      "|335986|2007/08|   Kolkata|2008-04-20|    League|      DJ Hussey|        Eden Gardens|Kolkata Knight Ri...|     Deccan Chargers|     Deccan Chargers|          bat|Kolkata Knight Ri...|wickets|            5|        111|          20|         N|    NA|  BF Bowden|   K Hariharan|\n",
      "|335987|2007/08|    Jaipur|2008-04-21|    League|      SR Watson|Sawai Mansingh St...|    Rajasthan Royals|     Kings XI Punjab|     Kings XI Punjab|          bat|    Rajasthan Royals|wickets|            6|        167|          20|         N|    NA|  Aleem Dar|     RB Tiffin|\n",
      "|335988|2007/08| Hyderabad|2008-04-22|    League|       V Sehwag|Rajiv Gandhi Inte...|     Deccan Chargers|    Delhi Daredevils|     Deccan Chargers|          bat|    Delhi Daredevils|wickets|            9|        143|          20|         N|    NA|  IL Howell|     AM Saheba|\n",
      "|335989|2007/08|   Chennai|2008-04-23|    League|      ML Hayden|MA Chidambaram St...| Chennai Super Kings|      Mumbai Indians|      Mumbai Indians|        field| Chennai Super Kings|   runs|            6|        209|          20|         N|    NA|  DJ Harper|GA Pratapkumar|\n",
      "|335990|2007/08| Hyderabad|2008-04-24|    League|      YK Pathan|Rajiv Gandhi Inte...|     Deccan Chargers|    Rajasthan Royals|    Rajasthan Royals|        field|    Rajasthan Royals|wickets|            3|        215|          20|         N|    NA|  Asad Rauf|     MR Benson|\n",
      "|335991|2007/08|Chandigarh|2008-04-25|    League|  KC Sangakkara|Punjab Cricket As...|     Kings XI Punjab|      Mumbai Indians|      Mumbai Indians|        field|     Kings XI Punjab|   runs|           66|        183|          20|         N|    NA|  Aleem Dar|     AM Saheba|\n",
      "|335992|2007/08| Bangalore|2008-04-26|    League|      SR Watson|M Chinnaswamy Sta...|Royal Challengers...|    Rajasthan Royals|    Rajasthan Royals|        field|    Rajasthan Royals|wickets|            7|        136|          20|         N|    NA|  MR Benson|     IL Howell|\n",
      "|335993|2007/08|   Chennai|2008-04-26|    League|       JDP Oram|MA Chidambaram St...| Chennai Super Kings|Kolkata Knight Ri...|Kolkata Knight Ri...|          bat| Chennai Super Kings|wickets|            9|        148|          20|         N|    NA|  BF Bowden|AV Jayaprakash|\n",
      "|335994|2007/08|    Mumbai|2008-04-27|    League|   AC Gilchrist|Dr DY Patil Sport...|      Mumbai Indians|     Deccan Chargers|     Deccan Chargers|        field|     Deccan Chargers|wickets|           10|        155|          20|         N|    NA|  Asad Rauf|    SL Shastri|\n",
      "|335995|2007/08|Chandigarh|2008-04-27|    League|      SM Katich|Punjab Cricket As...|     Kings XI Punjab|    Delhi Daredevils|    Delhi Daredevils|          bat|     Kings XI Punjab|wickets|            4|        159|          20|         N|    NA|RE Koertzen|     I Shivram|\n",
      "|335996|2007/08| Bangalore|2008-04-28|    League|       MS Dhoni|M Chinnaswamy Sta...|Royal Challengers...| Chennai Super Kings| Chennai Super Kings|          bat| Chennai Super Kings|   runs|           13|        179|          20|         N|    NA|BR Doctrove|     RB Tiffin|\n",
      "|335997|2007/08|   Kolkata|2008-04-29|    League|  ST Jayasuriya|        Eden Gardens|Kolkata Knight Ri...|      Mumbai Indians|Kolkata Knight Ri...|          bat|      Mumbai Indians|wickets|            7|        138|          20|         N|    NA|  BF Bowden|AV Jayaprakash|\n",
      "|335998|2007/08|     Delhi|2008-04-30|    League|     GD McGrath|    Feroz Shah Kotla|    Delhi Daredevils|Royal Challengers...|Royal Challengers...|        field|    Delhi Daredevils|   runs|           10|        192|          20|         N|    NA|  Aleem Dar|     I Shivram|\n",
      "|335999|2007/08| Hyderabad|2008-05-01|    League|       SE Marsh|Rajiv Gandhi Inte...|     Deccan Chargers|     Kings XI Punjab|     Kings XI Punjab|        field|     Kings XI Punjab|wickets|            7|        165|          20|         N|    NA|BR Doctrove|     RB Tiffin|\n",
      "|336000|2007/08|    Jaipur|2008-05-01|    League|    SA Asnodkar|Sawai Mansingh St...|    Rajasthan Royals|Kolkata Knight Ri...|    Rajasthan Royals|          bat|    Rajasthan Royals|   runs|           45|        197|          20|         N|    NA|RE Koertzen|GA Pratapkumar|\n",
      "|336001|2007/08|   Chennai|2008-05-02|    League|       V Sehwag|MA Chidambaram St...| Chennai Super Kings|    Delhi Daredevils| Chennai Super Kings|          bat|    Delhi Daredevils|wickets|            8|        170|          20|         N|    NA|  BF Bowden|   K Hariharan|\n",
      "+------+-------+----------+----------+----------+---------------+--------------------+--------------------+--------------------+--------------------+-------------+--------------------+-------+-------------+-----------+------------+----------+------+-----------+--------------+\n",
      "only showing top 20 rows\n",
      "\n"
     ]
    }
   ],
   "source": [
    "from pyspark.sql import SparkSession\n",
    "spark=SparkSession.builder.appName(\"Read_csv\").getOrCreate()\n",
    "df=spark.read.csv(\"hdfs://localhost:9000/users/fileconversions/input_files/matches.csv\",header=True)\n",
    "df.write.mode(\"overwrite\").json(\"hdfs://localhost:9000/users/fileconversions/output_files\")\n",
    "df.show()"
   ]
  },
  {
   "cell_type": "code",
   "execution_count": null,
   "id": "b184276a",
   "metadata": {},
   "outputs": [],
   "source": [
    "from pyspark.sql import SparkSession\n",
    "spark=SparkSession.builder.appName(\"Read_csv\").getOrCreate()\n",
    "df=spark.read.csv(\"hdfs://localhost:9900/users/fileconversions/input_files/matches.csv\",header=True)\n",
    "df.write.parquet(\"hdfs://localhost:9900//users/fileconversions/output_files\")"
   ]
  },
  {
   "cell_type": "code",
   "execution_count": 16,
   "id": "740f3337",
   "metadata": {},
   "outputs": [
    {
     "name": "stdout",
     "output_type": "stream",
     "text": [
      "+------+-------+----------+----------+----------+---------------+--------------------+--------------------+--------------------+--------------------+-------------+--------------------+-------+-------------+-----------+------------+----------+------+-----------+--------------+\n",
      "|    id| season|      city|      date|match_type|player_of_match|               venue|               team1|               team2|         toss_winner|toss_decision|              winner| result|result_margin|target_runs|target_overs|super_over|method|    umpire1|       umpire2|\n",
      "+------+-------+----------+----------+----------+---------------+--------------------+--------------------+--------------------+--------------------+-------------+--------------------+-------+-------------+-----------+------------+----------+------+-----------+--------------+\n",
      "|335982|2007/08| Bangalore|2008-04-18|    League|    BB McCullum|M Chinnaswamy Sta...|Royal Challengers...|Kolkata Knight Ri...|Royal Challengers...|        field|Kolkata Knight Ri...|   runs|          140|        223|          20|         N|    NA|  Asad Rauf|   RE Koertzen|\n",
      "|335983|2007/08|Chandigarh|2008-04-19|    League|     MEK Hussey|Punjab Cricket As...|     Kings XI Punjab| Chennai Super Kings| Chennai Super Kings|          bat| Chennai Super Kings|   runs|           33|        241|          20|         N|    NA|  MR Benson|    SL Shastri|\n",
      "|335984|2007/08|     Delhi|2008-04-19|    League|    MF Maharoof|    Feroz Shah Kotla|    Delhi Daredevils|    Rajasthan Royals|    Rajasthan Royals|          bat|    Delhi Daredevils|wickets|            9|        130|          20|         N|    NA|  Aleem Dar|GA Pratapkumar|\n",
      "|335985|2007/08|    Mumbai|2008-04-20|    League|     MV Boucher|    Wankhede Stadium|      Mumbai Indians|Royal Challengers...|      Mumbai Indians|          bat|Royal Challengers...|wickets|            5|        166|          20|         N|    NA|   SJ Davis|     DJ Harper|\n",
      "|335986|2007/08|   Kolkata|2008-04-20|    League|      DJ Hussey|        Eden Gardens|Kolkata Knight Ri...|     Deccan Chargers|     Deccan Chargers|          bat|Kolkata Knight Ri...|wickets|            5|        111|          20|         N|    NA|  BF Bowden|   K Hariharan|\n",
      "|335987|2007/08|    Jaipur|2008-04-21|    League|      SR Watson|Sawai Mansingh St...|    Rajasthan Royals|     Kings XI Punjab|     Kings XI Punjab|          bat|    Rajasthan Royals|wickets|            6|        167|          20|         N|    NA|  Aleem Dar|     RB Tiffin|\n",
      "|335988|2007/08| Hyderabad|2008-04-22|    League|       V Sehwag|Rajiv Gandhi Inte...|     Deccan Chargers|    Delhi Daredevils|     Deccan Chargers|          bat|    Delhi Daredevils|wickets|            9|        143|          20|         N|    NA|  IL Howell|     AM Saheba|\n",
      "|335989|2007/08|   Chennai|2008-04-23|    League|      ML Hayden|MA Chidambaram St...| Chennai Super Kings|      Mumbai Indians|      Mumbai Indians|        field| Chennai Super Kings|   runs|            6|        209|          20|         N|    NA|  DJ Harper|GA Pratapkumar|\n",
      "|335990|2007/08| Hyderabad|2008-04-24|    League|      YK Pathan|Rajiv Gandhi Inte...|     Deccan Chargers|    Rajasthan Royals|    Rajasthan Royals|        field|    Rajasthan Royals|wickets|            3|        215|          20|         N|    NA|  Asad Rauf|     MR Benson|\n",
      "|335991|2007/08|Chandigarh|2008-04-25|    League|  KC Sangakkara|Punjab Cricket As...|     Kings XI Punjab|      Mumbai Indians|      Mumbai Indians|        field|     Kings XI Punjab|   runs|           66|        183|          20|         N|    NA|  Aleem Dar|     AM Saheba|\n",
      "|335992|2007/08| Bangalore|2008-04-26|    League|      SR Watson|M Chinnaswamy Sta...|Royal Challengers...|    Rajasthan Royals|    Rajasthan Royals|        field|    Rajasthan Royals|wickets|            7|        136|          20|         N|    NA|  MR Benson|     IL Howell|\n",
      "|335993|2007/08|   Chennai|2008-04-26|    League|       JDP Oram|MA Chidambaram St...| Chennai Super Kings|Kolkata Knight Ri...|Kolkata Knight Ri...|          bat| Chennai Super Kings|wickets|            9|        148|          20|         N|    NA|  BF Bowden|AV Jayaprakash|\n",
      "|335994|2007/08|    Mumbai|2008-04-27|    League|   AC Gilchrist|Dr DY Patil Sport...|      Mumbai Indians|     Deccan Chargers|     Deccan Chargers|        field|     Deccan Chargers|wickets|           10|        155|          20|         N|    NA|  Asad Rauf|    SL Shastri|\n",
      "|335995|2007/08|Chandigarh|2008-04-27|    League|      SM Katich|Punjab Cricket As...|     Kings XI Punjab|    Delhi Daredevils|    Delhi Daredevils|          bat|     Kings XI Punjab|wickets|            4|        159|          20|         N|    NA|RE Koertzen|     I Shivram|\n",
      "|335996|2007/08| Bangalore|2008-04-28|    League|       MS Dhoni|M Chinnaswamy Sta...|Royal Challengers...| Chennai Super Kings| Chennai Super Kings|          bat| Chennai Super Kings|   runs|           13|        179|          20|         N|    NA|BR Doctrove|     RB Tiffin|\n",
      "|335997|2007/08|   Kolkata|2008-04-29|    League|  ST Jayasuriya|        Eden Gardens|Kolkata Knight Ri...|      Mumbai Indians|Kolkata Knight Ri...|          bat|      Mumbai Indians|wickets|            7|        138|          20|         N|    NA|  BF Bowden|AV Jayaprakash|\n",
      "|335998|2007/08|     Delhi|2008-04-30|    League|     GD McGrath|    Feroz Shah Kotla|    Delhi Daredevils|Royal Challengers...|Royal Challengers...|        field|    Delhi Daredevils|   runs|           10|        192|          20|         N|    NA|  Aleem Dar|     I Shivram|\n",
      "|335999|2007/08| Hyderabad|2008-05-01|    League|       SE Marsh|Rajiv Gandhi Inte...|     Deccan Chargers|     Kings XI Punjab|     Kings XI Punjab|        field|     Kings XI Punjab|wickets|            7|        165|          20|         N|    NA|BR Doctrove|     RB Tiffin|\n",
      "|336000|2007/08|    Jaipur|2008-05-01|    League|    SA Asnodkar|Sawai Mansingh St...|    Rajasthan Royals|Kolkata Knight Ri...|    Rajasthan Royals|          bat|    Rajasthan Royals|   runs|           45|        197|          20|         N|    NA|RE Koertzen|GA Pratapkumar|\n",
      "|336001|2007/08|   Chennai|2008-05-02|    League|       V Sehwag|MA Chidambaram St...| Chennai Super Kings|    Delhi Daredevils| Chennai Super Kings|          bat|    Delhi Daredevils|wickets|            8|        170|          20|         N|    NA|  BF Bowden|   K Hariharan|\n",
      "+------+-------+----------+----------+----------+---------------+--------------------+--------------------+--------------------+--------------------+-------------+--------------------+-------+-------------+-----------+------------+----------+------+-----------+--------------+\n",
      "only showing top 20 rows\n",
      "\n"
     ]
    }
   ],
   "source": [
    "from pyspark.sql import SparkSession\n",
    "spark=SparkSession.builder.appName(\"Read_csv\").getOrCreate()\n",
    "df=spark.read.csv(\"hdfs://localhost:9000/users/fileconversions/input_files/matches.csv\",header=True)\n",
    "df.write.mode('overwrite').parquet(\"hdfs://localhost:9000//users/fileconversions/csv_parquet_output\")\n",
    "df.show()"
   ]
  },
  {
   "cell_type": "code",
   "execution_count": null,
   "id": "4ebf67f5",
   "metadata": {},
   "outputs": [],
   "source": [
    "from pyspark.sql import SparkSession\n",
    "spark=SparkSession.builder.appName(\"Read_csv\").config(\"spark.jars.packages\", \"org.apache.spark:spark-avro_2.12:3.5.5\").getOrCreate()\n",
    "df=spark.read.csv(\"hdfs://localhost:9000/users/fileconversions/input_files/matches.csv\")\n",
    "df.write.format(\"avro\").mode('overwrite').save(\"hdfs://localhost:9000/users/fileconversions/csv_avro_output\")"
   ]
  },
  {
   "cell_type": "code",
   "execution_count": null,
   "id": "3cf930d3",
   "metadata": {},
   "outputs": [],
   "source": [
    "from pyspark.sql import SparkSession\n",
    "spark=SparkSession.builder.appName(\"Read_parquet\").getOrCreate()\n",
    "df=spark.read.parquet(\"hdfs://localhost:9900/users/fileconversions/input_files/weather.parquet\")\n",
    "df.write.mode(\"overwrite\").json(\"hdfs://localhost:9900/users/fileconversions/parquet_json_output\")\n",
    "df.show()"
   ]
  },
  {
   "cell_type": "code",
   "execution_count": null,
   "id": "37997569",
   "metadata": {},
   "outputs": [],
   "source": [
    "spark.stop()"
   ]
  },
  {
   "cell_type": "code",
   "execution_count": 7,
   "id": "cf730c73",
   "metadata": {},
   "outputs": [
    {
     "name": "stdout",
     "output_type": "stream",
     "text": [
      "3.5.5\n"
     ]
    }
   ],
   "source": [
    "import pyspark\n",
    "print(pyspark.__version__)\n"
   ]
  }
 ],
 "metadata": {
  "kernelspec": {
   "display_name": "Python 3",
   "language": "python",
   "name": "python3"
  },
  "language_info": {
   "codemirror_mode": {
    "name": "ipython",
    "version": 3
   },
   "file_extension": ".py",
   "mimetype": "text/x-python",
   "name": "python",
   "nbconvert_exporter": "python",
   "pygments_lexer": "ipython3",
   "version": "3.13.2"
  }
 },
 "nbformat": 4,
 "nbformat_minor": 5
}
