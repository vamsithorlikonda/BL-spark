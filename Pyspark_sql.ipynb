{
 "cells": [
  {
   "cell_type": "code",
   "execution_count": 2,
   "id": "c2df1882",
   "metadata": {},
   "outputs": [
    {
     "name": "stdout",
     "output_type": "stream",
     "text": [
      "+-------+---+\n",
      "|   Name|Age|\n",
      "+-------+---+\n",
      "|  vamsi| 20|\n",
      "|krishna| 21|\n",
      "+-------+---+\n",
      "\n"
     ]
    }
   ],
   "source": [
    "from pyspark.sql import SparkSession\n",
    "spark=SparkSession.builder.appName(\"Creating_dataframes\").getOrCreate()\n",
    "rows=[[\"vamsi\",20],[\"krishna\",21]]\n",
    "cols=[\"Name\",\"Age\"]\n",
    "df=spark.createDataFrame(rows,cols)\n",
    "df.show()"
   ]
  },
  {
   "cell_type": "code",
   "execution_count": 3,
   "id": "b4df5666",
   "metadata": {},
   "outputs": [
    {
     "name": "stdout",
     "output_type": "stream",
     "text": [
      "+---+------+-------+----------+----------+----------+---------------+--------------------+--------------------+--------------------+--------------------+-------------+--------------------+-------+-------------+-----------+------------+----------+------+-----------+--------------+\n",
      "|_c0|    id| season|      city|      date|match_type|player_of_match|               venue|               team1|               team2|         toss_winner|toss_decision|              winner| result|result_margin|target_runs|target_overs|super_over|method|    umpire1|       umpire2|\n",
      "+---+------+-------+----------+----------+----------+---------------+--------------------+--------------------+--------------------+--------------------+-------------+--------------------+-------+-------------+-----------+------------+----------+------+-----------+--------------+\n",
      "|  0|335982|2007/08| Bangalore|2008-04-18|    League|    BB McCullum|M Chinnaswamy Sta...|Royal Challengers...|Kolkata Knight Ri...|Royal Challengers...|        field|Kolkata Knight Ri...|   runs|        140.0|      223.0|        20.0|         N|  NULL|  Asad Rauf|   RE Koertzen|\n",
      "|  1|335983|2007/08|Chandigarh|2008-04-19|    League|     MEK Hussey|Punjab Cricket As...|     Kings XI Punjab| Chennai Super Kings| Chennai Super Kings|          bat| Chennai Super Kings|   runs|         33.0|      241.0|        20.0|         N|  NULL|  MR Benson|    SL Shastri|\n",
      "|  2|335984|2007/08|     Delhi|2008-04-19|    League|    MF Maharoof|    Feroz Shah Kotla|    Delhi Daredevils|    Rajasthan Royals|    Rajasthan Royals|          bat|    Delhi Daredevils|wickets|          9.0|      130.0|        20.0|         N|  NULL|  Aleem Dar|GA Pratapkumar|\n",
      "|  3|335985|2007/08|    Mumbai|2008-04-20|    League|     MV Boucher|    Wankhede Stadium|      Mumbai Indians|Royal Challengers...|      Mumbai Indians|          bat|Royal Challengers...|wickets|          5.0|      166.0|        20.0|         N|  NULL|   SJ Davis|     DJ Harper|\n",
      "|  4|335986|2007/08|   Kolkata|2008-04-20|    League|      DJ Hussey|        Eden Gardens|Kolkata Knight Ri...|     Deccan Chargers|     Deccan Chargers|          bat|Kolkata Knight Ri...|wickets|          5.0|      111.0|        20.0|         N|  NULL|  BF Bowden|   K Hariharan|\n",
      "|  5|335987|2007/08|    Jaipur|2008-04-21|    League|      SR Watson|Sawai Mansingh St...|    Rajasthan Royals|     Kings XI Punjab|     Kings XI Punjab|          bat|    Rajasthan Royals|wickets|          6.0|      167.0|        20.0|         N|  NULL|  Aleem Dar|     RB Tiffin|\n",
      "|  6|335988|2007/08| Hyderabad|2008-04-22|    League|       V Sehwag|Rajiv Gandhi Inte...|     Deccan Chargers|    Delhi Daredevils|     Deccan Chargers|          bat|    Delhi Daredevils|wickets|          9.0|      143.0|        20.0|         N|  NULL|  IL Howell|     AM Saheba|\n",
      "|  7|335989|2007/08|   Chennai|2008-04-23|    League|      ML Hayden|MA Chidambaram St...| Chennai Super Kings|      Mumbai Indians|      Mumbai Indians|        field| Chennai Super Kings|   runs|          6.0|      209.0|        20.0|         N|  NULL|  DJ Harper|GA Pratapkumar|\n",
      "|  8|335990|2007/08| Hyderabad|2008-04-24|    League|      YK Pathan|Rajiv Gandhi Inte...|     Deccan Chargers|    Rajasthan Royals|    Rajasthan Royals|        field|    Rajasthan Royals|wickets|          3.0|      215.0|        20.0|         N|  NULL|  Asad Rauf|     MR Benson|\n",
      "|  9|335991|2007/08|Chandigarh|2008-04-25|    League|  KC Sangakkara|Punjab Cricket As...|     Kings XI Punjab|      Mumbai Indians|      Mumbai Indians|        field|     Kings XI Punjab|   runs|         66.0|      183.0|        20.0|         N|  NULL|  Aleem Dar|     AM Saheba|\n",
      "| 10|335992|2007/08| Bangalore|2008-04-26|    League|      SR Watson|M Chinnaswamy Sta...|Royal Challengers...|    Rajasthan Royals|    Rajasthan Royals|        field|    Rajasthan Royals|wickets|          7.0|      136.0|        20.0|         N|  NULL|  MR Benson|     IL Howell|\n",
      "| 11|335993|2007/08|   Chennai|2008-04-26|    League|       JDP Oram|MA Chidambaram St...| Chennai Super Kings|Kolkata Knight Ri...|Kolkata Knight Ri...|          bat| Chennai Super Kings|wickets|          9.0|      148.0|        20.0|         N|  NULL|  BF Bowden|AV Jayaprakash|\n",
      "| 12|335994|2007/08|    Mumbai|2008-04-27|    League|   AC Gilchrist|Dr DY Patil Sport...|      Mumbai Indians|     Deccan Chargers|     Deccan Chargers|        field|     Deccan Chargers|wickets|         10.0|      155.0|        20.0|         N|  NULL|  Asad Rauf|    SL Shastri|\n",
      "| 13|335995|2007/08|Chandigarh|2008-04-27|    League|      SM Katich|Punjab Cricket As...|     Kings XI Punjab|    Delhi Daredevils|    Delhi Daredevils|          bat|     Kings XI Punjab|wickets|          4.0|      159.0|        20.0|         N|  NULL|RE Koertzen|     I Shivram|\n",
      "| 14|335996|2007/08| Bangalore|2008-04-28|    League|       MS Dhoni|M Chinnaswamy Sta...|Royal Challengers...| Chennai Super Kings| Chennai Super Kings|          bat| Chennai Super Kings|   runs|         13.0|      179.0|        20.0|         N|  NULL|BR Doctrove|     RB Tiffin|\n",
      "| 15|335997|2007/08|   Kolkata|2008-04-29|    League|  ST Jayasuriya|        Eden Gardens|Kolkata Knight Ri...|      Mumbai Indians|Kolkata Knight Ri...|          bat|      Mumbai Indians|wickets|          7.0|      138.0|        20.0|         N|  NULL|  BF Bowden|AV Jayaprakash|\n",
      "| 16|335998|2007/08|     Delhi|2008-04-30|    League|     GD McGrath|    Feroz Shah Kotla|    Delhi Daredevils|Royal Challengers...|Royal Challengers...|        field|    Delhi Daredevils|   runs|         10.0|      192.0|        20.0|         N|  NULL|  Aleem Dar|     I Shivram|\n",
      "| 17|335999|2007/08| Hyderabad|2008-05-01|    League|       SE Marsh|Rajiv Gandhi Inte...|     Deccan Chargers|     Kings XI Punjab|     Kings XI Punjab|        field|     Kings XI Punjab|wickets|          7.0|      165.0|        20.0|         N|  NULL|BR Doctrove|     RB Tiffin|\n",
      "| 18|336000|2007/08|    Jaipur|2008-05-01|    League|    SA Asnodkar|Sawai Mansingh St...|    Rajasthan Royals|Kolkata Knight Ri...|    Rajasthan Royals|          bat|    Rajasthan Royals|   runs|         45.0|      197.0|        20.0|         N|  NULL|RE Koertzen|GA Pratapkumar|\n",
      "| 19|336001|2007/08|   Chennai|2008-05-02|    League|       V Sehwag|MA Chidambaram St...| Chennai Super Kings|    Delhi Daredevils| Chennai Super Kings|          bat|    Delhi Daredevils|wickets|          8.0|      170.0|        20.0|         N|  NULL|  BF Bowden|   K Hariharan|\n",
      "+---+------+-------+----------+----------+----------+---------------+--------------------+--------------------+--------------------+--------------------+-------------+--------------------+-------+-------------+-----------+------------+----------+------+-----------+--------------+\n",
      "only showing top 20 rows\n",
      "\n"
     ]
    }
   ],
   "source": [
    "csv_path=r\"C:\\Users\\Vamsi\\Downloads\\archive (1)\\output1_csv.csv\"\n",
    "df=spark.read.csv(csv_path,header=True)\n",
    "df.show()"
   ]
  },
  {
   "cell_type": "code",
   "execution_count": 4,
   "id": "b587ec25",
   "metadata": {},
   "outputs": [
    {
     "name": "stdout",
     "output_type": "stream",
     "text": [
      "+---+------+-------+----------+----------+----------+---------------+--------------------+--------------------+--------------------+--------------------+-------------+--------------------+-------+-------------+-----------+------------+----------+------+-----------+--------------+\n",
      "|_c0|    id| season|      city|      date|match_type|player_of_match|               venue|               team1|               team2|         toss_winner|toss_decision|              winner| result|result_margin|target_runs|target_overs|super_over|method|    umpire1|       umpire2|\n",
      "+---+------+-------+----------+----------+----------+---------------+--------------------+--------------------+--------------------+--------------------+-------------+--------------------+-------+-------------+-----------+------------+----------+------+-----------+--------------+\n",
      "|  0|335982|2007/08| Bangalore|2008-04-18|    League|    BB McCullum|M Chinnaswamy Sta...|Royal Challengers...|Kolkata Knight Ri...|Royal Challengers...|        field|Kolkata Knight Ri...|   runs|        140.0|      223.0|        20.0|         N|  NULL|  Asad Rauf|   RE Koertzen|\n",
      "|  1|335983|2007/08|Chandigarh|2008-04-19|    League|     MEK Hussey|Punjab Cricket As...|     Kings XI Punjab| Chennai Super Kings| Chennai Super Kings|          bat| Chennai Super Kings|   runs|         33.0|      241.0|        20.0|         N|  NULL|  MR Benson|    SL Shastri|\n",
      "|  2|335984|2007/08|     Delhi|2008-04-19|    League|    MF Maharoof|    Feroz Shah Kotla|    Delhi Daredevils|    Rajasthan Royals|    Rajasthan Royals|          bat|    Delhi Daredevils|wickets|          9.0|      130.0|        20.0|         N|  NULL|  Aleem Dar|GA Pratapkumar|\n",
      "|  3|335985|2007/08|    Mumbai|2008-04-20|    League|     MV Boucher|    Wankhede Stadium|      Mumbai Indians|Royal Challengers...|      Mumbai Indians|          bat|Royal Challengers...|wickets|          5.0|      166.0|        20.0|         N|  NULL|   SJ Davis|     DJ Harper|\n",
      "|  4|335986|2007/08|   Kolkata|2008-04-20|    League|      DJ Hussey|        Eden Gardens|Kolkata Knight Ri...|     Deccan Chargers|     Deccan Chargers|          bat|Kolkata Knight Ri...|wickets|          5.0|      111.0|        20.0|         N|  NULL|  BF Bowden|   K Hariharan|\n",
      "|  5|335987|2007/08|    Jaipur|2008-04-21|    League|      SR Watson|Sawai Mansingh St...|    Rajasthan Royals|     Kings XI Punjab|     Kings XI Punjab|          bat|    Rajasthan Royals|wickets|          6.0|      167.0|        20.0|         N|  NULL|  Aleem Dar|     RB Tiffin|\n",
      "|  6|335988|2007/08| Hyderabad|2008-04-22|    League|       V Sehwag|Rajiv Gandhi Inte...|     Deccan Chargers|    Delhi Daredevils|     Deccan Chargers|          bat|    Delhi Daredevils|wickets|          9.0|      143.0|        20.0|         N|  NULL|  IL Howell|     AM Saheba|\n",
      "|  7|335989|2007/08|   Chennai|2008-04-23|    League|      ML Hayden|MA Chidambaram St...| Chennai Super Kings|      Mumbai Indians|      Mumbai Indians|        field| Chennai Super Kings|   runs|          6.0|      209.0|        20.0|         N|  NULL|  DJ Harper|GA Pratapkumar|\n",
      "|  8|335990|2007/08| Hyderabad|2008-04-24|    League|      YK Pathan|Rajiv Gandhi Inte...|     Deccan Chargers|    Rajasthan Royals|    Rajasthan Royals|        field|    Rajasthan Royals|wickets|          3.0|      215.0|        20.0|         N|  NULL|  Asad Rauf|     MR Benson|\n",
      "|  9|335991|2007/08|Chandigarh|2008-04-25|    League|  KC Sangakkara|Punjab Cricket As...|     Kings XI Punjab|      Mumbai Indians|      Mumbai Indians|        field|     Kings XI Punjab|   runs|         66.0|      183.0|        20.0|         N|  NULL|  Aleem Dar|     AM Saheba|\n",
      "| 10|335992|2007/08| Bangalore|2008-04-26|    League|      SR Watson|M Chinnaswamy Sta...|Royal Challengers...|    Rajasthan Royals|    Rajasthan Royals|        field|    Rajasthan Royals|wickets|          7.0|      136.0|        20.0|         N|  NULL|  MR Benson|     IL Howell|\n",
      "| 11|335993|2007/08|   Chennai|2008-04-26|    League|       JDP Oram|MA Chidambaram St...| Chennai Super Kings|Kolkata Knight Ri...|Kolkata Knight Ri...|          bat| Chennai Super Kings|wickets|          9.0|      148.0|        20.0|         N|  NULL|  BF Bowden|AV Jayaprakash|\n",
      "| 12|335994|2007/08|    Mumbai|2008-04-27|    League|   AC Gilchrist|Dr DY Patil Sport...|      Mumbai Indians|     Deccan Chargers|     Deccan Chargers|        field|     Deccan Chargers|wickets|         10.0|      155.0|        20.0|         N|  NULL|  Asad Rauf|    SL Shastri|\n",
      "| 13|335995|2007/08|Chandigarh|2008-04-27|    League|      SM Katich|Punjab Cricket As...|     Kings XI Punjab|    Delhi Daredevils|    Delhi Daredevils|          bat|     Kings XI Punjab|wickets|          4.0|      159.0|        20.0|         N|  NULL|RE Koertzen|     I Shivram|\n",
      "| 14|335996|2007/08| Bangalore|2008-04-28|    League|       MS Dhoni|M Chinnaswamy Sta...|Royal Challengers...| Chennai Super Kings| Chennai Super Kings|          bat| Chennai Super Kings|   runs|         13.0|      179.0|        20.0|         N|  NULL|BR Doctrove|     RB Tiffin|\n",
      "| 15|335997|2007/08|   Kolkata|2008-04-29|    League|  ST Jayasuriya|        Eden Gardens|Kolkata Knight Ri...|      Mumbai Indians|Kolkata Knight Ri...|          bat|      Mumbai Indians|wickets|          7.0|      138.0|        20.0|         N|  NULL|  BF Bowden|AV Jayaprakash|\n",
      "| 16|335998|2007/08|     Delhi|2008-04-30|    League|     GD McGrath|    Feroz Shah Kotla|    Delhi Daredevils|Royal Challengers...|Royal Challengers...|        field|    Delhi Daredevils|   runs|         10.0|      192.0|        20.0|         N|  NULL|  Aleem Dar|     I Shivram|\n",
      "| 17|335999|2007/08| Hyderabad|2008-05-01|    League|       SE Marsh|Rajiv Gandhi Inte...|     Deccan Chargers|     Kings XI Punjab|     Kings XI Punjab|        field|     Kings XI Punjab|wickets|          7.0|      165.0|        20.0|         N|  NULL|BR Doctrove|     RB Tiffin|\n",
      "| 18|336000|2007/08|    Jaipur|2008-05-01|    League|    SA Asnodkar|Sawai Mansingh St...|    Rajasthan Royals|Kolkata Knight Ri...|    Rajasthan Royals|          bat|    Rajasthan Royals|   runs|         45.0|      197.0|        20.0|         N|  NULL|RE Koertzen|GA Pratapkumar|\n",
      "| 19|336001|2007/08|   Chennai|2008-05-02|    League|       V Sehwag|MA Chidambaram St...| Chennai Super Kings|    Delhi Daredevils| Chennai Super Kings|          bat|    Delhi Daredevils|wickets|          8.0|      170.0|        20.0|         N|  NULL|  BF Bowden|   K Hariharan|\n",
      "+---+------+-------+----------+----------+----------+---------------+--------------------+--------------------+--------------------+--------------------+-------------+--------------------+-------+-------------+-----------+------------+----------+------+-----------+--------------+\n",
      "only showing top 20 rows\n",
      "\n"
     ]
    }
   ],
   "source": [
    "df=df.withColumn(\"target_runs\",df[\"target_runs\"]+0)\n",
    "df.show()"
   ]
  },
  {
   "cell_type": "code",
   "execution_count": 5,
   "id": "e7149f19",
   "metadata": {},
   "outputs": [
    {
     "name": "stdout",
     "output_type": "stream",
     "text": [
      "+---+------+-------+----------+----------+----------+---------------+--------------------+--------------------+--------------------+--------------------+-------------+--------------------+-------+-------------+-----------+------------+----------+------+-----------+\n",
      "|_c0|    id| season|      city|      date|match_type|player_of_match|               venue|               team1|               team2|         toss_winner|toss_decision|              winner| result|result_margin|target_runs|target_overs|super_over|method|    umpire1|\n",
      "+---+------+-------+----------+----------+----------+---------------+--------------------+--------------------+--------------------+--------------------+-------------+--------------------+-------+-------------+-----------+------------+----------+------+-----------+\n",
      "|  0|335982|2007/08| Bangalore|2008-04-18|    League|    BB McCullum|M Chinnaswamy Sta...|Royal Challengers...|Kolkata Knight Ri...|Royal Challengers...|        field|Kolkata Knight Ri...|   runs|        140.0|      223.0|        20.0|         N|  NULL|  Asad Rauf|\n",
      "|  1|335983|2007/08|Chandigarh|2008-04-19|    League|     MEK Hussey|Punjab Cricket As...|     Kings XI Punjab| Chennai Super Kings| Chennai Super Kings|          bat| Chennai Super Kings|   runs|         33.0|      241.0|        20.0|         N|  NULL|  MR Benson|\n",
      "|  2|335984|2007/08|     Delhi|2008-04-19|    League|    MF Maharoof|    Feroz Shah Kotla|    Delhi Daredevils|    Rajasthan Royals|    Rajasthan Royals|          bat|    Delhi Daredevils|wickets|          9.0|      130.0|        20.0|         N|  NULL|  Aleem Dar|\n",
      "|  3|335985|2007/08|    Mumbai|2008-04-20|    League|     MV Boucher|    Wankhede Stadium|      Mumbai Indians|Royal Challengers...|      Mumbai Indians|          bat|Royal Challengers...|wickets|          5.0|      166.0|        20.0|         N|  NULL|   SJ Davis|\n",
      "|  4|335986|2007/08|   Kolkata|2008-04-20|    League|      DJ Hussey|        Eden Gardens|Kolkata Knight Ri...|     Deccan Chargers|     Deccan Chargers|          bat|Kolkata Knight Ri...|wickets|          5.0|      111.0|        20.0|         N|  NULL|  BF Bowden|\n",
      "|  5|335987|2007/08|    Jaipur|2008-04-21|    League|      SR Watson|Sawai Mansingh St...|    Rajasthan Royals|     Kings XI Punjab|     Kings XI Punjab|          bat|    Rajasthan Royals|wickets|          6.0|      167.0|        20.0|         N|  NULL|  Aleem Dar|\n",
      "|  6|335988|2007/08| Hyderabad|2008-04-22|    League|       V Sehwag|Rajiv Gandhi Inte...|     Deccan Chargers|    Delhi Daredevils|     Deccan Chargers|          bat|    Delhi Daredevils|wickets|          9.0|      143.0|        20.0|         N|  NULL|  IL Howell|\n",
      "|  7|335989|2007/08|   Chennai|2008-04-23|    League|      ML Hayden|MA Chidambaram St...| Chennai Super Kings|      Mumbai Indians|      Mumbai Indians|        field| Chennai Super Kings|   runs|          6.0|      209.0|        20.0|         N|  NULL|  DJ Harper|\n",
      "|  8|335990|2007/08| Hyderabad|2008-04-24|    League|      YK Pathan|Rajiv Gandhi Inte...|     Deccan Chargers|    Rajasthan Royals|    Rajasthan Royals|        field|    Rajasthan Royals|wickets|          3.0|      215.0|        20.0|         N|  NULL|  Asad Rauf|\n",
      "|  9|335991|2007/08|Chandigarh|2008-04-25|    League|  KC Sangakkara|Punjab Cricket As...|     Kings XI Punjab|      Mumbai Indians|      Mumbai Indians|        field|     Kings XI Punjab|   runs|         66.0|      183.0|        20.0|         N|  NULL|  Aleem Dar|\n",
      "| 10|335992|2007/08| Bangalore|2008-04-26|    League|      SR Watson|M Chinnaswamy Sta...|Royal Challengers...|    Rajasthan Royals|    Rajasthan Royals|        field|    Rajasthan Royals|wickets|          7.0|      136.0|        20.0|         N|  NULL|  MR Benson|\n",
      "| 11|335993|2007/08|   Chennai|2008-04-26|    League|       JDP Oram|MA Chidambaram St...| Chennai Super Kings|Kolkata Knight Ri...|Kolkata Knight Ri...|          bat| Chennai Super Kings|wickets|          9.0|      148.0|        20.0|         N|  NULL|  BF Bowden|\n",
      "| 12|335994|2007/08|    Mumbai|2008-04-27|    League|   AC Gilchrist|Dr DY Patil Sport...|      Mumbai Indians|     Deccan Chargers|     Deccan Chargers|        field|     Deccan Chargers|wickets|         10.0|      155.0|        20.0|         N|  NULL|  Asad Rauf|\n",
      "| 13|335995|2007/08|Chandigarh|2008-04-27|    League|      SM Katich|Punjab Cricket As...|     Kings XI Punjab|    Delhi Daredevils|    Delhi Daredevils|          bat|     Kings XI Punjab|wickets|          4.0|      159.0|        20.0|         N|  NULL|RE Koertzen|\n",
      "| 14|335996|2007/08| Bangalore|2008-04-28|    League|       MS Dhoni|M Chinnaswamy Sta...|Royal Challengers...| Chennai Super Kings| Chennai Super Kings|          bat| Chennai Super Kings|   runs|         13.0|      179.0|        20.0|         N|  NULL|BR Doctrove|\n",
      "| 15|335997|2007/08|   Kolkata|2008-04-29|    League|  ST Jayasuriya|        Eden Gardens|Kolkata Knight Ri...|      Mumbai Indians|Kolkata Knight Ri...|          bat|      Mumbai Indians|wickets|          7.0|      138.0|        20.0|         N|  NULL|  BF Bowden|\n",
      "| 16|335998|2007/08|     Delhi|2008-04-30|    League|     GD McGrath|    Feroz Shah Kotla|    Delhi Daredevils|Royal Challengers...|Royal Challengers...|        field|    Delhi Daredevils|   runs|         10.0|      192.0|        20.0|         N|  NULL|  Aleem Dar|\n",
      "| 17|335999|2007/08| Hyderabad|2008-05-01|    League|       SE Marsh|Rajiv Gandhi Inte...|     Deccan Chargers|     Kings XI Punjab|     Kings XI Punjab|        field|     Kings XI Punjab|wickets|          7.0|      165.0|        20.0|         N|  NULL|BR Doctrove|\n",
      "| 18|336000|2007/08|    Jaipur|2008-05-01|    League|    SA Asnodkar|Sawai Mansingh St...|    Rajasthan Royals|Kolkata Knight Ri...|    Rajasthan Royals|          bat|    Rajasthan Royals|   runs|         45.0|      197.0|        20.0|         N|  NULL|RE Koertzen|\n",
      "| 19|336001|2007/08|   Chennai|2008-05-02|    League|       V Sehwag|MA Chidambaram St...| Chennai Super Kings|    Delhi Daredevils| Chennai Super Kings|          bat|    Delhi Daredevils|wickets|          8.0|      170.0|        20.0|         N|  NULL|  BF Bowden|\n",
      "+---+------+-------+----------+----------+----------+---------------+--------------------+--------------------+--------------------+--------------------+-------------+--------------------+-------+-------------+-----------+------------+----------+------+-----------+\n",
      "only showing top 20 rows\n",
      "\n"
     ]
    }
   ],
   "source": [
    "df=df.drop(\"umpire2\")\n",
    "df.show()"
   ]
  },
  {
   "cell_type": "code",
   "execution_count": 6,
   "id": "744d0ea5",
   "metadata": {},
   "outputs": [],
   "source": [
    "from pyspark.sql import SparkSession\n",
    "spark=SparkSession.builder.appName(\"CRUD_PYSPARK_SQL\").getOrCreate()\n",
    "file_path1=\"hdfs://localhost:9000/users/covid_db/country_wise_latest.csv\"\n",
    "\n",
    "df_lastest=spark.read.csv(file_path1,header=True)\n",
    "df_clean_complete=spark.read.csv(\"hdfs://localhost:9000/users/covid_db/covid_19_clean_complete.csv\",header=True)\n",
    "df_day_wise=spark.read.csv(\"hdfs://localhost:9000/users/covid_db/day_wise.csv\",header=True)\n",
    "df_full_grouped=spark.read.csv(\"hdfs://localhost:9000/users/covid_db/full_grouped.csv\",header=True)\n",
    "df_usa_country_wise=spark.read.csv(\"hdfs://localhost:9000/users/covid_db/usa_county_wise.csv\",header=True)\n",
    "df_worldometer_data=spark.read.csv(\"hdfs://localhost:9000/users/covid_db/worldometer_data.csv\",header=True)\n"
   ]
  },
  {
   "cell_type": "code",
   "execution_count": 7,
   "id": "e7fae69a",
   "metadata": {},
   "outputs": [
    {
     "name": "stdout",
     "output_type": "stream",
     "text": [
      "+-------------------+---------+------+---------+------+---------+\n",
      "|     Country/Region|Confirmed|Deaths|Recovered|Active|New cases|\n",
      "+-------------------+---------+------+---------+------+---------+\n",
      "|        Afghanistan|    36263|  1269|    25198|  9796|      106|\n",
      "|            Albania|     4880|   144|     2745|  1991|      117|\n",
      "|            Algeria|    27973|  1163|    18837|  7973|      616|\n",
      "|            Andorra|      907|    52|      803|    52|       10|\n",
      "|             Angola|      950|    41|      242|   667|       18|\n",
      "|Antigua and Barbuda|       86|     3|       65|    18|        4|\n",
      "|          Argentina|   167416|  3059|    72575| 91782|     4890|\n",
      "|            Armenia|    37390|   711|    26665| 10014|       73|\n",
      "|          Australia|    15303|   167|     9311|  5825|      368|\n",
      "|            Austria|    20558|   713|    18246|  1599|       86|\n",
      "|         Azerbaijan|    30446|   423|    23242|  6781|      396|\n",
      "|            Bahamas|      382|    11|       91|   280|       40|\n",
      "|            Bahrain|    39482|   141|    36110|  3231|      351|\n",
      "|         Bangladesh|   226225|  2965|   125683| 97577|     2772|\n",
      "|           Barbados|      110|     7|       94|     9|        0|\n",
      "|            Belarus|    67251|   538|    60492|  6221|      119|\n",
      "|            Belgium|    66428|  9822|    17452| 39154|      402|\n",
      "|             Belize|       48|     2|       26|    20|        0|\n",
      "|              Benin|     1770|    35|     1036|   699|        0|\n",
      "|             Bhutan|       99|     0|       86|    13|        4|\n",
      "+-------------------+---------+------+---------+------+---------+\n",
      "only showing top 20 rows\n",
      "\n"
     ]
    }
   ],
   "source": [
    "df_lastest.createOrReplaceTempView(\"country_latest\")\n",
    "result=spark.sql(\"\"\"select `Country/Region`,Confirmed,Deaths,Recovered,Active,`New cases` from country_latest \"\"\")\n",
    "result.show()"
   ]
  },
  {
   "cell_type": "code",
   "execution_count": 8,
   "id": "abb5fec1",
   "metadata": {},
   "outputs": [
    {
     "name": "stdout",
     "output_type": "stream",
     "text": [
      "+--------------+-------------+-------------+\n",
      "|Country/Region|Recovery_Rate|Fatality_Rate|\n",
      "+--------------+-------------+-------------+\n",
      "|      Dominica|        100.0|          0.0|\n",
      "|       Grenada|        100.0|          0.0|\n",
      "|      Holy See|        100.0|          0.0|\n",
      "|      Djibouti|        98.38|         1.15|\n",
      "|       Iceland|        98.33|         0.54|\n",
      "|        Brunei|        97.87|         2.13|\n",
      "|   New Zealand|        97.24|         1.41|\n",
      "|         Qatar|        97.02|         0.15|\n",
      "|      Malaysia|         96.6|         1.39|\n",
      "|     Mauritius|        96.51|         2.91|\n",
      "|        Norway|        95.84|         2.79|\n",
      "|       Taiwan*|        95.24|         1.52|\n",
      "|          Laos|         95.0|          0.0|\n",
      "|         Malta|        94.86|         1.28|\n",
      "|       Estonia|        94.54|         3.39|\n",
      "|      Thailand|        94.36|         1.76|\n",
      "| Liechtenstein|        94.19|         1.16|\n",
      "|    San Marino|        93.99|         6.01|\n",
      "|       Finland|        93.54|         4.45|\n",
      "|     Greenland|        92.86|          0.0|\n",
      "+--------------+-------------+-------------+\n",
      "only showing top 20 rows\n",
      "\n"
     ]
    }
   ],
   "source": [
    "df_lastest.createOrReplaceTempView(\"country_latest\")\n",
    "\n",
    "result = spark.sql(\"\"\"\n",
    "    SELECT `Country/Region`, \n",
    "           ROUND(`Recovered / 100 Cases`, 2) AS Recovery_Rate,\n",
    "           ROUND(`Deaths / 100 Cases`, 2) AS Fatality_Rate\n",
    "    FROM country_latest\n",
    "    WHERE `Confirmed` > 0\n",
    "    ORDER BY Recovery_Rate DESC\n",
    "\"\"\")\n",
    "\n",
    "result.show()"
   ]
  },
  {
   "cell_type": "code",
   "execution_count": 9,
   "id": "6701285c",
   "metadata": {},
   "outputs": [
    {
     "name": "stdout",
     "output_type": "stream",
     "text": [
      "+----------------------+-----------------------+\n",
      "|Local_Death_percentage|Global_Death_percentage|\n",
      "+----------------------+-----------------------+\n",
      "|    3.2352585231964124|      3.891939633247169|\n",
      "+----------------------+-----------------------+\n",
      "\n"
     ]
    }
   ],
   "source": [
    "#1. To find out the death percentage locally and globally\n",
    "df_lastest.createOrReplaceTempView(\"country_lastest\")\n",
    "df_clean_complete.createOrReplaceTempView(\"clean_complete\")\n",
    "df_day_wise.createOrReplaceTempView(\"day_wise\")\n",
    "df_full_grouped.createOrReplaceTempView(\"full_grouped\")\n",
    "df_usa_country_wise.createOrReplaceTempView(\"usa_country_wise\")\n",
    "df_worldometer_data.createOrReplaceTempView(\"worldometer_data\")\n",
    "res=spark.sql(\"\"\"SELECT\n",
    "  (SELECT SUM(TotalDeaths) * 100.0 /SUM(TotalCases)\n",
    "   FROM worldometer_data\n",
    "   WHERE `Country/Region` = 'USA') AS Local_Death_percentage,\n",
    "  (SELECT SUM(TotalDeaths) * 100.0 /SUM(TotalCases)\n",
    "   FROM worldometer_data\n",
    "   WHERE `Country/Region` != 'USA') AS Global_Death_percentage\"\"\")\n",
    "\n",
    "res.show()"
   ]
  },
  {
   "cell_type": "code",
   "execution_count": 10,
   "id": "ba5e76dc",
   "metadata": {},
   "outputs": [
    {
     "name": "stdout",
     "output_type": "stream",
     "text": [
      "+-------------------------+--------------------------+\n",
      "|local_Infected_percentage|global_Infected_percentage|\n",
      "+-------------------------+--------------------------+\n",
      "|       1.5193862960518527|       0.23580418314236695|\n",
      "+-------------------------+--------------------------+\n",
      "\n"
     ]
    }
   ],
   "source": [
    "#2. To find out the infected population percentage locally and globally\n",
    "df_lastest.createOrReplaceTempView(\"country_lastest\")\n",
    "df_clean_complete.createOrReplaceTempView(\"clean_complete\")\n",
    "df_day_wise.createOrReplaceTempView(\"day_wise\")\n",
    "df_full_grouped.createOrReplaceTempView(\"full_grouped\")\n",
    "df_usa_country_wise.createOrReplaceTempView(\"usa_country_wise\")\n",
    "df_worldometer_data.createOrReplaceTempView(\"worldometer_data\")\n",
    "res = spark.sql(\"\"\"\n",
    "SELECT\n",
    "  (SELECT SUM(TotalCases) * 100.0 / SUM(Population)\n",
    "     FROM worldometer_data\n",
    "     WHERE `Country/Region` = 'USA') AS local_Infected_percentage,\n",
    "  (SELECT SUM(TotalCases) * 100.0 / SUM(Population)\n",
    "     FROM worldometer_data\n",
    "     WHERE `Country/Region` != 'USA') AS global_Infected_percentage\n",
    "\"\"\")\n",
    "res.show()\n",
    "\n"
   ]
  },
  {
   "cell_type": "code",
   "execution_count": 11,
   "id": "2157e93d",
   "metadata": {},
   "outputs": [
    {
     "name": "stdout",
     "output_type": "stream",
     "text": [
      "+-------------+-------------------+\n",
      "|      Country|infected_percentage|\n",
      "+-------------+-------------------+\n",
      "|        Qatar| 3.9921575750452756|\n",
      "|French Guiana| 2.7145648579588157|\n",
      "|      Bahrain| 2.5130239079751258|\n",
      "|   San Marino|  2.059638163710295|\n",
      "|        Chile| 1.9164810228284688|\n",
      "|       Panama| 1.6527039892328248|\n",
      "|       Kuwait| 1.6378443167538765|\n",
      "|         Oman| 1.5769043963734306|\n",
      "|          USA| 1.5193862960518527|\n",
      "| Vatican City| 1.4981273408239701|\n",
      "+-------------+-------------------+\n",
      "\n"
     ]
    }
   ],
   "source": [
    "#3. To find out the countries with the highest infection rates\n",
    "df_lastest.createOrReplaceTempView(\"country_lastest\")\n",
    "df_clean_complete.createOrReplaceTempView(\"clean_complete\")\n",
    "df_day_wise.createOrReplaceTempView(\"day_wise\")\n",
    "df_full_grouped.createOrReplaceTempView(\"full_grouped\")\n",
    "df_usa_country_wise.createOrReplaceTempView(\"usa_country_wise\")\n",
    "df_worldometer_data.createOrReplaceTempView(\"worldometer_data\")\n",
    "res=spark.sql( \"\"\"select `Country/Region` as Country,SUM(TotalCases) * 100.0 / SUM(Population) as infected_percentage from worldometer_data\n",
    "              group by `Country/Region`\n",
    "              order by infected_percentage desc\n",
    "              limit 10\n",
    "              \"\"\"\n",
    "    \n",
    ")\n",
    "res.show()"
   ]
  },
  {
   "cell_type": "code",
   "execution_count": 12,
   "id": "74f26033",
   "metadata": {},
   "outputs": [
    {
     "name": "stdout",
     "output_type": "stream",
     "text": [
      "+--------------+-----------+\n",
      "|Country/Region|TotalDeaths|\n",
      "+--------------+-----------+\n",
      "|           USA|     162804|\n",
      "|        Brazil|      98644|\n",
      "|        Mexico|      50517|\n",
      "|            UK|      46413|\n",
      "|         India|      41638|\n",
      "|         Italy|      35187|\n",
      "|        France|      30312|\n",
      "|         Spain|      28500|\n",
      "|          Peru|      20424|\n",
      "|          Iran|      17976|\n",
      "+--------------+-----------+\n",
      "\n",
      "+-----------------+------------+\n",
      "|        Continent|Total_deaths|\n",
      "+-----------------+------------+\n",
      "|    North America|    229855.0|\n",
      "|           Europe|    205232.0|\n",
      "|    South America|    154885.0|\n",
      "|             Asia|    100627.0|\n",
      "|           Africa|     22114.0|\n",
      "|Australia/Oceania|       281.0|\n",
      "|             NULL|        13.0|\n",
      "+-----------------+------------+\n",
      "\n"
     ]
    }
   ],
   "source": [
    "#4. To find out the countries and continents with the highest death counts\n",
    "df_lastest.createOrReplaceTempView(\"country_lastest\")\n",
    "df_clean_complete.createOrReplaceTempView(\"clean_complete\")\n",
    "df_day_wise.createOrReplaceTempView(\"day_wise\")\n",
    "df_full_grouped.createOrReplaceTempView(\"full_grouped\")\n",
    "df_usa_country_wise.createOrReplaceTempView(\"usa_country_wise\")\n",
    "df_worldometer_data.createOrReplaceTempView(\"worldometer_data\")\n",
    "res=spark.sql(\"\"\"select `Country/Region`,TotalDeaths from worldometer_data\n",
    "              order by cast(TotalDeaths as int) desc\n",
    "              limit 10\"\"\")\n",
    "res.show()\n",
    "res=spark.sql(\"\"\"select Continent,sum(TotalDeaths) as Total_deaths from worldometer_data\n",
    "              group by Continent\n",
    "              order by cast(Total_deaths as int) desc\"\"\" )\n",
    "res.show()\n"
   ]
  },
  {
   "cell_type": "code",
   "execution_count": 13,
   "id": "0091f010",
   "metadata": {},
   "outputs": [
    {
     "name": "stdout",
     "output_type": "stream",
     "text": [
      "root\n",
      " |-- Country/Region: string (nullable = true)\n",
      " |-- Continent: string (nullable = true)\n",
      " |-- Population: string (nullable = true)\n",
      " |-- TotalCases: string (nullable = true)\n",
      " |-- NewCases: string (nullable = true)\n",
      " |-- TotalDeaths: string (nullable = true)\n",
      " |-- NewDeaths: string (nullable = true)\n",
      " |-- TotalRecovered: string (nullable = true)\n",
      " |-- NewRecovered: string (nullable = true)\n",
      " |-- ActiveCases: string (nullable = true)\n",
      " |-- Serious,Critical: string (nullable = true)\n",
      " |-- Tot Cases/1M pop: string (nullable = true)\n",
      " |-- Deaths/1M pop: string (nullable = true)\n",
      " |-- TotalTests: string (nullable = true)\n",
      " |-- Tests/1M pop: string (nullable = true)\n",
      " |-- WHO Region: string (nullable = true)\n",
      "\n"
     ]
    }
   ],
   "source": [
    "#To check weather columns are in which data types\n",
    "df_worldometer_data.printSchema()"
   ]
  },
  {
   "cell_type": "code",
   "execution_count": 14,
   "id": "d4cc3afa",
   "metadata": {},
   "outputs": [
    {
     "name": "stdout",
     "output_type": "stream",
     "text": [
      "+----------+--------------------+--------------------+----------+\n",
      "|      Date|      Country/Region|          continents|avg_deaths|\n",
      "+----------+--------------------+--------------------+----------+\n",
      "|2020-01-22|              Brunei|     Western Pacific|       0.0|\n",
      "|2020-01-22|             Bahamas|            Americas|       0.0|\n",
      "|2020-01-22|              Angola|              Africa|       0.0|\n",
      "|2020-01-22|          Madagascar|              Africa|       0.0|\n",
      "|2020-01-22|                  US|            Americas|       0.0|\n",
      "|2020-01-22|         Switzerland|              Europe|       0.0|\n",
      "|2020-01-22|             Bahrain|Eastern Mediterra...|       0.0|\n",
      "|2020-01-22|           Indonesia|     South-East Asia|       0.0|\n",
      "|2020-01-22|             Armenia|              Europe|       0.0|\n",
      "|2020-01-22|             Eritrea|              Africa|       0.0|\n",
      "|2020-01-22|Bosnia and Herzeg...|              Europe|       0.0|\n",
      "|2020-01-22|               China|     Western Pacific|      17.0|\n",
      "|2020-01-22|             Ukraine|              Europe|       0.0|\n",
      "|2020-01-22|              Kuwait|Eastern Mediterra...|       0.0|\n",
      "|2020-01-22|             Somalia|Eastern Mediterra...|       0.0|\n",
      "|2020-01-22|             Taiwan*|     Western Pacific|       0.0|\n",
      "|2020-01-22|                Laos|     Western Pacific|       0.0|\n",
      "|2020-01-22|           Sri Lanka|     South-East Asia|       0.0|\n",
      "|2020-01-22|       Cote d'Ivoire|              Africa|       0.0|\n",
      "|2020-01-22|               Qatar|Eastern Mediterra...|       0.0|\n",
      "+----------+--------------------+--------------------+----------+\n",
      "only showing top 20 rows\n",
      "\n"
     ]
    }
   ],
   "source": [
    "#5. Average number of deaths by day (Continents and Countries) \n",
    "df_lastest.createOrReplaceTempView(\"country_lastest\")\n",
    "df_clean_complete.createOrReplaceTempView(\"clean_complete\")\n",
    "df_day_wise.createOrReplaceTempView(\"day_wise\")\n",
    "df_full_grouped.createOrReplaceTempView(\"full_grouped\")\n",
    "df_usa_country_wise.createOrReplaceTempView(\"usa_country_wise\")\n",
    "df_worldometer_data.createOrReplaceTempView(\"worldometer_data\")\n",
    "result=spark.sql(\"\"\" select Date,`Country/Region`,`WHO Region` as continents,avg(cast(Deaths as int)) as avg_deaths\n",
    "                 from full_grouped\n",
    "                 group by Date,`Country/Region`,`WHO Region`\n",
    "                 order by Date\n",
    "                 \"\"\"\n",
    ")\n",
    "result.show()"
   ]
  },
  {
   "cell_type": "code",
   "execution_count": 15,
   "id": "e610f0f8",
   "metadata": {},
   "outputs": [
    {
     "name": "stdout",
     "output_type": "stream",
     "text": [
      "+--------------+---------+\n",
      "|Country/Region|Avg_Cases|\n",
      "+--------------+---------+\n",
      "|           USA|5032179.0|\n",
      "|        Brazil|2917562.0|\n",
      "|         India|2025409.0|\n",
      "|        Russia| 871894.0|\n",
      "|  South Africa| 538184.0|\n",
      "|        Mexico| 462690.0|\n",
      "|          Peru| 455409.0|\n",
      "|         Chile| 366671.0|\n",
      "|      Colombia| 357710.0|\n",
      "|         Spain| 354530.0|\n",
      "+--------------+---------+\n",
      "\n"
     ]
    }
   ],
   "source": [
    "#6. Average of cases divided by the number of population of each country (TOP 10) \n",
    "df_lastest.createOrReplaceTempView(\"country_lastest\")\n",
    "df_clean_complete.createOrReplaceTempView(\"clean_complete\")\n",
    "df_day_wise.createOrReplaceTempView(\"day_wise\")\n",
    "df_full_grouped.createOrReplaceTempView(\"full_grouped\")\n",
    "df_usa_country_wise.createOrReplaceTempView(\"usa_country_wise\")\n",
    "df_worldometer_data.createOrReplaceTempView(\"worldometer_data\")\n",
    "result=spark.sql(\"\"\"select `Country/Region`,avg(TotalCases)as Avg_Cases from worldometer_data\n",
    "                 group by `Country/Region`\n",
    "                 order by Avg_Cases desc\n",
    "                 limit 10\"\"\"\n",
    "    \n",
    "    \n",
    ")\n",
    "result.show()"
   ]
  },
  {
   "cell_type": "code",
   "execution_count": 25,
   "id": "8532f17b",
   "metadata": {},
   "outputs": [
    {
     "data": {
      "text/plain": [
       "85.26652392947103"
      ]
     },
     "execution_count": 25,
     "metadata": {},
     "output_type": "execute_result"
    }
   ],
   "source": [
    "import pandas as pd\n",
    "from pyspark.sql import SparkSession\n",
    "spark=SparkSession.builder.appName(\"Null_values\").getOrCreate()\n",
    "file=r\"C:\\Users\\Vamsi\\Downloads\\ACG WORLD _ Renewed shortlist Final.xlsx\"\n",
    "df=pd.read_excel(file)\n",
    "df.head()\n",
    "df.isnull().sum()\n",
    "sum_of_values=df['Tenth Percentage'].sum()\n",
    "count_of_values=df['Tenth Percentage'].count()\n",
    "avg=sum_of_values/count_of_values\n",
    "avg\n",
    "df['Tenth Percentage'] = df['Tenth Percentage'].fillna(85.26652392947102)\n",
    "mean_=df['Tenth Percentage'].mean()\n",
    "mean_"
   ]
  },
  {
   "cell_type": "code",
   "execution_count": 5,
   "id": "ec03beaf",
   "metadata": {},
   "outputs": [
    {
     "data": {
      "text/plain": [
       "'2.0.3'"
      ]
     },
     "execution_count": 5,
     "metadata": {},
     "output_type": "execute_result"
    }
   ],
   "source": [
    "pd.__version__\n"
   ]
  },
  {
   "cell_type": "code",
   "execution_count": 28,
   "id": "c606f652",
   "metadata": {},
   "outputs": [
    {
     "name": "stdout",
     "output_type": "stream",
     "text": [
      "+-------------+----------------+-------------------+--------------+-----------+----------------+------------------------+----------------+-------------+-------------+-------------+-------------+-----------+--------------+-----------+-------------+-------------+-------------+-------------+-----------+------------+------------+------------+------------+------------+-----------+------------+--------------+-------------+-------------+-------------+-------------+------------+--------------+-------------+-------------+-------------+-------------+-----------+----------------+-----------+--------------+-------------+-------------+-------------+-------------+-----------+-------------+-------------+------------------+---------------+-------------+--------------+---------------+----------------+----------+---------------+---------------+-------------+-------------+--------------+-------------+------------+----------------------+------------------+------------+--------------+--------------------+------------------------------+---------------------+---------------------+---------------------+---------------------+---------------------+---------------------+---------------------+---------------------+--------------------+---------------------+---------------------+---------------------+---------------------+--------------------+---------------------+---------------------+---------------------+---------------------+---------------------+---------------------+---------------------+---------------------+-------------------+------------------------+--------------------------------+------------------------+---------------+---------------------------+--------------------------+-----------------------------+-----------+------------+--------------+-------------+---------------------+\n",
      "|apply_time_rl|climate_pressure|climate_temperature|cmc_0_0_0_1000|cmc_0_0_0_2|cmc_0_0_0_2_grad|cmc_0_0_0_2_interpolated|cmc_0_0_0_2_next|cmc_0_0_0_500|cmc_0_0_0_700|cmc_0_0_0_850|cmc_0_0_0_925|cmc_0_0_6_2|cmc_0_0_7_1000|cmc_0_0_7_2|cmc_0_0_7_500|cmc_0_0_7_700|cmc_0_0_7_850|cmc_0_0_7_925|cmc_0_1_0_0|cmc_0_1_11_0|cmc_0_1_65_0|cmc_0_1_66_0|cmc_0_1_67_0|cmc_0_1_68_0|cmc_0_1_7_0|cmc_0_2_2_10|cmc_0_2_2_1000|cmc_0_2_2_500|cmc_0_2_2_700|cmc_0_2_2_850|cmc_0_2_2_925|cmc_0_2_3_10|cmc_0_2_3_1000|cmc_0_2_3_500|cmc_0_2_3_700|cmc_0_2_3_850|cmc_0_2_3_925|cmc_0_3_0_0|cmc_0_3_0_0_next|cmc_0_3_1_0|cmc_0_3_5_1000|cmc_0_3_5_500|cmc_0_3_5_700|cmc_0_3_5_850|cmc_0_3_5_925|cmc_0_6_1_0|cmc_available|cmc_horizon_h|cmc_precipitations|cmc_timedelta_s|fact_latitude|fact_longitude|fact_station_id|fact_temperature| fact_time|gfs_2m_dewpoint|gfs_a_vorticity|gfs_available|gfs_cloudness|gfs_clouds_sea|gfs_horizon_h|gfs_humidity|gfs_precipitable_water|gfs_precipitations|gfs_pressure|gfs_r_velocity|gfs_soil_temperature|gfs_soil_temperature_available|gfs_temperature_10000|gfs_temperature_15000|gfs_temperature_20000|gfs_temperature_25000|gfs_temperature_30000|gfs_temperature_35000|gfs_temperature_40000|gfs_temperature_45000|gfs_temperature_5000|gfs_temperature_50000|gfs_temperature_55000|gfs_temperature_60000|gfs_temperature_65000|gfs_temperature_7000|gfs_temperature_70000|gfs_temperature_75000|gfs_temperature_80000|gfs_temperature_85000|gfs_temperature_90000|gfs_temperature_92500|gfs_temperature_95000|gfs_temperature_97500|gfs_temperature_sea|gfs_temperature_sea_grad|gfs_temperature_sea_interpolated|gfs_temperature_sea_next|gfs_timedelta_s|gfs_total_clouds_cover_high|gfs_total_clouds_cover_low|gfs_total_clouds_cover_middle| gfs_u_wind|  gfs_v_wind|gfs_wind_speed|sun_elevation|topography_bathymetry|\n",
      "+-------------+----------------+-------------------+--------------+-----------+----------------+------------------------+----------------+-------------+-------------+-------------+-------------+-----------+--------------+-----------+-------------+-------------+-------------+-------------+-----------+------------+------------+------------+------------+------------+-----------+------------+--------------+-------------+-------------+-------------+-------------+------------+--------------+-------------+-------------+-------------+-------------+-----------+----------------+-----------+--------------+-------------+-------------+-------------+-------------+-----------+-------------+-------------+------------------+---------------+-------------+--------------+---------------+----------------+----------+---------------+---------------+-------------+-------------+--------------+-------------+------------+----------------------+------------------+------------+--------------+--------------------+------------------------------+---------------------+---------------------+---------------------+---------------------+---------------------+---------------------+---------------------+---------------------+--------------------+---------------------+---------------------+---------------------+---------------------+--------------------+---------------------+---------------------+---------------------+---------------------+---------------------+---------------------+---------------------+---------------------+-------------------+------------------------+--------------------------------+------------------------+---------------+---------------------------+--------------------------+-----------------------------+-----------+------------+--------------+-------------+---------------------+\n",
      "|   1656558028|       734.74414|             23.885|     298.64996|   297.2968|       1.4077454|                297.2968|       298.70456|     267.7786|    283.18985|    291.70233|     293.8981|  295.65723|         2.625|      1.375|    2.1255352|        4.125|        4.375|          1.0|     0.0182|         0.0|    8.422675|         0.0|         0.0|         0.0|        0.0|   0.8779236|     0.7726471|    -5.611496|     5.720599|    2.8374023|    0.6128998|  0.29620972|    0.22042084|    3.4900177|    4.0658875|    -1.089508|    1.4416717|   97478.44|        97565.97| 100995.914|      87.54831|     5869.221|    3148.3918|    1500.6099|    769.78894|       56.0|            1|           36|       0.011733373|            0.0|      4.32016|       118.128|          35268|            25.0|1656633600|      22.911097|  0.00016079682|            1|        2.595|           0.0|           30|        89.1|              58.27585|               0.0|    751.9147|    0.14615919|           25.669336|                             1|            -82.93842|           -67.529655|           -51.575737|           -39.137672|           -29.290472|           -21.140112|           -14.710913|            -9.310003|           -65.09441|             -4.95423|           -1.5585998|            2.4629455|            6.0700316|           -72.12232|               9.2138|            12.611872|            15.726191|            18.676172|             21.57995|             22.92425|            24.248041|            25.053217|          24.911097|               2.3342896|                       24.911097|               27.245386|            0.0|                       97.2|                      62.7|                         99.6|  1.3315234|   -1.190918|     1.7864043|    27.538477|                 31.0|\n",
      "|   1656396030|       745.29095|          23.670713|     298.44647|   298.7042|      -4.4814453|                298.7042|       294.22275|    267.82355|    283.04712|    290.63055|    292.70557|  291.57062|          7.25|      7.125|          7.0|         4.75|          3.0|         2.75|     0.0136|         0.0|      0.1056|         0.0|         0.0|         0.0|        0.0|   1.8305206|      1.935147|    -5.354196|   -2.7930083|    0.9823853|     2.278424|    5.249756|     5.9418306|  -0.15689698|     2.154068|   -1.9947236|    4.1685305|  100296.11|       100504.64|  101046.87|     91.889496|    5860.8013|    3136.7856|    1497.2087|     771.5375|        0.0|            1|           84|               0.0|            0.0|    -2.158056|     -79.88389|          43587|            25.0|1656633600|      17.588923|  0.00010657007|            1|        0.794|           0.0|           78|        71.0|             45.011757|               0.0|   755.23065|  -0.045122072|           27.169336|                             1|             -79.5644|           -67.638435|           -52.601463|           -40.816917|           -32.244682|           -23.206823|           -14.630011|             -9.13999|           -65.17469|            -4.669989|           -0.6559204|            2.4147582|            5.9793944|           -76.23301|             9.419367|            12.058435|            13.491327|            15.620996|            18.591028|            19.662958|            20.552942|            21.242945|          23.197107|               -3.431244|                       23.197107|               19.765863|            0.0|                        8.9|                      69.4|                          1.1|  2.1891284|   3.1935425|      3.871821|   -10.156201|                  8.0|\n",
      "|   1656517219|       738.63715|             23.835|      301.8884|  301.34445|        4.506592|               301.34445|       305.85104|    269.83734|    284.62827|    291.55344|     297.3249|  294.67194|         7.375|      6.625|          1.5|          2.0|        0.375|         4.25|     0.0162|         0.0|    4.121225|         0.0|         0.0|         0.0|        0.0|   0.2519043|    0.28514403|  -0.50044554|     6.074539|     7.445389|    4.7045717|  0.66371614|     0.6400207|    -3.400116|    -1.205246|   -4.6581545|   -0.6956177|  99304.195|        99383.84| 100184.375|     15.333649|    5837.9326|    3092.6917|    1441.3098|    705.81635|       76.0|            1|           48|               0.0|            0.0|    17.624443|     100.09695|          42146|            27.0|1656633600|      23.149988|  0.00003307556|            1|        2.791|           0.0|           42|        92.5|              65.50516|        0.45833334|    746.6321|   0.025179688|           27.749994|                             1|            -80.85348|            -65.48951|           -50.137398|           -37.350014|           -26.330587|            -18.97315|            -12.61167|            -7.654364|           -63.03002|           -3.1981568|            0.3442627|             4.116113|             7.529077|           -72.15295|            10.302332|            13.091852|            15.368891|            17.728418|            20.601679|             21.82171|            22.594995|            23.304956|            24.5487|                1.402008|                         24.5487|               25.950708|            0.0|                      100.0|                      79.1|                        100.0| -0.2574414|  -1.2113159|     1.2383708|    15.769805|                 68.0|\n",
      "|   1656549021|       755.36975|          21.167143|     293.29996|   293.6468|      -0.6422119|                293.6468|       293.00458|     267.1536|    282.63983|    286.85236|     290.3231|  286.90723|         7.375|        6.5|    29.875536|         30.0|         11.0|        8.125|      0.014|         0.0|         0.0|         0.0|         0.0|         0.0|        0.0|  -4.6970763|     -6.777353|   -3.9614959|    -8.279401|   -6.6625977|     -13.8371|   3.3337097|     4.5454206|   -3.7599823|   0.36588746|     5.685492|     4.341672|  101054.44|       101077.97| 101931.914|     165.54831|     5881.721|    3166.6418|    1552.8599|    835.03894|        0.0|            1|           36|               0.0|            0.0|   -15.666667|         46.35|          38517|            18.0|1656633600|          14.85| 0.000070323855|            1| 0.0139999995|           0.0|           36|        68.1|             23.403973|               0.0|    764.1637|    0.21167773|           24.369349|                             1|           -75.269936|           -66.554665|           -54.472115|           -43.029793|           -32.364403|           -23.682364|            -18.53478|           -12.609991|          -63.130028|           -6.3195252|           -1.2546753|            3.4008727|               6.6065|           -71.24514|             6.792413|            7.1830688|             9.975672|            12.858271|            14.608942|            15.858942|            17.301538|            18.402216|           20.99203|             -0.34384155|                        20.99203|               20.648188|            0.0|                        1.4|                       0.0|                          0.0| -4.2110033|    4.625564|      6.255269|   -45.832363|                 20.0|\n",
      "|   1656513023|        753.0059|              27.91|      298.7634|  298.94446|       1.7065735|               298.94446|       300.65103|    269.38736|    283.22827|    292.80344|     296.3999|  297.17194|         2.625|       1.75|        5.375|        1.625|        4.875|        3.625|     0.0244|         0.0|    9.683725|         0.0|         0.0|         0.0|        0.0|   1.3769042|      1.460144|    1.7745545|     8.774539|    14.545389|    6.8295717|   2.0137162|     2.2025208|    -1.000116|    -5.580246|   -7.3581543|   -1.7456176| 100352.195|       100463.84| 100440.375|      38.33365|    5842.9326|    3110.1917|    1460.3098|    725.81635|       24.0|            1|           48|               0.0|            0.0|    11.766667|      79.76667|          40276|            27.0|1656633600|      19.949976|-0.000095302734|            1|        1.982|           0.0|           48|        56.2|              53.75299|               0.0|   752.11975|   0.121503904|             -9999.0|                             0|            -82.40165|             -65.7232|           -50.573387|           -40.120003|           -30.209417|           -21.869238|           -15.018499|            -9.342474|          -65.406044|           -4.3500123|           0.48165283|            3.9654784|             6.257318|           -68.87589|             9.214624|            13.354639|            17.766565|            21.006556|            23.308496|              24.4685|             25.92721|             27.71853|          29.549982|               1.3255005|                       29.549982|               30.875483|            0.0|                      100.0|                      62.0|                         36.2|  6.3682594|  -2.3503222|     6.7881327|   -4.6355243|                  6.0|\n",
      "|   1656526223|        750.5722|          26.842142|     300.94995|   300.5468|       3.2077637|                300.5468|       303.75458|    268.82858|    284.28986|    293.52734|     297.8731|  296.40723|          4.25|        4.0|     5.000535|        3.625|         3.75|        5.875|     0.0208|         0.0|    12.42865|         0.0|         0.0|         0.0|        0.0|   1.2154236|     1.0101471|     3.588504|    4.2455993|    4.2624025|    0.8378998|   1.0712097|    0.89542085|    0.6650177|   0.51588744|   -1.4395081|  -0.35832825|   99678.44|        99789.97| 100319.914|      27.79831|     5845.221|    3113.1418|    1455.1099|    717.53894|       48.0|            1|           36|               0.0|            0.0|      11.9982|       109.219|          34897|            30.0|1656633600|      22.649988|  0.00024307556|            1|        1.942|           0.0|           42|        72.9|              57.74356|               0.0|   748.33624|    0.20717968|           27.649988|                             1|            -84.60348|            -67.03951|           -50.647408|           -38.570015|           -27.680578|            -19.61315|           -13.441656|           -7.8443666|          -61.820015|           -4.1081605|          -0.51572263|            3.1361022|             7.399072|           -71.50295|            11.622339|            14.561853|              17.3789|             20.41842|            23.471674|            24.881708|            26.154993|            26.584955|          27.948694|               1.5020142|                       27.948694|               29.450708|            0.0|                      100.0|                       5.9|                         88.3|  3.0625587|    1.748684|      3.526636|    22.179825|                  3.0|\n",
      "|   1656628215|        724.4031|          27.384285|          NULL|       NULL|         -9999.0|                    NULL|            NULL|         NULL|         NULL|         NULL|         NULL|       NULL|          NULL|       NULL|         NULL|         NULL|         NULL|         NULL|       NULL|        NULL|        NULL|        NULL|        NULL|        NULL|       NULL|        NULL|          NULL|         NULL|         NULL|         NULL|         NULL|        NULL|          NULL|         NULL|         NULL|         NULL|         NULL|       NULL|            NULL|       NULL|          NULL|         NULL|         NULL|         NULL|         NULL|       NULL|            0|         NULL|              NULL|           NULL|    16.233334|         -93.9|          44883|            27.0|1656633600|       24.34997|-0.000004083862|            1|        1.114|           0.0|           12|        80.1|             57.388126|               0.0|    741.2809|   -0.08145166|           28.169336|                             1|            -76.34774|            -68.74438|            -53.83213|           -41.198204|            -30.98847|            -22.59281|           -15.928289|            -9.968542|           -64.88615|           -4.8599916|          -0.41571656|             3.176538|            6.6007934|           -69.75721|             9.899775|            13.380793|            16.909754|            20.000788|            23.479761|            24.720789|             25.98974|            27.305445|          28.045374|              -2.6564636|                       28.045374|                25.38891|            0.0|                       77.7|                      14.0|                         19.7|-0.09404053|   0.9388989|     0.9435967|     9.728437|                 72.0|\n",
      "|   1656471021|       691.94006|          20.747856|     296.91608|   295.2026|       2.8521423|                295.2026|       298.05475|    268.53146|    282.53687|    291.39484|    294.48242|  293.17825|         3.625|       1.75|    5.7500043|         2.75|          4.0|          3.0|     0.0157|         0.0|    11.30745|         0.0|         0.0|         0.0|        0.0|  0.48038942|     0.5833343|   -7.9416046|    5.2420716| -0.032629393|   -0.3000122|-0.081890866|   0.058218382|   -2.1194243|    -4.106763|    -3.013617|  -0.86418456|  96932.234|        96804.28| 101078.664|      94.24371|     5865.945|     3148.458|    1505.8671|     774.8945|       88.0|            1|           60|               0.0|            0.0|        -2.55|     120.36667|          46422|            26.0|1656633600|      20.269312|    3.309326e-7|            1|    1.3449999|           0.0|           60|        95.2|              48.24439|       0.041666668|    711.9916|    0.25899512|            22.56933|                             1|           -80.198814|            -67.25944|             -52.4878|            -39.92942|           -29.950079|           -20.860983|           -14.297857|            -8.903173|           -63.96467|           -5.8931947|           -1.3834289|            2.2342467|             6.060907|            -74.9434|             9.713099|            13.005854|            15.573908|              17.7586|            19.984644|            21.198603|            22.016687|            23.009363|          21.022608|               4.9884644|                       21.022608|               26.011072|            0.0|                       52.6|                       4.2|                         77.7|  0.3179541| -0.38041505|    0.49579272|    26.607204|                 55.0|\n",
      "|   1656607817|        754.5942|          25.987143|     300.65945|   300.6479|       1.4007568|                300.6479|       302.04865|    268.41724|     284.6668|     291.0443|    295.33426|  298.37085|         2.875|       2.25|     3.125003|        5.875|        0.625|        0.625|      0.024|         0.0|     5.74935|         0.0|         0.0|         0.0|        0.0|   2.7369018|      3.312091|     5.592206|     9.477921|     8.123233|    7.2911315| -0.07361145|    -0.3368103|   0.23205566|    2.3274903|   0.37231445|    1.6143525|  100328.93|       100453.11|  100539.85|      48.28235|    5849.7686|     3115.176|    1468.5088|     735.5951|       64.0|            1|           24|     0.00005833308|            0.0|    12.433333|          98.6|          40990|            26.0|1656633600|      24.249994| 0.000004946167|            1|        2.179|           0.0|           18|        82.2|             61.693203|         1.2708334|   752.00104|   0.034004882|             -9999.0|                             0|            -83.65237|            -66.70464|           -50.819695|            -37.98797|           -28.587805|           -20.699026|           -14.167913|            -9.169989|           -65.48937|            -4.674109|          -0.48947755|            3.0832152|             6.567224|           -71.54008|            10.495295|            14.005274|            16.535273|            18.603327|            20.683374|            21.943354|            23.673334|             25.63711|          27.497705|              0.74191284|                       27.497705|               28.239618|            0.0|                      100.0|                      17.9|                        100.0|  3.7774365|  -1.6085962|       4.10568|    12.610655|                  9.0|\n",
      "|   1656629286|         757.466|          28.123571|          NULL|       NULL|         -9999.0|                    NULL|            NULL|         NULL|         NULL|         NULL|         NULL|       NULL|          NULL|       NULL|         NULL|         NULL|         NULL|         NULL|       NULL|        NULL|        NULL|        NULL|        NULL|        NULL|       NULL|        NULL|          NULL|         NULL|         NULL|         NULL|         NULL|        NULL|          NULL|         NULL|         NULL|         NULL|         NULL|       NULL|            NULL|       NULL|          NULL|         NULL|         NULL|         NULL|         NULL|       NULL|            0|         NULL|              NULL|           NULL|          5.5|     153.81667|          46522|            29.0|1656633600|       23.84997| 0.000025916137|            1|        0.414|           0.0|           12|        75.7|             57.112926|       0.041666668|    756.8942|  -0.019451661|             -9999.0|                             0|           -77.827736|           -68.444374|           -52.592125|           -40.448204|           -30.198477|           -21.422812|           -15.108313|            -9.078527|          -63.456154|           -4.7200074|          -0.65570676|            3.3565307|            7.3507934|            -72.7972|             10.75976|             13.44079|            15.799768|            18.090815|            20.229761|            21.500788|            23.299738|             25.43545|          28.445398|              0.34350586|                       28.445398|               28.788904|            0.0|                       41.4|                       0.0|                          0.0| -6.8940406| -0.44110107|      6.908138|    59.328075|              -1178.0|\n",
      "|   1656590431|       731.93353|           27.62143|     304.50946|   302.8979|       -2.999237|                302.8979|       299.89865|    268.14224|     284.8668|     292.9193|    299.40924|  291.87085|         13.25|       11.0|    18.125004|       28.875|        5.625|         9.75|     0.0134|         0.0|         0.0|         0.0|         0.0|         0.0|        0.0|  -1.1380981|    -1.0129089|   -12.757794|   -10.522079|    -7.701767|   -5.6588683|  -1.9861114|    -2.0243104|   -3.9679444|   -3.0725098|   -2.7776856|   -5.2106476|   98488.93|        98661.11|  100979.85|      84.28235|    5889.7686|     3164.176|    1518.5088|     779.8451|       12.0|            1|           24|               0.0|            0.0|    13.316667|        -87.15|          44793|            32.0|1656633600|          23.35| -0.00010257715|            1|        1.326|           0.0|           24|        74.3|             39.562237|               0.0|    751.3947|    0.09423877|           27.769342|                             1|            -77.91221|             -68.1986|            -53.82975|            -41.67289|           -30.960852|           -22.128729|           -15.535955|            -9.606085|           -64.45777|           -5.0760865|          -0.61124265|            3.4490294|            7.2779174|           -70.41404|            10.236536|              12.2279|              15.2279|            19.572718|            23.961298|            26.231287|            28.406519|            30.080011|          28.325617|              -2.6802368|                       28.325617|                25.64538|            0.0|                      100.0|                      32.6|                          0.0| -1.2985547|-0.021843262|     1.2987384|    2.5848663|                 52.0|\n",
      "|   1656381018|        752.7226|          26.544285|     302.52145|   302.6542|       1.6185303|                302.6542|       304.27274|    268.87357|    284.67212|    292.48056|    296.20557|  297.32062|           5.5|       5.25|         13.0|        5.375|        2.625|          1.5|     0.0208|         0.0|     4.31115|         0.0|         0.0|         0.0|        0.0|   4.2805204|      4.610147|    1.7958038|    6.8819914|    11.257385|     7.228424|  0.47475585|    0.56683046|  -0.65689695|    -1.345932|   -2.5697236|    1.2435303|  100104.11|       100200.64|  100458.87|     40.889496|    5846.3013|    3115.7856|    1465.4587|     731.2875|       20.0|            1|           84|               0.0|            0.0|    13.355278|     100.98194|          42210|            29.0|1656633600|      23.588923|0.0000034073487|            1|        1.187|           0.0|           84|        78.0|              59.88748|               0.0|    746.7041|    -0.1722793|           28.369349|                             1|            -83.42046|            -66.83456|           -51.191765|           -38.018074|           -27.937262|           -19.836584|           -13.070013|            -8.438879|             -61.374|           -4.2496095|           -1.3014587|                  3.1|            6.7661376|          -74.940025|            10.599695|            13.451044|            16.928492|            20.131708|            21.788477|            22.723658|            24.803644|             26.90365|          27.830072|               2.3221436|                       27.830072|               30.152216|            0.0|                      100.0|                       0.0|                         18.7|   3.009165|    2.237937|      3.750125|     15.10855|                 13.0|\n",
      "|   1656628215|       721.95807|             25.575|          NULL|       NULL|         -9999.0|                    NULL|            NULL|         NULL|         NULL|         NULL|         NULL|       NULL|          NULL|       NULL|         NULL|         NULL|         NULL|         NULL|       NULL|        NULL|        NULL|        NULL|        NULL|        NULL|       NULL|        NULL|          NULL|         NULL|         NULL|         NULL|         NULL|        NULL|          NULL|         NULL|         NULL|         NULL|         NULL|       NULL|            NULL|       NULL|          NULL|         NULL|         NULL|         NULL|         NULL|       NULL|            0|         NULL|              NULL|           NULL|         21.1|         79.05|          40105|            25.0|1656633600|      23.049982|  0.00008591614|            1|        1.057|           0.0|           12|        81.2|              62.27453|        0.22916667|    724.0354|    0.04854834|           28.469324|                             1|            -79.40774|            -64.43438|           -49.422127|             -35.5082|           -24.908484|           -17.372808|           -11.468298|           -6.5185304|          -63.346153|           -1.8400024|            2.1643004|            5.4965453|             8.950769|          -77.597206|             12.00976|             14.44079|            17.149775|            20.350794|             23.48977|             24.96078|            26.369745|            27.205439|          26.445398|                2.443512|                       26.445398|                28.88891|            0.0|                      100.0|                       0.0|                          5.7|  1.6659595|  -0.9911011|     1.9384794|   -1.3232434|                313.0|\n",
      "|   1656526223|         745.881|           24.92357|     299.02496|   299.2968|       3.8077393|                299.2968|       303.10455|    269.32858|    284.83984|    292.27734|     295.8731|  296.65723|           2.0|        2.5|     5.375535|          6.0|          2.0|          1.5|     0.0191|         0.0|     4.74315|         0.0|         0.0|         0.0|        0.0|   2.9029236|     2.9101472|     4.588504|    12.545599|    13.637403|       8.8379|   2.8462098|     2.8454208|    0.8150177|   0.21588746|    -2.289508|    3.2166717|   99006.44|        99101.97| 100367.914|      32.04831|     5842.221|    3103.3918|    1452.6099|    718.28894|       68.0|            1|           36|               0.0|            0.0|    15.085278|     104.33056|          42180|            28.0|1656633600|          23.35|0.0000030755616|            1|        2.112|           0.0|           42|        89.8|              60.40916|               0.0|    741.4477|   0.017179687|               27.35|                             1|           -83.283485|            -66.21952|             -50.8274|           -37.930016|           -27.600592|           -19.253149|            -12.60166|            -7.554358|          -66.040016|            -4.748175|          -0.68573606|            3.2561278|              7.19906|           -68.51295|            10.472315|            13.491846|            16.568872|            19.758417|            22.251673|             23.32171|            24.084986|             24.47497|          25.148706|                2.302002|                       25.148706|               27.450708|            0.0|                      100.0|                      11.2|                        100.0|  1.4525586|   3.2486842|      3.558634|    18.750603|                128.0|\n",
      "|   1656621543|       741.50653|          25.096428|          NULL|       NULL|         -9999.0|                    NULL|            NULL|         NULL|         NULL|         NULL|         NULL|       NULL|          NULL|       NULL|         NULL|         NULL|         NULL|         NULL|       NULL|        NULL|        NULL|        NULL|        NULL|        NULL|       NULL|        NULL|          NULL|         NULL|         NULL|         NULL|         NULL|        NULL|          NULL|         NULL|         NULL|         NULL|         NULL|       NULL|            NULL|       NULL|          NULL|         NULL|         NULL|         NULL|         NULL|       NULL|            0|         NULL|              NULL|           NULL|    16.051666|     103.66417|          42177|            27.0|1656633600|      22.949976|  0.00006591614|            1|    1.9369999|           0.0|           12|        77.9|              58.98333|               0.0|    739.8767|    0.01854834|           28.669336|                             1|            -83.66773|            -66.42437|           -50.062126|           -37.338203|           -27.328482|           -19.612814|           -13.288305|            -8.388525|           -65.80616|           -4.7599854|          -0.11569824|            3.9465575|              7.68078|            -69.4372|            11.229761|            13.830774|             16.77978|            20.230799|             23.48977|            24.350794|            24.649744|            26.285456|           27.14538|               3.6435242|                        27.14538|               30.788904|            0.0|                      100.0|                       0.5|                         93.2|  2.9859595|   1.6688989|     3.4206984|    18.466656|                146.0|\n",
      "|   1656620644|        755.3295|          26.928572|          NULL|       NULL|         -9999.0|                    NULL|            NULL|         NULL|         NULL|         NULL|         NULL|       NULL|          NULL|       NULL|         NULL|         NULL|         NULL|         NULL|       NULL|        NULL|        NULL|        NULL|        NULL|        NULL|       NULL|        NULL|          NULL|         NULL|         NULL|         NULL|         NULL|        NULL|          NULL|         NULL|         NULL|         NULL|         NULL|       NULL|            NULL|       NULL|          NULL|         NULL|         NULL|         NULL|         NULL|       NULL|            0|         NULL|              NULL|           NULL|    16.086666|     120.35222|          46785|            25.0|1656633600|       23.34997|  0.00004591614|            1|        2.802|           0.0|           12|        95.5|             67.519325|          9.479167|    752.2738|   -0.05845166|           25.469324|                             1|            -85.61773|           -66.694374|           -50.092125|           -36.888206|           -26.338476|           -18.742819|           -12.478308|           -7.1385255|          -62.066154|           -2.9700074|           0.23430786|            4.2265563|            7.0707946|           -70.20721|             9.309778|            12.210779|            14.809778|            17.390802|            19.439753|            20.370783|            21.289759|             22.40545|           24.14538|             -0.15646362|                        24.14538|               23.988916|            0.0|                      100.0|                      80.2|                        100.0| -1.7540405|   0.9388989|     1.9895198|    33.717346|                 -1.0|\n",
      "|   1656631444|        755.3295|          26.928572|          NULL|       NULL|         -9999.0|                    NULL|            NULL|         NULL|         NULL|         NULL|         NULL|       NULL|          NULL|       NULL|         NULL|         NULL|         NULL|         NULL|       NULL|        NULL|        NULL|        NULL|        NULL|        NULL|       NULL|        NULL|          NULL|         NULL|         NULL|         NULL|         NULL|        NULL|          NULL|         NULL|         NULL|         NULL|         NULL|       NULL|            NULL|       NULL|          NULL|         NULL|         NULL|         NULL|         NULL|       NULL|            0|         NULL|              NULL|           NULL|    16.086666|     120.35222|          46785|            25.0|1656633600|       23.34997|  0.00004591614|            1|        2.802|           0.0|           12|        95.5|             67.519325|          9.479167|    752.2738|   -0.05845166|           25.469324|                             1|            -85.61773|           -66.694374|           -50.092125|           -36.888206|           -26.338476|           -18.742819|           -12.478308|           -7.1385255|          -62.066154|           -2.9700074|           0.23430786|            4.2265563|            7.0707946|           -70.20721|             9.309778|            12.210779|            14.809778|            17.390802|            19.439753|            20.370783|            21.289759|             22.40545|           24.14538|             -0.15646362|                        24.14538|               23.988916|            0.0|                      100.0|                      80.2|                        100.0| -1.7540405|   0.9388989|     1.9895198|    33.717346|                 -1.0|\n",
      "|   1656432623|       734.74414|             23.885|      298.7652|   298.1402|     -0.36846924|                298.1402|       297.77173|     267.9501|    283.10834|    291.60843|     294.9453|  297.11542|         1.625|      0.875|    1.6276755|          4.5|          0.0|        0.125|     0.0194|         0.0|     46.8957|         0.0|         0.0|         0.0|   0.000175|  0.76986086|     0.6802338|   -2.4487762|     5.946457|    3.1816285|    2.1223755|  0.97850645|     0.9967041|     3.509439|    0.6625519|     4.653537|    3.1609435|   97474.69|       97492.195|  100968.36|     85.335785|    5863.5137|    3146.1753|    1503.0948|     769.5684|       80.0|            1|           72|         2.0861332|            0.0|      4.32016|       118.128|          35268|            25.0|1656633600|      23.550013|  0.00015411108|            1|        1.881|           0.0|           66|        90.9|             60.927597|       0.104166664|   752.10565|     0.0441875|           25.369349|                             1|            -79.60357|           -67.546364|               -51.54|           -39.566063|            -29.58689|             -21.1601|           -14.804174|            -8.590002|          -65.238014|            -4.388434|           -1.1897033|            2.8662047|            5.6823363|           -74.66358|             9.229639|            12.504877|           15.6922245|             18.29223|            20.394129|            21.595728|            22.524134|            23.788752|           25.21377|                1.242981|                        25.21377|                26.45675|            0.0|                       97.4|                      13.6|                         77.1|  2.0885694|   0.0597583|     2.0894241|    27.538477|                 31.0|\n",
      "|   1656630364|        763.2363|          28.356428|          NULL|       NULL|         -9999.0|                    NULL|            NULL|         NULL|         NULL|         NULL|         NULL|       NULL|          NULL|       NULL|         NULL|         NULL|         NULL|         NULL|       NULL|        NULL|        NULL|        NULL|        NULL|        NULL|       NULL|        NULL|          NULL|         NULL|         NULL|         NULL|         NULL|        NULL|          NULL|         NULL|         NULL|         NULL|         NULL|       NULL|            NULL|       NULL|          NULL|         NULL|         NULL|         NULL|         NULL|       NULL|            0|         NULL|              NULL|           NULL|       25.039|      -77.4662|          24090|            29.0|1656633600|      23.449976|  0.00004591614|            1|        1.215|           0.0|           12|        76.7|              44.73533|       0.020833334|    764.2028|    0.04954834|             -9999.0|                             0|            -69.13773|            -66.47437|           -56.282127|             -43.9582|            -33.49848|           -25.322805|           -18.078299|           -11.988531|           -61.55616|           -6.5700135|           -2.4757142|            1.5165344|            5.2207885|           -68.39721|             8.739771|            12.130793|            15.119776|            17.530787|            19.789759|            20.230768|             21.99975|            24.105463|          27.945398|             0.043518066|                       27.945398|               27.988916|            0.0|                      100.0|                       4.4|                         17.1| -7.4240403|  0.67889893|      7.455017|   -0.9366992|                  6.0|\n",
      "|   1656513023|       692.99695|          19.757143|      295.2384|  290.59445|      -1.9434204|               290.59445|       288.65103|    266.63736|    280.45328|    292.72845|     293.1499|  279.92194|         13.75|       10.5|       28.625|       10.875|       14.125|        12.75|     0.0068|         0.0|         0.0|         0.0|         0.0|         0.0|        0.0|  -2.3730958|     -2.414856|    5.3745546|    1.5995392|    -5.429611|   -2.4204285|   0.6762161|    0.66502076|    -3.925116|    -7.605246|   -1.1331543|   0.65438235|  92264.195|        92287.84| 101524.375|     131.58365|    5885.9326|    3166.1917|    1538.8098|    805.31635|        0.0|            1|           48|               0.0|            0.0|   -16.666668|        -49.25|          42936|            24.0|1656633600|      4.6499877| -0.00008830273|            1|         0.42|           0.0|           48|        32.8|             15.317793|               0.0|   695.46295|  -0.025496094|           25.149988|                             1|            -73.84164|             -69.5232|           -55.853386|           -42.620003|            -32.41941|           -25.529242|           -19.558493|           -12.362463|           -60.63604|            -6.380011|           -1.1283325|            4.1654906|             6.607324|            -72.8959|            6.2746215|            11.554621|             16.63656|             21.15655|            24.338495|            22.618494|            23.897211|            25.348505|          21.649988|               -2.074524|                       21.649988|               19.575464|            0.0|                       42.0|                       0.0|                          0.0| -1.6217407|   1.4096777|      2.148775|   -43.444935|                753.0|\n",
      "+-------------+----------------+-------------------+--------------+-----------+----------------+------------------------+----------------+-------------+-------------+-------------+-------------+-----------+--------------+-----------+-------------+-------------+-------------+-------------+-----------+------------+------------+------------+------------+------------+-----------+------------+--------------+-------------+-------------+-------------+-------------+------------+--------------+-------------+-------------+-------------+-------------+-----------+----------------+-----------+--------------+-------------+-------------+-------------+-------------+-----------+-------------+-------------+------------------+---------------+-------------+--------------+---------------+----------------+----------+---------------+---------------+-------------+-------------+--------------+-------------+------------+----------------------+------------------+------------+--------------+--------------------+------------------------------+---------------------+---------------------+---------------------+---------------------+---------------------+---------------------+---------------------+---------------------+--------------------+---------------------+---------------------+---------------------+---------------------+--------------------+---------------------+---------------------+---------------------+---------------------+---------------------+---------------------+---------------------+---------------------+-------------------+------------------------+--------------------------------+------------------------+---------------+---------------------------+--------------------------+-----------------------------+-----------+------------+--------------+-------------+---------------------+\n",
      "\n"
     ]
    }
   ],
   "source": [
    "from pyspark.sql import SparkSession\n",
    "spark=SparkSession.builder.appName(\"Null_values\").getOrCreate()\n",
    "csv_path=r\"C:\\Users\\Vamsi\\Downloads\\archive (2)\\weather_preview.csv\"\n",
    "df=spark.read.csv(csv_path,header=True)\n",
    "df.show()\n"
   ]
  },
  {
   "cell_type": "code",
   "execution_count": 29,
   "id": "b17dbbac",
   "metadata": {},
   "outputs": [
    {
     "name": "stdout",
     "output_type": "stream",
     "text": [
      "root\n",
      " |-- apply_time_rl: string (nullable = true)\n",
      " |-- climate_pressure: string (nullable = true)\n",
      " |-- climate_temperature: string (nullable = true)\n",
      " |-- cmc_0_0_0_1000: string (nullable = true)\n",
      " |-- cmc_0_0_0_2: string (nullable = true)\n",
      " |-- cmc_0_0_0_2_grad: string (nullable = true)\n",
      " |-- cmc_0_0_0_2_interpolated: string (nullable = true)\n",
      " |-- cmc_0_0_0_2_next: string (nullable = true)\n",
      " |-- cmc_0_0_0_500: string (nullable = true)\n",
      " |-- cmc_0_0_0_700: string (nullable = true)\n",
      " |-- cmc_0_0_0_850: string (nullable = true)\n",
      " |-- cmc_0_0_0_925: string (nullable = true)\n",
      " |-- cmc_0_0_6_2: string (nullable = true)\n",
      " |-- cmc_0_0_7_1000: string (nullable = true)\n",
      " |-- cmc_0_0_7_2: string (nullable = true)\n",
      " |-- cmc_0_0_7_500: string (nullable = true)\n",
      " |-- cmc_0_0_7_700: string (nullable = true)\n",
      " |-- cmc_0_0_7_850: string (nullable = true)\n",
      " |-- cmc_0_0_7_925: string (nullable = true)\n",
      " |-- cmc_0_1_0_0: string (nullable = true)\n",
      " |-- cmc_0_1_11_0: string (nullable = true)\n",
      " |-- cmc_0_1_65_0: string (nullable = true)\n",
      " |-- cmc_0_1_66_0: string (nullable = true)\n",
      " |-- cmc_0_1_67_0: string (nullable = true)\n",
      " |-- cmc_0_1_68_0: string (nullable = true)\n",
      " |-- cmc_0_1_7_0: string (nullable = true)\n",
      " |-- cmc_0_2_2_10: string (nullable = true)\n",
      " |-- cmc_0_2_2_1000: string (nullable = true)\n",
      " |-- cmc_0_2_2_500: string (nullable = true)\n",
      " |-- cmc_0_2_2_700: string (nullable = true)\n",
      " |-- cmc_0_2_2_850: string (nullable = true)\n",
      " |-- cmc_0_2_2_925: string (nullable = true)\n",
      " |-- cmc_0_2_3_10: string (nullable = true)\n",
      " |-- cmc_0_2_3_1000: string (nullable = true)\n",
      " |-- cmc_0_2_3_500: string (nullable = true)\n",
      " |-- cmc_0_2_3_700: string (nullable = true)\n",
      " |-- cmc_0_2_3_850: string (nullable = true)\n",
      " |-- cmc_0_2_3_925: string (nullable = true)\n",
      " |-- cmc_0_3_0_0: string (nullable = true)\n",
      " |-- cmc_0_3_0_0_next: string (nullable = true)\n",
      " |-- cmc_0_3_1_0: string (nullable = true)\n",
      " |-- cmc_0_3_5_1000: string (nullable = true)\n",
      " |-- cmc_0_3_5_500: string (nullable = true)\n",
      " |-- cmc_0_3_5_700: string (nullable = true)\n",
      " |-- cmc_0_3_5_850: string (nullable = true)\n",
      " |-- cmc_0_3_5_925: string (nullable = true)\n",
      " |-- cmc_0_6_1_0: string (nullable = true)\n",
      " |-- cmc_available: string (nullable = true)\n",
      " |-- cmc_horizon_h: string (nullable = true)\n",
      " |-- cmc_precipitations: string (nullable = true)\n",
      " |-- cmc_timedelta_s: string (nullable = true)\n",
      " |-- fact_latitude: string (nullable = true)\n",
      " |-- fact_longitude: string (nullable = true)\n",
      " |-- fact_station_id: string (nullable = true)\n",
      " |-- fact_temperature: string (nullable = true)\n",
      " |-- fact_time: string (nullable = true)\n",
      " |-- gfs_2m_dewpoint: string (nullable = true)\n",
      " |-- gfs_a_vorticity: string (nullable = true)\n",
      " |-- gfs_available: string (nullable = true)\n",
      " |-- gfs_cloudness: string (nullable = true)\n",
      " |-- gfs_clouds_sea: string (nullable = true)\n",
      " |-- gfs_horizon_h: string (nullable = true)\n",
      " |-- gfs_humidity: string (nullable = true)\n",
      " |-- gfs_precipitable_water: string (nullable = true)\n",
      " |-- gfs_precipitations: string (nullable = true)\n",
      " |-- gfs_pressure: string (nullable = true)\n",
      " |-- gfs_r_velocity: string (nullable = true)\n",
      " |-- gfs_soil_temperature: string (nullable = true)\n",
      " |-- gfs_soil_temperature_available: string (nullable = true)\n",
      " |-- gfs_temperature_10000: string (nullable = true)\n",
      " |-- gfs_temperature_15000: string (nullable = true)\n",
      " |-- gfs_temperature_20000: string (nullable = true)\n",
      " |-- gfs_temperature_25000: string (nullable = true)\n",
      " |-- gfs_temperature_30000: string (nullable = true)\n",
      " |-- gfs_temperature_35000: string (nullable = true)\n",
      " |-- gfs_temperature_40000: string (nullable = true)\n",
      " |-- gfs_temperature_45000: string (nullable = true)\n",
      " |-- gfs_temperature_5000: string (nullable = true)\n",
      " |-- gfs_temperature_50000: string (nullable = true)\n",
      " |-- gfs_temperature_55000: string (nullable = true)\n",
      " |-- gfs_temperature_60000: string (nullable = true)\n",
      " |-- gfs_temperature_65000: string (nullable = true)\n",
      " |-- gfs_temperature_7000: string (nullable = true)\n",
      " |-- gfs_temperature_70000: string (nullable = true)\n",
      " |-- gfs_temperature_75000: string (nullable = true)\n",
      " |-- gfs_temperature_80000: string (nullable = true)\n",
      " |-- gfs_temperature_85000: string (nullable = true)\n",
      " |-- gfs_temperature_90000: string (nullable = true)\n",
      " |-- gfs_temperature_92500: string (nullable = true)\n",
      " |-- gfs_temperature_95000: string (nullable = true)\n",
      " |-- gfs_temperature_97500: string (nullable = true)\n",
      " |-- gfs_temperature_sea: string (nullable = true)\n",
      " |-- gfs_temperature_sea_grad: string (nullable = true)\n",
      " |-- gfs_temperature_sea_interpolated: string (nullable = true)\n",
      " |-- gfs_temperature_sea_next: string (nullable = true)\n",
      " |-- gfs_timedelta_s: string (nullable = true)\n",
      " |-- gfs_total_clouds_cover_high: string (nullable = true)\n",
      " |-- gfs_total_clouds_cover_low: string (nullable = true)\n",
      " |-- gfs_total_clouds_cover_middle: string (nullable = true)\n",
      " |-- gfs_u_wind: string (nullable = true)\n",
      " |-- gfs_v_wind: string (nullable = true)\n",
      " |-- gfs_wind_speed: string (nullable = true)\n",
      " |-- sun_elevation: string (nullable = true)\n",
      " |-- topography_bathymetry: string (nullable = true)\n",
      "\n"
     ]
    }
   ],
   "source": [
    "from pyspark.sql import SparkSession\n",
    "spark=SparkSession.builder.appName(\"Null_values\").getOrCreate()\n",
    "csv_path=r\"C:\\Users\\Vamsi\\Downloads\\archive (2)\\weather_preview.csv\"\n",
    "df=spark.read.csv(csv_path,header=True)\n",
    "df.printSchema()"
   ]
  },
  {
   "cell_type": "code",
   "execution_count": 26,
   "id": "8646b2ab",
   "metadata": {},
   "outputs": [
    {
     "name": "stdout",
     "output_type": "stream",
     "text": [
      "+-------------------+----------------+\n",
      "|climate_temperature|climate_pressure|\n",
      "+-------------------+----------------+\n",
      "|             23.885|       734.74414|\n",
      "|             23.835|       738.63715|\n",
      "|              27.91|        753.0059|\n",
      "+-------------------+----------------+\n",
      "only showing top 3 rows\n",
      "\n"
     ]
    }
   ],
   "source": [
    "from pyspark.sql import SparkSession\n",
    "spark=SparkSession.builder.appName(\"Null_values\").getOrCreate()\n",
    "csv_path=r\"C:\\Users\\Vamsi\\Downloads\\archive (2)\\weather_preview.csv\"\n",
    "df=spark.read.csv(csv_path,header=True)\n",
    "df_filter=df.filter((df['climate_temperature']> 25) | (df['topography_bathymetry']> 25)).select('climate_temperature','climate_pressure').show(3)"
   ]
  },
  {
   "cell_type": "code",
   "execution_count": 35,
   "id": "8ac74547",
   "metadata": {},
   "outputs": [
    {
     "name": "stdout",
     "output_type": "stream",
     "text": [
      "+--------------+---------+------+---------+-------+---------+----------+-------------+------------------+---------------------+----------------------+-------------------+-------------+-----------------+---------------+\n",
      "|Country/Region|Confirmed|Deaths|Recovered| Active|New cases|New deaths|New recovered|Deaths / 100 Cases|Recovered / 100 Cases|Deaths / 100 Recovered|Confirmed last week|1 week change|1 week % increase|     WHO Region|\n",
      "+--------------+---------+------+---------+-------+---------+----------+-------------+------------------+---------------------+----------------------+-------------------+-------------+-----------------+---------------+\n",
      "|        Brazil|  2442375| 87618|  1846641| 508116|    23284|       614|        33728|              3.59|                75.61|                  4.74|            2118646|       323729|            15.28|       Americas|\n",
      "|         India|  1480073| 33408|   951166| 495499|    44457|       637|        33598|              2.26|                64.26|                  3.51|            1155338|       324735|            28.11|South-East Asia|\n",
      "|        Russia|   816680| 13334|   602249| 201097|     5607|        85|         3077|              1.63|                73.74|                  2.21|             776212|        40468|             5.21|         Europe|\n",
      "|            US|  4290259|148011|  1325804|2816444|    56336|      1076|        27941|              3.45|                 30.9|                 11.16|            3834677|       455582|            11.88|       Americas|\n",
      "+--------------+---------+------+---------+-------+---------+----------+-------------+------------------+---------------------+----------------------+-------------------+-------------+-----------------+---------------+\n",
      "\n"
     ]
    }
   ],
   "source": [
    "from pyspark.sql import SparkSession\n",
    "spark=SparkSession.builder.appName(\"goat\").getOrCreate()\n",
    "df=spark.read.csv(r\"C:\\Users\\Vamsi\\Downloads\\archive\\country_wise_latest.csv\",header=True)\n",
    "df=df.filter(df['Confirmed']>650000)\n",
    "df.show()"
   ]
  },
  {
   "cell_type": "code",
   "execution_count": 38,
   "id": "2689d88e",
   "metadata": {},
   "outputs": [
    {
     "name": "stdout",
     "output_type": "stream",
     "text": [
      "+--------------+-----+\n",
      "|Country/Region|count|\n",
      "+--------------+-----+\n",
      "|          Chad|    1|\n",
      "|      Paraguay|    1|\n",
      "|        Russia|    1|\n",
      "|         Yemen|    1|\n",
      "|       Senegal|    1|\n",
      "|    Cabo Verde|    1|\n",
      "|        Sweden|    1|\n",
      "|        Guyana|    1|\n",
      "|         Burma|    1|\n",
      "|       Eritrea|    1|\n",
      "|   Philippines|    1|\n",
      "|      Djibouti|    1|\n",
      "|      Malaysia|    1|\n",
      "|     Singapore|    1|\n",
      "|          Fiji|    1|\n",
      "|        Turkey|    1|\n",
      "|        Malawi|    1|\n",
      "|Western Sahara|    1|\n",
      "|          Iraq|    1|\n",
      "|       Germany|    1|\n",
      "+--------------+-----+\n",
      "only showing top 20 rows\n",
      "\n"
     ]
    }
   ],
   "source": [
    "from pyspark.sql import SparkSession\n",
    "spark=SparkSession.builder.appName(\"goat\").getOrCreate()\n",
    "df=spark.read.csv(r\"C:\\Users\\Vamsi\\Downloads\\archive\\country_wise_latest.csv\",header=True)\n",
    "df.groupBy('Country/Region').count().show()"
   ]
  },
  {
   "cell_type": "code",
   "execution_count": 39,
   "id": "dc0a8d5d",
   "metadata": {},
   "outputs": [
    {
     "name": "stdout",
     "output_type": "stream",
     "text": [
      "+--------------+\n",
      "|Country/Region|\n",
      "+--------------+\n",
      "|          Chad|\n",
      "|      Paraguay|\n",
      "|        Russia|\n",
      "|         Yemen|\n",
      "|       Senegal|\n",
      "|    Cabo Verde|\n",
      "|        Sweden|\n",
      "|        Guyana|\n",
      "|         Burma|\n",
      "|       Eritrea|\n",
      "|   Philippines|\n",
      "|      Djibouti|\n",
      "|      Malaysia|\n",
      "|     Singapore|\n",
      "|          Fiji|\n",
      "|        Turkey|\n",
      "|        Malawi|\n",
      "|Western Sahara|\n",
      "|          Iraq|\n",
      "|       Germany|\n",
      "+--------------+\n",
      "only showing top 20 rows\n",
      "\n"
     ]
    }
   ],
   "source": [
    "from pyspark.sql import SparkSession\n",
    "spark=SparkSession.builder.appName(\"goat\").getOrCreate()\n",
    "df=spark.read.csv(r\"C:\\Users\\Vamsi\\Downloads\\archive\\country_wise_latest.csv\",header=True)\n",
    "df.groupBy('Country/Region').max().show()"
   ]
  }
 ],
 "metadata": {
  "kernelspec": {
   "display_name": "Python 3",
   "language": "python",
   "name": "python3"
  },
  "language_info": {
   "codemirror_mode": {
    "name": "ipython",
    "version": 3
   },
   "file_extension": ".py",
   "mimetype": "text/x-python",
   "name": "python",
   "nbconvert_exporter": "python",
   "pygments_lexer": "ipython3",
   "version": "3.10.11"
  }
 },
 "nbformat": 4,
 "nbformat_minor": 5
}
