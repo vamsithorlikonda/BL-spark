{
 "cells": [
  {
   "cell_type": "code",
   "execution_count": 2,
   "id": "c2df1882",
   "metadata": {},
   "outputs": [
    {
     "name": "stdout",
     "output_type": "stream",
     "text": [
      "+-------+---+\n",
      "|   Name|Age|\n",
      "+-------+---+\n",
      "|  vamsi| 20|\n",
      "|krishna| 21|\n",
      "+-------+---+\n",
      "\n"
     ]
    }
   ],
   "source": [
    "from pyspark.sql import SparkSession\n",
    "spark=SparkSession.builder.appName(\"Creating_dataframes\").getOrCreate()\n",
    "rows=[[\"vamsi\",20],[\"krishna\",21]]\n",
    "cols=[\"Name\",\"Age\"]\n",
    "df=spark.createDataFrame(rows,cols)\n",
    "df.show()"
   ]
  },
  {
   "cell_type": "code",
   "execution_count": 3,
   "id": "b4df5666",
   "metadata": {},
   "outputs": [
    {
     "name": "stdout",
     "output_type": "stream",
     "text": [
      "+---+------+-------+----------+----------+----------+---------------+--------------------+--------------------+--------------------+--------------------+-------------+--------------------+-------+-------------+-----------+------------+----------+------+-----------+--------------+\n",
      "|_c0|    id| season|      city|      date|match_type|player_of_match|               venue|               team1|               team2|         toss_winner|toss_decision|              winner| result|result_margin|target_runs|target_overs|super_over|method|    umpire1|       umpire2|\n",
      "+---+------+-------+----------+----------+----------+---------------+--------------------+--------------------+--------------------+--------------------+-------------+--------------------+-------+-------------+-----------+------------+----------+------+-----------+--------------+\n",
      "|  0|335982|2007/08| Bangalore|2008-04-18|    League|    BB McCullum|M Chinnaswamy Sta...|Royal Challengers...|Kolkata Knight Ri...|Royal Challengers...|        field|Kolkata Knight Ri...|   runs|        140.0|      223.0|        20.0|         N|  NULL|  Asad Rauf|   RE Koertzen|\n",
      "|  1|335983|2007/08|Chandigarh|2008-04-19|    League|     MEK Hussey|Punjab Cricket As...|     Kings XI Punjab| Chennai Super Kings| Chennai Super Kings|          bat| Chennai Super Kings|   runs|         33.0|      241.0|        20.0|         N|  NULL|  MR Benson|    SL Shastri|\n",
      "|  2|335984|2007/08|     Delhi|2008-04-19|    League|    MF Maharoof|    Feroz Shah Kotla|    Delhi Daredevils|    Rajasthan Royals|    Rajasthan Royals|          bat|    Delhi Daredevils|wickets|          9.0|      130.0|        20.0|         N|  NULL|  Aleem Dar|GA Pratapkumar|\n",
      "|  3|335985|2007/08|    Mumbai|2008-04-20|    League|     MV Boucher|    Wankhede Stadium|      Mumbai Indians|Royal Challengers...|      Mumbai Indians|          bat|Royal Challengers...|wickets|          5.0|      166.0|        20.0|         N|  NULL|   SJ Davis|     DJ Harper|\n",
      "|  4|335986|2007/08|   Kolkata|2008-04-20|    League|      DJ Hussey|        Eden Gardens|Kolkata Knight Ri...|     Deccan Chargers|     Deccan Chargers|          bat|Kolkata Knight Ri...|wickets|          5.0|      111.0|        20.0|         N|  NULL|  BF Bowden|   K Hariharan|\n",
      "|  5|335987|2007/08|    Jaipur|2008-04-21|    League|      SR Watson|Sawai Mansingh St...|    Rajasthan Royals|     Kings XI Punjab|     Kings XI Punjab|          bat|    Rajasthan Royals|wickets|          6.0|      167.0|        20.0|         N|  NULL|  Aleem Dar|     RB Tiffin|\n",
      "|  6|335988|2007/08| Hyderabad|2008-04-22|    League|       V Sehwag|Rajiv Gandhi Inte...|     Deccan Chargers|    Delhi Daredevils|     Deccan Chargers|          bat|    Delhi Daredevils|wickets|          9.0|      143.0|        20.0|         N|  NULL|  IL Howell|     AM Saheba|\n",
      "|  7|335989|2007/08|   Chennai|2008-04-23|    League|      ML Hayden|MA Chidambaram St...| Chennai Super Kings|      Mumbai Indians|      Mumbai Indians|        field| Chennai Super Kings|   runs|          6.0|      209.0|        20.0|         N|  NULL|  DJ Harper|GA Pratapkumar|\n",
      "|  8|335990|2007/08| Hyderabad|2008-04-24|    League|      YK Pathan|Rajiv Gandhi Inte...|     Deccan Chargers|    Rajasthan Royals|    Rajasthan Royals|        field|    Rajasthan Royals|wickets|          3.0|      215.0|        20.0|         N|  NULL|  Asad Rauf|     MR Benson|\n",
      "|  9|335991|2007/08|Chandigarh|2008-04-25|    League|  KC Sangakkara|Punjab Cricket As...|     Kings XI Punjab|      Mumbai Indians|      Mumbai Indians|        field|     Kings XI Punjab|   runs|         66.0|      183.0|        20.0|         N|  NULL|  Aleem Dar|     AM Saheba|\n",
      "| 10|335992|2007/08| Bangalore|2008-04-26|    League|      SR Watson|M Chinnaswamy Sta...|Royal Challengers...|    Rajasthan Royals|    Rajasthan Royals|        field|    Rajasthan Royals|wickets|          7.0|      136.0|        20.0|         N|  NULL|  MR Benson|     IL Howell|\n",
      "| 11|335993|2007/08|   Chennai|2008-04-26|    League|       JDP Oram|MA Chidambaram St...| Chennai Super Kings|Kolkata Knight Ri...|Kolkata Knight Ri...|          bat| Chennai Super Kings|wickets|          9.0|      148.0|        20.0|         N|  NULL|  BF Bowden|AV Jayaprakash|\n",
      "| 12|335994|2007/08|    Mumbai|2008-04-27|    League|   AC Gilchrist|Dr DY Patil Sport...|      Mumbai Indians|     Deccan Chargers|     Deccan Chargers|        field|     Deccan Chargers|wickets|         10.0|      155.0|        20.0|         N|  NULL|  Asad Rauf|    SL Shastri|\n",
      "| 13|335995|2007/08|Chandigarh|2008-04-27|    League|      SM Katich|Punjab Cricket As...|     Kings XI Punjab|    Delhi Daredevils|    Delhi Daredevils|          bat|     Kings XI Punjab|wickets|          4.0|      159.0|        20.0|         N|  NULL|RE Koertzen|     I Shivram|\n",
      "| 14|335996|2007/08| Bangalore|2008-04-28|    League|       MS Dhoni|M Chinnaswamy Sta...|Royal Challengers...| Chennai Super Kings| Chennai Super Kings|          bat| Chennai Super Kings|   runs|         13.0|      179.0|        20.0|         N|  NULL|BR Doctrove|     RB Tiffin|\n",
      "| 15|335997|2007/08|   Kolkata|2008-04-29|    League|  ST Jayasuriya|        Eden Gardens|Kolkata Knight Ri...|      Mumbai Indians|Kolkata Knight Ri...|          bat|      Mumbai Indians|wickets|          7.0|      138.0|        20.0|         N|  NULL|  BF Bowden|AV Jayaprakash|\n",
      "| 16|335998|2007/08|     Delhi|2008-04-30|    League|     GD McGrath|    Feroz Shah Kotla|    Delhi Daredevils|Royal Challengers...|Royal Challengers...|        field|    Delhi Daredevils|   runs|         10.0|      192.0|        20.0|         N|  NULL|  Aleem Dar|     I Shivram|\n",
      "| 17|335999|2007/08| Hyderabad|2008-05-01|    League|       SE Marsh|Rajiv Gandhi Inte...|     Deccan Chargers|     Kings XI Punjab|     Kings XI Punjab|        field|     Kings XI Punjab|wickets|          7.0|      165.0|        20.0|         N|  NULL|BR Doctrove|     RB Tiffin|\n",
      "| 18|336000|2007/08|    Jaipur|2008-05-01|    League|    SA Asnodkar|Sawai Mansingh St...|    Rajasthan Royals|Kolkata Knight Ri...|    Rajasthan Royals|          bat|    Rajasthan Royals|   runs|         45.0|      197.0|        20.0|         N|  NULL|RE Koertzen|GA Pratapkumar|\n",
      "| 19|336001|2007/08|   Chennai|2008-05-02|    League|       V Sehwag|MA Chidambaram St...| Chennai Super Kings|    Delhi Daredevils| Chennai Super Kings|          bat|    Delhi Daredevils|wickets|          8.0|      170.0|        20.0|         N|  NULL|  BF Bowden|   K Hariharan|\n",
      "+---+------+-------+----------+----------+----------+---------------+--------------------+--------------------+--------------------+--------------------+-------------+--------------------+-------+-------------+-----------+------------+----------+------+-----------+--------------+\n",
      "only showing top 20 rows\n",
      "\n"
     ]
    }
   ],
   "source": [
    "csv_path=r\"C:\\Users\\Vamsi\\Downloads\\archive (1)\\output1_csv.csv\"\n",
    "df=spark.read.csv(csv_path,header=True)\n",
    "df.show()"
   ]
  },
  {
   "cell_type": "code",
   "execution_count": 4,
   "id": "b587ec25",
   "metadata": {},
   "outputs": [
    {
     "name": "stdout",
     "output_type": "stream",
     "text": [
      "+---+------+-------+----------+----------+----------+---------------+--------------------+--------------------+--------------------+--------------------+-------------+--------------------+-------+-------------+-----------+------------+----------+------+-----------+--------------+\n",
      "|_c0|    id| season|      city|      date|match_type|player_of_match|               venue|               team1|               team2|         toss_winner|toss_decision|              winner| result|result_margin|target_runs|target_overs|super_over|method|    umpire1|       umpire2|\n",
      "+---+------+-------+----------+----------+----------+---------------+--------------------+--------------------+--------------------+--------------------+-------------+--------------------+-------+-------------+-----------+------------+----------+------+-----------+--------------+\n",
      "|  0|335982|2007/08| Bangalore|2008-04-18|    League|    BB McCullum|M Chinnaswamy Sta...|Royal Challengers...|Kolkata Knight Ri...|Royal Challengers...|        field|Kolkata Knight Ri...|   runs|        140.0|      223.0|        20.0|         N|  NULL|  Asad Rauf|   RE Koertzen|\n",
      "|  1|335983|2007/08|Chandigarh|2008-04-19|    League|     MEK Hussey|Punjab Cricket As...|     Kings XI Punjab| Chennai Super Kings| Chennai Super Kings|          bat| Chennai Super Kings|   runs|         33.0|      241.0|        20.0|         N|  NULL|  MR Benson|    SL Shastri|\n",
      "|  2|335984|2007/08|     Delhi|2008-04-19|    League|    MF Maharoof|    Feroz Shah Kotla|    Delhi Daredevils|    Rajasthan Royals|    Rajasthan Royals|          bat|    Delhi Daredevils|wickets|          9.0|      130.0|        20.0|         N|  NULL|  Aleem Dar|GA Pratapkumar|\n",
      "|  3|335985|2007/08|    Mumbai|2008-04-20|    League|     MV Boucher|    Wankhede Stadium|      Mumbai Indians|Royal Challengers...|      Mumbai Indians|          bat|Royal Challengers...|wickets|          5.0|      166.0|        20.0|         N|  NULL|   SJ Davis|     DJ Harper|\n",
      "|  4|335986|2007/08|   Kolkata|2008-04-20|    League|      DJ Hussey|        Eden Gardens|Kolkata Knight Ri...|     Deccan Chargers|     Deccan Chargers|          bat|Kolkata Knight Ri...|wickets|          5.0|      111.0|        20.0|         N|  NULL|  BF Bowden|   K Hariharan|\n",
      "|  5|335987|2007/08|    Jaipur|2008-04-21|    League|      SR Watson|Sawai Mansingh St...|    Rajasthan Royals|     Kings XI Punjab|     Kings XI Punjab|          bat|    Rajasthan Royals|wickets|          6.0|      167.0|        20.0|         N|  NULL|  Aleem Dar|     RB Tiffin|\n",
      "|  6|335988|2007/08| Hyderabad|2008-04-22|    League|       V Sehwag|Rajiv Gandhi Inte...|     Deccan Chargers|    Delhi Daredevils|     Deccan Chargers|          bat|    Delhi Daredevils|wickets|          9.0|      143.0|        20.0|         N|  NULL|  IL Howell|     AM Saheba|\n",
      "|  7|335989|2007/08|   Chennai|2008-04-23|    League|      ML Hayden|MA Chidambaram St...| Chennai Super Kings|      Mumbai Indians|      Mumbai Indians|        field| Chennai Super Kings|   runs|          6.0|      209.0|        20.0|         N|  NULL|  DJ Harper|GA Pratapkumar|\n",
      "|  8|335990|2007/08| Hyderabad|2008-04-24|    League|      YK Pathan|Rajiv Gandhi Inte...|     Deccan Chargers|    Rajasthan Royals|    Rajasthan Royals|        field|    Rajasthan Royals|wickets|          3.0|      215.0|        20.0|         N|  NULL|  Asad Rauf|     MR Benson|\n",
      "|  9|335991|2007/08|Chandigarh|2008-04-25|    League|  KC Sangakkara|Punjab Cricket As...|     Kings XI Punjab|      Mumbai Indians|      Mumbai Indians|        field|     Kings XI Punjab|   runs|         66.0|      183.0|        20.0|         N|  NULL|  Aleem Dar|     AM Saheba|\n",
      "| 10|335992|2007/08| Bangalore|2008-04-26|    League|      SR Watson|M Chinnaswamy Sta...|Royal Challengers...|    Rajasthan Royals|    Rajasthan Royals|        field|    Rajasthan Royals|wickets|          7.0|      136.0|        20.0|         N|  NULL|  MR Benson|     IL Howell|\n",
      "| 11|335993|2007/08|   Chennai|2008-04-26|    League|       JDP Oram|MA Chidambaram St...| Chennai Super Kings|Kolkata Knight Ri...|Kolkata Knight Ri...|          bat| Chennai Super Kings|wickets|          9.0|      148.0|        20.0|         N|  NULL|  BF Bowden|AV Jayaprakash|\n",
      "| 12|335994|2007/08|    Mumbai|2008-04-27|    League|   AC Gilchrist|Dr DY Patil Sport...|      Mumbai Indians|     Deccan Chargers|     Deccan Chargers|        field|     Deccan Chargers|wickets|         10.0|      155.0|        20.0|         N|  NULL|  Asad Rauf|    SL Shastri|\n",
      "| 13|335995|2007/08|Chandigarh|2008-04-27|    League|      SM Katich|Punjab Cricket As...|     Kings XI Punjab|    Delhi Daredevils|    Delhi Daredevils|          bat|     Kings XI Punjab|wickets|          4.0|      159.0|        20.0|         N|  NULL|RE Koertzen|     I Shivram|\n",
      "| 14|335996|2007/08| Bangalore|2008-04-28|    League|       MS Dhoni|M Chinnaswamy Sta...|Royal Challengers...| Chennai Super Kings| Chennai Super Kings|          bat| Chennai Super Kings|   runs|         13.0|      179.0|        20.0|         N|  NULL|BR Doctrove|     RB Tiffin|\n",
      "| 15|335997|2007/08|   Kolkata|2008-04-29|    League|  ST Jayasuriya|        Eden Gardens|Kolkata Knight Ri...|      Mumbai Indians|Kolkata Knight Ri...|          bat|      Mumbai Indians|wickets|          7.0|      138.0|        20.0|         N|  NULL|  BF Bowden|AV Jayaprakash|\n",
      "| 16|335998|2007/08|     Delhi|2008-04-30|    League|     GD McGrath|    Feroz Shah Kotla|    Delhi Daredevils|Royal Challengers...|Royal Challengers...|        field|    Delhi Daredevils|   runs|         10.0|      192.0|        20.0|         N|  NULL|  Aleem Dar|     I Shivram|\n",
      "| 17|335999|2007/08| Hyderabad|2008-05-01|    League|       SE Marsh|Rajiv Gandhi Inte...|     Deccan Chargers|     Kings XI Punjab|     Kings XI Punjab|        field|     Kings XI Punjab|wickets|          7.0|      165.0|        20.0|         N|  NULL|BR Doctrove|     RB Tiffin|\n",
      "| 18|336000|2007/08|    Jaipur|2008-05-01|    League|    SA Asnodkar|Sawai Mansingh St...|    Rajasthan Royals|Kolkata Knight Ri...|    Rajasthan Royals|          bat|    Rajasthan Royals|   runs|         45.0|      197.0|        20.0|         N|  NULL|RE Koertzen|GA Pratapkumar|\n",
      "| 19|336001|2007/08|   Chennai|2008-05-02|    League|       V Sehwag|MA Chidambaram St...| Chennai Super Kings|    Delhi Daredevils| Chennai Super Kings|          bat|    Delhi Daredevils|wickets|          8.0|      170.0|        20.0|         N|  NULL|  BF Bowden|   K Hariharan|\n",
      "+---+------+-------+----------+----------+----------+---------------+--------------------+--------------------+--------------------+--------------------+-------------+--------------------+-------+-------------+-----------+------------+----------+------+-----------+--------------+\n",
      "only showing top 20 rows\n",
      "\n"
     ]
    }
   ],
   "source": [
    "df=df.withColumn(\"target_runs\",df[\"target_runs\"]+0)\n",
    "df.show()"
   ]
  },
  {
   "cell_type": "code",
   "execution_count": 5,
   "id": "e7149f19",
   "metadata": {},
   "outputs": [
    {
     "name": "stdout",
     "output_type": "stream",
     "text": [
      "+---+------+-------+----------+----------+----------+---------------+--------------------+--------------------+--------------------+--------------------+-------------+--------------------+-------+-------------+-----------+------------+----------+------+-----------+\n",
      "|_c0|    id| season|      city|      date|match_type|player_of_match|               venue|               team1|               team2|         toss_winner|toss_decision|              winner| result|result_margin|target_runs|target_overs|super_over|method|    umpire1|\n",
      "+---+------+-------+----------+----------+----------+---------------+--------------------+--------------------+--------------------+--------------------+-------------+--------------------+-------+-------------+-----------+------------+----------+------+-----------+\n",
      "|  0|335982|2007/08| Bangalore|2008-04-18|    League|    BB McCullum|M Chinnaswamy Sta...|Royal Challengers...|Kolkata Knight Ri...|Royal Challengers...|        field|Kolkata Knight Ri...|   runs|        140.0|      223.0|        20.0|         N|  NULL|  Asad Rauf|\n",
      "|  1|335983|2007/08|Chandigarh|2008-04-19|    League|     MEK Hussey|Punjab Cricket As...|     Kings XI Punjab| Chennai Super Kings| Chennai Super Kings|          bat| Chennai Super Kings|   runs|         33.0|      241.0|        20.0|         N|  NULL|  MR Benson|\n",
      "|  2|335984|2007/08|     Delhi|2008-04-19|    League|    MF Maharoof|    Feroz Shah Kotla|    Delhi Daredevils|    Rajasthan Royals|    Rajasthan Royals|          bat|    Delhi Daredevils|wickets|          9.0|      130.0|        20.0|         N|  NULL|  Aleem Dar|\n",
      "|  3|335985|2007/08|    Mumbai|2008-04-20|    League|     MV Boucher|    Wankhede Stadium|      Mumbai Indians|Royal Challengers...|      Mumbai Indians|          bat|Royal Challengers...|wickets|          5.0|      166.0|        20.0|         N|  NULL|   SJ Davis|\n",
      "|  4|335986|2007/08|   Kolkata|2008-04-20|    League|      DJ Hussey|        Eden Gardens|Kolkata Knight Ri...|     Deccan Chargers|     Deccan Chargers|          bat|Kolkata Knight Ri...|wickets|          5.0|      111.0|        20.0|         N|  NULL|  BF Bowden|\n",
      "|  5|335987|2007/08|    Jaipur|2008-04-21|    League|      SR Watson|Sawai Mansingh St...|    Rajasthan Royals|     Kings XI Punjab|     Kings XI Punjab|          bat|    Rajasthan Royals|wickets|          6.0|      167.0|        20.0|         N|  NULL|  Aleem Dar|\n",
      "|  6|335988|2007/08| Hyderabad|2008-04-22|    League|       V Sehwag|Rajiv Gandhi Inte...|     Deccan Chargers|    Delhi Daredevils|     Deccan Chargers|          bat|    Delhi Daredevils|wickets|          9.0|      143.0|        20.0|         N|  NULL|  IL Howell|\n",
      "|  7|335989|2007/08|   Chennai|2008-04-23|    League|      ML Hayden|MA Chidambaram St...| Chennai Super Kings|      Mumbai Indians|      Mumbai Indians|        field| Chennai Super Kings|   runs|          6.0|      209.0|        20.0|         N|  NULL|  DJ Harper|\n",
      "|  8|335990|2007/08| Hyderabad|2008-04-24|    League|      YK Pathan|Rajiv Gandhi Inte...|     Deccan Chargers|    Rajasthan Royals|    Rajasthan Royals|        field|    Rajasthan Royals|wickets|          3.0|      215.0|        20.0|         N|  NULL|  Asad Rauf|\n",
      "|  9|335991|2007/08|Chandigarh|2008-04-25|    League|  KC Sangakkara|Punjab Cricket As...|     Kings XI Punjab|      Mumbai Indians|      Mumbai Indians|        field|     Kings XI Punjab|   runs|         66.0|      183.0|        20.0|         N|  NULL|  Aleem Dar|\n",
      "| 10|335992|2007/08| Bangalore|2008-04-26|    League|      SR Watson|M Chinnaswamy Sta...|Royal Challengers...|    Rajasthan Royals|    Rajasthan Royals|        field|    Rajasthan Royals|wickets|          7.0|      136.0|        20.0|         N|  NULL|  MR Benson|\n",
      "| 11|335993|2007/08|   Chennai|2008-04-26|    League|       JDP Oram|MA Chidambaram St...| Chennai Super Kings|Kolkata Knight Ri...|Kolkata Knight Ri...|          bat| Chennai Super Kings|wickets|          9.0|      148.0|        20.0|         N|  NULL|  BF Bowden|\n",
      "| 12|335994|2007/08|    Mumbai|2008-04-27|    League|   AC Gilchrist|Dr DY Patil Sport...|      Mumbai Indians|     Deccan Chargers|     Deccan Chargers|        field|     Deccan Chargers|wickets|         10.0|      155.0|        20.0|         N|  NULL|  Asad Rauf|\n",
      "| 13|335995|2007/08|Chandigarh|2008-04-27|    League|      SM Katich|Punjab Cricket As...|     Kings XI Punjab|    Delhi Daredevils|    Delhi Daredevils|          bat|     Kings XI Punjab|wickets|          4.0|      159.0|        20.0|         N|  NULL|RE Koertzen|\n",
      "| 14|335996|2007/08| Bangalore|2008-04-28|    League|       MS Dhoni|M Chinnaswamy Sta...|Royal Challengers...| Chennai Super Kings| Chennai Super Kings|          bat| Chennai Super Kings|   runs|         13.0|      179.0|        20.0|         N|  NULL|BR Doctrove|\n",
      "| 15|335997|2007/08|   Kolkata|2008-04-29|    League|  ST Jayasuriya|        Eden Gardens|Kolkata Knight Ri...|      Mumbai Indians|Kolkata Knight Ri...|          bat|      Mumbai Indians|wickets|          7.0|      138.0|        20.0|         N|  NULL|  BF Bowden|\n",
      "| 16|335998|2007/08|     Delhi|2008-04-30|    League|     GD McGrath|    Feroz Shah Kotla|    Delhi Daredevils|Royal Challengers...|Royal Challengers...|        field|    Delhi Daredevils|   runs|         10.0|      192.0|        20.0|         N|  NULL|  Aleem Dar|\n",
      "| 17|335999|2007/08| Hyderabad|2008-05-01|    League|       SE Marsh|Rajiv Gandhi Inte...|     Deccan Chargers|     Kings XI Punjab|     Kings XI Punjab|        field|     Kings XI Punjab|wickets|          7.0|      165.0|        20.0|         N|  NULL|BR Doctrove|\n",
      "| 18|336000|2007/08|    Jaipur|2008-05-01|    League|    SA Asnodkar|Sawai Mansingh St...|    Rajasthan Royals|Kolkata Knight Ri...|    Rajasthan Royals|          bat|    Rajasthan Royals|   runs|         45.0|      197.0|        20.0|         N|  NULL|RE Koertzen|\n",
      "| 19|336001|2007/08|   Chennai|2008-05-02|    League|       V Sehwag|MA Chidambaram St...| Chennai Super Kings|    Delhi Daredevils| Chennai Super Kings|          bat|    Delhi Daredevils|wickets|          8.0|      170.0|        20.0|         N|  NULL|  BF Bowden|\n",
      "+---+------+-------+----------+----------+----------+---------------+--------------------+--------------------+--------------------+--------------------+-------------+--------------------+-------+-------------+-----------+------------+----------+------+-----------+\n",
      "only showing top 20 rows\n",
      "\n"
     ]
    }
   ],
   "source": [
    "df=df.drop(\"umpire2\")\n",
    "df.show()"
   ]
  },
  {
   "cell_type": "code",
   "execution_count": 6,
   "id": "744d0ea5",
   "metadata": {},
   "outputs": [],
   "source": [
    "from pyspark.sql import SparkSession\n",
    "spark=SparkSession.builder.appName(\"CRUD_PYSPARK_SQL\").getOrCreate()\n",
    "file_path1=\"hdfs://localhost:9000/users/covid_db/country_wise_latest.csv\"\n",
    "\n",
    "df_lastest=spark.read.csv(file_path1,header=True)\n",
    "df_clean_complete=spark.read.csv(\"hdfs://localhost:9000/users/covid_db/covid_19_clean_complete.csv\",header=True)\n",
    "df_day_wise=spark.read.csv(\"hdfs://localhost:9000/users/covid_db/day_wise.csv\",header=True)\n",
    "df_full_grouped=spark.read.csv(\"hdfs://localhost:9000/users/covid_db/full_grouped.csv\",header=True)\n",
    "df_usa_country_wise=spark.read.csv(\"hdfs://localhost:9000/users/covid_db/usa_county_wise.csv\",header=True)\n",
    "df_worldometer_data=spark.read.csv(\"hdfs://localhost:9000/users/covid_db/worldometer_data.csv\",header=True)\n"
   ]
  },
  {
   "cell_type": "code",
   "execution_count": 7,
   "id": "e7fae69a",
   "metadata": {},
   "outputs": [
    {
     "name": "stdout",
     "output_type": "stream",
     "text": [
      "+-------------------+---------+------+---------+------+---------+\n",
      "|     Country/Region|Confirmed|Deaths|Recovered|Active|New cases|\n",
      "+-------------------+---------+------+---------+------+---------+\n",
      "|        Afghanistan|    36263|  1269|    25198|  9796|      106|\n",
      "|            Albania|     4880|   144|     2745|  1991|      117|\n",
      "|            Algeria|    27973|  1163|    18837|  7973|      616|\n",
      "|            Andorra|      907|    52|      803|    52|       10|\n",
      "|             Angola|      950|    41|      242|   667|       18|\n",
      "|Antigua and Barbuda|       86|     3|       65|    18|        4|\n",
      "|          Argentina|   167416|  3059|    72575| 91782|     4890|\n",
      "|            Armenia|    37390|   711|    26665| 10014|       73|\n",
      "|          Australia|    15303|   167|     9311|  5825|      368|\n",
      "|            Austria|    20558|   713|    18246|  1599|       86|\n",
      "|         Azerbaijan|    30446|   423|    23242|  6781|      396|\n",
      "|            Bahamas|      382|    11|       91|   280|       40|\n",
      "|            Bahrain|    39482|   141|    36110|  3231|      351|\n",
      "|         Bangladesh|   226225|  2965|   125683| 97577|     2772|\n",
      "|           Barbados|      110|     7|       94|     9|        0|\n",
      "|            Belarus|    67251|   538|    60492|  6221|      119|\n",
      "|            Belgium|    66428|  9822|    17452| 39154|      402|\n",
      "|             Belize|       48|     2|       26|    20|        0|\n",
      "|              Benin|     1770|    35|     1036|   699|        0|\n",
      "|             Bhutan|       99|     0|       86|    13|        4|\n",
      "+-------------------+---------+------+---------+------+---------+\n",
      "only showing top 20 rows\n",
      "\n"
     ]
    }
   ],
   "source": [
    "df_lastest.createOrReplaceTempView(\"country_latest\")\n",
    "result=spark.sql(\"\"\"select `Country/Region`,Confirmed,Deaths,Recovered,Active,`New cases` from country_latest \"\"\")\n",
    "result.show()"
   ]
  },
  {
   "cell_type": "code",
   "execution_count": 8,
   "id": "abb5fec1",
   "metadata": {},
   "outputs": [
    {
     "name": "stdout",
     "output_type": "stream",
     "text": [
      "+--------------+-------------+-------------+\n",
      "|Country/Region|Recovery_Rate|Fatality_Rate|\n",
      "+--------------+-------------+-------------+\n",
      "|      Dominica|        100.0|          0.0|\n",
      "|       Grenada|        100.0|          0.0|\n",
      "|      Holy See|        100.0|          0.0|\n",
      "|      Djibouti|        98.38|         1.15|\n",
      "|       Iceland|        98.33|         0.54|\n",
      "|        Brunei|        97.87|         2.13|\n",
      "|   New Zealand|        97.24|         1.41|\n",
      "|         Qatar|        97.02|         0.15|\n",
      "|      Malaysia|         96.6|         1.39|\n",
      "|     Mauritius|        96.51|         2.91|\n",
      "|        Norway|        95.84|         2.79|\n",
      "|       Taiwan*|        95.24|         1.52|\n",
      "|          Laos|         95.0|          0.0|\n",
      "|         Malta|        94.86|         1.28|\n",
      "|       Estonia|        94.54|         3.39|\n",
      "|      Thailand|        94.36|         1.76|\n",
      "| Liechtenstein|        94.19|         1.16|\n",
      "|    San Marino|        93.99|         6.01|\n",
      "|       Finland|        93.54|         4.45|\n",
      "|     Greenland|        92.86|          0.0|\n",
      "+--------------+-------------+-------------+\n",
      "only showing top 20 rows\n",
      "\n"
     ]
    }
   ],
   "source": [
    "df_lastest.createOrReplaceTempView(\"country_latest\")\n",
    "\n",
    "result = spark.sql(\"\"\"\n",
    "    SELECT `Country/Region`, \n",
    "           ROUND(`Recovered / 100 Cases`, 2) AS Recovery_Rate,\n",
    "           ROUND(`Deaths / 100 Cases`, 2) AS Fatality_Rate\n",
    "    FROM country_latest\n",
    "    WHERE `Confirmed` > 0\n",
    "    ORDER BY Recovery_Rate DESC\n",
    "\"\"\")\n",
    "\n",
    "result.show()"
   ]
  },
  {
   "cell_type": "code",
   "execution_count": 9,
   "id": "6701285c",
   "metadata": {},
   "outputs": [
    {
     "name": "stdout",
     "output_type": "stream",
     "text": [
      "+----------------------+-----------------------+\n",
      "|Local_Death_percentage|Global_Death_percentage|\n",
      "+----------------------+-----------------------+\n",
      "|    3.2352585231964124|      3.891939633247169|\n",
      "+----------------------+-----------------------+\n",
      "\n"
     ]
    }
   ],
   "source": [
    "#1. To find out the death percentage locally and globally\n",
    "df_lastest.createOrReplaceTempView(\"country_lastest\")\n",
    "df_clean_complete.createOrReplaceTempView(\"clean_complete\")\n",
    "df_day_wise.createOrReplaceTempView(\"day_wise\")\n",
    "df_full_grouped.createOrReplaceTempView(\"full_grouped\")\n",
    "df_usa_country_wise.createOrReplaceTempView(\"usa_country_wise\")\n",
    "df_worldometer_data.createOrReplaceTempView(\"worldometer_data\")\n",
    "res=spark.sql(\"\"\"SELECT\n",
    "  (SELECT SUM(TotalDeaths) * 100.0 /SUM(TotalCases)\n",
    "   FROM worldometer_data\n",
    "   WHERE `Country/Region` = 'USA') AS Local_Death_percentage,\n",
    "  (SELECT SUM(TotalDeaths) * 100.0 /SUM(TotalCases)\n",
    "   FROM worldometer_data\n",
    "   WHERE `Country/Region` != 'USA') AS Global_Death_percentage\"\"\")\n",
    "\n",
    "res.show()"
   ]
  },
  {
   "cell_type": "code",
   "execution_count": 10,
   "id": "ba5e76dc",
   "metadata": {},
   "outputs": [
    {
     "name": "stdout",
     "output_type": "stream",
     "text": [
      "+-------------------------+--------------------------+\n",
      "|local_Infected_percentage|global_Infected_percentage|\n",
      "+-------------------------+--------------------------+\n",
      "|       1.5193862960518527|       0.23580418314236695|\n",
      "+-------------------------+--------------------------+\n",
      "\n"
     ]
    }
   ],
   "source": [
    "#2. To find out the infected population percentage locally and globally\n",
    "df_lastest.createOrReplaceTempView(\"country_lastest\")\n",
    "df_clean_complete.createOrReplaceTempView(\"clean_complete\")\n",
    "df_day_wise.createOrReplaceTempView(\"day_wise\")\n",
    "df_full_grouped.createOrReplaceTempView(\"full_grouped\")\n",
    "df_usa_country_wise.createOrReplaceTempView(\"usa_country_wise\")\n",
    "df_worldometer_data.createOrReplaceTempView(\"worldometer_data\")\n",
    "res = spark.sql(\"\"\"\n",
    "SELECT\n",
    "  (SELECT SUM(TotalCases) * 100.0 / SUM(Population)\n",
    "     FROM worldometer_data\n",
    "     WHERE `Country/Region` = 'USA') AS local_Infected_percentage,\n",
    "  (SELECT SUM(TotalCases) * 100.0 / SUM(Population)\n",
    "     FROM worldometer_data\n",
    "     WHERE `Country/Region` != 'USA') AS global_Infected_percentage\n",
    "\"\"\")\n",
    "res.show()\n",
    "\n"
   ]
  },
  {
   "cell_type": "code",
   "execution_count": 11,
   "id": "2157e93d",
   "metadata": {},
   "outputs": [
    {
     "name": "stdout",
     "output_type": "stream",
     "text": [
      "+-------------+-------------------+\n",
      "|      Country|infected_percentage|\n",
      "+-------------+-------------------+\n",
      "|        Qatar| 3.9921575750452756|\n",
      "|French Guiana| 2.7145648579588157|\n",
      "|      Bahrain| 2.5130239079751258|\n",
      "|   San Marino|  2.059638163710295|\n",
      "|        Chile| 1.9164810228284688|\n",
      "|       Panama| 1.6527039892328248|\n",
      "|       Kuwait| 1.6378443167538765|\n",
      "|         Oman| 1.5769043963734306|\n",
      "|          USA| 1.5193862960518527|\n",
      "| Vatican City| 1.4981273408239701|\n",
      "+-------------+-------------------+\n",
      "\n"
     ]
    }
   ],
   "source": [
    "#3. To find out the countries with the highest infection rates\n",
    "df_lastest.createOrReplaceTempView(\"country_lastest\")\n",
    "df_clean_complete.createOrReplaceTempView(\"clean_complete\")\n",
    "df_day_wise.createOrReplaceTempView(\"day_wise\")\n",
    "df_full_grouped.createOrReplaceTempView(\"full_grouped\")\n",
    "df_usa_country_wise.createOrReplaceTempView(\"usa_country_wise\")\n",
    "df_worldometer_data.createOrReplaceTempView(\"worldometer_data\")\n",
    "res=spark.sql( \"\"\"select `Country/Region` as Country,SUM(TotalCases) * 100.0 / SUM(Population) as infected_percentage from worldometer_data\n",
    "              group by `Country/Region`\n",
    "              order by infected_percentage desc\n",
    "              limit 10\n",
    "              \"\"\"\n",
    "    \n",
    ")\n",
    "res.show()"
   ]
  },
  {
   "cell_type": "code",
   "execution_count": 12,
   "id": "74f26033",
   "metadata": {},
   "outputs": [
    {
     "name": "stdout",
     "output_type": "stream",
     "text": [
      "+--------------+-----------+\n",
      "|Country/Region|TotalDeaths|\n",
      "+--------------+-----------+\n",
      "|           USA|     162804|\n",
      "|        Brazil|      98644|\n",
      "|        Mexico|      50517|\n",
      "|            UK|      46413|\n",
      "|         India|      41638|\n",
      "|         Italy|      35187|\n",
      "|        France|      30312|\n",
      "|         Spain|      28500|\n",
      "|          Peru|      20424|\n",
      "|          Iran|      17976|\n",
      "+--------------+-----------+\n",
      "\n",
      "+-----------------+------------+\n",
      "|        Continent|Total_deaths|\n",
      "+-----------------+------------+\n",
      "|    North America|    229855.0|\n",
      "|           Europe|    205232.0|\n",
      "|    South America|    154885.0|\n",
      "|             Asia|    100627.0|\n",
      "|           Africa|     22114.0|\n",
      "|Australia/Oceania|       281.0|\n",
      "|             NULL|        13.0|\n",
      "+-----------------+------------+\n",
      "\n"
     ]
    }
   ],
   "source": [
    "#4. To find out the countries and continents with the highest death counts\n",
    "df_lastest.createOrReplaceTempView(\"country_lastest\")\n",
    "df_clean_complete.createOrReplaceTempView(\"clean_complete\")\n",
    "df_day_wise.createOrReplaceTempView(\"day_wise\")\n",
    "df_full_grouped.createOrReplaceTempView(\"full_grouped\")\n",
    "df_usa_country_wise.createOrReplaceTempView(\"usa_country_wise\")\n",
    "df_worldometer_data.createOrReplaceTempView(\"worldometer_data\")\n",
    "res=spark.sql(\"\"\"select `Country/Region`,TotalDeaths from worldometer_data\n",
    "              order by cast(TotalDeaths as int) desc\n",
    "              limit 10\"\"\")\n",
    "res.show()\n",
    "res=spark.sql(\"\"\"select Continent,sum(TotalDeaths) as Total_deaths from worldometer_data\n",
    "              group by Continent\n",
    "              order by cast(Total_deaths as int) desc\"\"\" )\n",
    "res.show()\n"
   ]
  },
  {
   "cell_type": "code",
   "execution_count": 13,
   "id": "0091f010",
   "metadata": {},
   "outputs": [
    {
     "name": "stdout",
     "output_type": "stream",
     "text": [
      "root\n",
      " |-- Country/Region: string (nullable = true)\n",
      " |-- Continent: string (nullable = true)\n",
      " |-- Population: string (nullable = true)\n",
      " |-- TotalCases: string (nullable = true)\n",
      " |-- NewCases: string (nullable = true)\n",
      " |-- TotalDeaths: string (nullable = true)\n",
      " |-- NewDeaths: string (nullable = true)\n",
      " |-- TotalRecovered: string (nullable = true)\n",
      " |-- NewRecovered: string (nullable = true)\n",
      " |-- ActiveCases: string (nullable = true)\n",
      " |-- Serious,Critical: string (nullable = true)\n",
      " |-- Tot Cases/1M pop: string (nullable = true)\n",
      " |-- Deaths/1M pop: string (nullable = true)\n",
      " |-- TotalTests: string (nullable = true)\n",
      " |-- Tests/1M pop: string (nullable = true)\n",
      " |-- WHO Region: string (nullable = true)\n",
      "\n"
     ]
    }
   ],
   "source": [
    "#To check weather columns are in which data types\n",
    "df_worldometer_data.printSchema()"
   ]
  },
  {
   "cell_type": "code",
   "execution_count": 14,
   "id": "d4cc3afa",
   "metadata": {},
   "outputs": [
    {
     "name": "stdout",
     "output_type": "stream",
     "text": [
      "+----------+--------------------+--------------------+----------+\n",
      "|      Date|      Country/Region|          continents|avg_deaths|\n",
      "+----------+--------------------+--------------------+----------+\n",
      "|2020-01-22|              Brunei|     Western Pacific|       0.0|\n",
      "|2020-01-22|             Bahamas|            Americas|       0.0|\n",
      "|2020-01-22|              Angola|              Africa|       0.0|\n",
      "|2020-01-22|          Madagascar|              Africa|       0.0|\n",
      "|2020-01-22|                  US|            Americas|       0.0|\n",
      "|2020-01-22|         Switzerland|              Europe|       0.0|\n",
      "|2020-01-22|             Bahrain|Eastern Mediterra...|       0.0|\n",
      "|2020-01-22|           Indonesia|     South-East Asia|       0.0|\n",
      "|2020-01-22|             Armenia|              Europe|       0.0|\n",
      "|2020-01-22|             Eritrea|              Africa|       0.0|\n",
      "|2020-01-22|Bosnia and Herzeg...|              Europe|       0.0|\n",
      "|2020-01-22|               China|     Western Pacific|      17.0|\n",
      "|2020-01-22|             Ukraine|              Europe|       0.0|\n",
      "|2020-01-22|              Kuwait|Eastern Mediterra...|       0.0|\n",
      "|2020-01-22|             Somalia|Eastern Mediterra...|       0.0|\n",
      "|2020-01-22|             Taiwan*|     Western Pacific|       0.0|\n",
      "|2020-01-22|                Laos|     Western Pacific|       0.0|\n",
      "|2020-01-22|           Sri Lanka|     South-East Asia|       0.0|\n",
      "|2020-01-22|       Cote d'Ivoire|              Africa|       0.0|\n",
      "|2020-01-22|               Qatar|Eastern Mediterra...|       0.0|\n",
      "+----------+--------------------+--------------------+----------+\n",
      "only showing top 20 rows\n",
      "\n"
     ]
    }
   ],
   "source": [
    "#5. Average number of deaths by day (Continents and Countries) \n",
    "df_lastest.createOrReplaceTempView(\"country_lastest\")\n",
    "df_clean_complete.createOrReplaceTempView(\"clean_complete\")\n",
    "df_day_wise.createOrReplaceTempView(\"day_wise\")\n",
    "df_full_grouped.createOrReplaceTempView(\"full_grouped\")\n",
    "df_usa_country_wise.createOrReplaceTempView(\"usa_country_wise\")\n",
    "df_worldometer_data.createOrReplaceTempView(\"worldometer_data\")\n",
    "result=spark.sql(\"\"\" select Date,`Country/Region`,`WHO Region` as continents,avg(cast(Deaths as int)) as avg_deaths\n",
    "                 from full_grouped\n",
    "                 group by Date,`Country/Region`,`WHO Region`\n",
    "                 order by Date\n",
    "                 \"\"\"\n",
    ")\n",
    "result.show()"
   ]
  },
  {
   "cell_type": "code",
   "execution_count": 15,
   "id": "e610f0f8",
   "metadata": {},
   "outputs": [
    {
     "name": "stdout",
     "output_type": "stream",
     "text": [
      "+--------------+---------+\n",
      "|Country/Region|Avg_Cases|\n",
      "+--------------+---------+\n",
      "|           USA|5032179.0|\n",
      "|        Brazil|2917562.0|\n",
      "|         India|2025409.0|\n",
      "|        Russia| 871894.0|\n",
      "|  South Africa| 538184.0|\n",
      "|        Mexico| 462690.0|\n",
      "|          Peru| 455409.0|\n",
      "|         Chile| 366671.0|\n",
      "|      Colombia| 357710.0|\n",
      "|         Spain| 354530.0|\n",
      "+--------------+---------+\n",
      "\n"
     ]
    }
   ],
   "source": [
    "#6. Average of cases divided by the number of population of each country (TOP 10) \n",
    "df_lastest.createOrReplaceTempView(\"country_lastest\")\n",
    "df_clean_complete.createOrReplaceTempView(\"clean_complete\")\n",
    "df_day_wise.createOrReplaceTempView(\"day_wise\")\n",
    "df_full_grouped.createOrReplaceTempView(\"full_grouped\")\n",
    "df_usa_country_wise.createOrReplaceTempView(\"usa_country_wise\")\n",
    "df_worldometer_data.createOrReplaceTempView(\"worldometer_data\")\n",
    "result=spark.sql(\"\"\"select `Country/Region`,avg(TotalCases)as Avg_Cases from worldometer_data\n",
    "                 group by `Country/Region`\n",
    "                 order by Avg_Cases desc\n",
    "                 limit 10\"\"\"\n",
    "    \n",
    "    \n",
    ")\n",
    "result.show()"
   ]
  }
 ],
 "metadata": {
  "kernelspec": {
   "display_name": "Python 3",
   "language": "python",
   "name": "python3"
  },
  "language_info": {
   "codemirror_mode": {
    "name": "ipython",
    "version": 3
   },
   "file_extension": ".py",
   "mimetype": "text/x-python",
   "name": "python",
   "nbconvert_exporter": "python",
   "pygments_lexer": "ipython3",
   "version": "3.10.11"
  }
 },
 "nbformat": 4,
 "nbformat_minor": 5
}
