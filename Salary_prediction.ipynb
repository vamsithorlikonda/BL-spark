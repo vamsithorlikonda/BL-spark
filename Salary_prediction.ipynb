{
 "cells": [
  {
   "cell_type": "code",
   "execution_count": 11,
   "id": "eb6baa83",
   "metadata": {},
   "outputs": [
    {
     "name": "stdout",
     "output_type": "stream",
     "text": [
      "+---------+---+----------+------+\n",
      "|     Name|age|Experience|Salary|\n",
      "+---------+---+----------+------+\n",
      "|    Krish| 31|        10| 30000|\n",
      "|Sudhanshu| 30|         8| 25000|\n",
      "|    Sunny| 29|         4| 20000|\n",
      "|     Paul| 24|         3| 20000|\n",
      "|   Harsha| 21|         1| 15000|\n",
      "|  Shubham| 23|         2| 18000|\n",
      "+---------+---+----------+------+\n",
      "\n",
      "+-------+------+------------------+-----------------+------------------+\n",
      "|summary|  Name|               age|       Experience|            Salary|\n",
      "+-------+------+------------------+-----------------+------------------+\n",
      "|  count|     6|                 6|                6|                 6|\n",
      "|   mean|  NULL|26.333333333333332|4.666666666666667|21333.333333333332|\n",
      "| stddev|  NULL| 4.179314138308661|3.559026084010437| 5354.126134736337|\n",
      "|    min|Harsha|                21|                1|             15000|\n",
      "|    max| Sunny|                31|               10|             30000|\n",
      "+-------+------+------------------+-----------------+------------------+\n",
      "\n",
      "root\n",
      " |-- Name: string (nullable = true)\n",
      " |-- age: integer (nullable = true)\n",
      " |-- Experience: integer (nullable = true)\n",
      " |-- Salary: integer (nullable = true)\n",
      "\n"
     ]
    }
   ],
   "source": [
    "#step1 Reading file and understand data\n",
    "from pyspark.sql import SparkSession\n",
    "spark=SparkSession.builder.appName('salary_prediction').getOrCreate()\n",
    "df=spark.read.csv(r\"C:\\Users\\Vamsi\\Downloads\\test2.csv\",header=True,inferSchema=True)\n",
    "df=df.na.drop()\n",
    "df.show()\n",
    "df.describe().show()\n",
    "df.printSchema()"
   ]
  },
  {
   "cell_type": "code",
   "execution_count": 12,
   "id": "d7fa5f68",
   "metadata": {},
   "outputs": [
    {
     "name": "stdout",
     "output_type": "stream",
     "text": [
      "+---------+---+----------+------+-----------+\n",
      "|     Name|age|Experience|Salary|   features|\n",
      "+---------+---+----------+------+-----------+\n",
      "|    Krish| 31|        10| 30000|[31.0,10.0]|\n",
      "|Sudhanshu| 30|         8| 25000| [30.0,8.0]|\n",
      "|    Sunny| 29|         4| 20000| [29.0,4.0]|\n",
      "|     Paul| 24|         3| 20000| [24.0,3.0]|\n",
      "|   Harsha| 21|         1| 15000| [21.0,1.0]|\n",
      "|  Shubham| 23|         2| 18000| [23.0,2.0]|\n",
      "+---------+---+----------+------+-----------+\n",
      "\n"
     ]
    }
   ],
   "source": [
    "#Combine multiple features into single feature\n",
    "from pyspark.ml.feature import VectorAssembler\n",
    "feacturecols=['age', 'Experience']\n",
    "assembler=VectorAssembler(inputCols=feacturecols,outputCol='features')\n",
    "final_data=assembler.transform(df)\n",
    "final_data.show()"
   ]
  },
  {
   "cell_type": "code",
   "execution_count": 19,
   "id": "23300c8a",
   "metadata": {},
   "outputs": [
    {
     "data": {
      "text/plain": [
       "2"
      ]
     },
     "execution_count": 19,
     "metadata": {},
     "output_type": "execute_result"
    }
   ],
   "source": [
    "#Split the data into two 1)train_data 2)test_data\n",
    "train_data, test_data = final_data.randomSplit([0.80,0.20])\n",
    "train_data.count()\n",
    "test_data.count()"
   ]
  },
  {
   "cell_type": "code",
   "execution_count": 20,
   "id": "a1f0b8c8",
   "metadata": {},
   "outputs": [],
   "source": [
    "#Train the model\n",
    "from pyspark.ml.regression import LinearRegression\n",
    "lr=LinearRegression(featuresCol='features', labelCol='Salary')\n",
    "lr_model=lr.fit(train_data)"
   ]
  },
  {
   "cell_type": "code",
   "execution_count": 26,
   "id": "07bf7af9",
   "metadata": {},
   "outputs": [
    {
     "name": "stdout",
     "output_type": "stream",
     "text": [
      "coefficients: [47.61904761904503,1285.7142857142912]\n",
      "Intercept: 13619.047619047662\n",
      "RMSE: 1533.4516369623352\n",
      "R2 Score: 0.934681279919376\n"
     ]
    }
   ],
   "source": [
    "#Evaluate the model\n",
    "print('coefficients:',lr_model.coefficients)\n",
    "print('Intercept:',lr_model.intercept)\n",
    "test_result=lr_model.evaluate(test_data)\n",
    "print(\"RMSE:\", test_result.rootMeanSquaredError)\n",
    "print(\"R2 Score:\", test_result.r2)"
   ]
  },
  {
   "cell_type": "code",
   "execution_count": 22,
   "id": "53f42d9e",
   "metadata": {},
   "outputs": [
    {
     "name": "stdout",
     "output_type": "stream",
     "text": [
      "+-------+---+----------+------+-----------+-----------------+\n",
      "|   Name|age|Experience|Salary|   features|       prediction|\n",
      "+-------+---+----------+------+-----------+-----------------+\n",
      "|  Krish| 31|        10| 30000|[31.0,10.0]|27952.38095238097|\n",
      "|Shubham| 23|         2| 18000| [23.0,2.0]|17285.71428571428|\n",
      "+-------+---+----------+------+-----------+-----------------+\n",
      "\n"
     ]
    }
   ],
   "source": [
    "#Make predictions\n",
    "prediction=lr_model.transform(test_data)\n",
    "prediction.show()"
   ]
  },
  {
   "cell_type": "markdown",
   "id": "3d1aefba",
   "metadata": {},
   "source": [
    "new input file for trained model"
   ]
  },
  {
   "cell_type": "code",
   "execution_count": 23,
   "id": "887101fc",
   "metadata": {},
   "outputs": [
    {
     "name": "stdout",
     "output_type": "stream",
     "text": [
      "+-----+---+----------+\n",
      "| Name|age|Experience|\n",
      "+-----+---+----------+\n",
      "|vamsi| 34|        10|\n",
      "+-----+---+----------+\n",
      "\n"
     ]
    },
    {
     "data": {
      "text/plain": [
       "['Name', 'age', 'Experience']"
      ]
     },
     "execution_count": 23,
     "metadata": {},
     "output_type": "execute_result"
    }
   ],
   "source": [
    "from pyspark.sql import SparkSession\n",
    "spark=SparkSession.builder.appName('New_data').getOrCreate()\n",
    "df1=spark.read.csv(r\"C:\\Users\\Vamsi\\Downloads\\Book2.csv\",header=True,inferSchema=True)\n",
    "df_final=df1.drop('Salary')\n",
    "df_final.show()\n",
    "df_final.columns"
   ]
  },
  {
   "cell_type": "code",
   "execution_count": 31,
   "id": "f1c6b238",
   "metadata": {},
   "outputs": [
    {
     "name": "stdout",
     "output_type": "stream",
     "text": [
      "+-----+---+----------+-----------+------------------+\n",
      "| Name|age|Experience|   features|        prediction|\n",
      "+-----+---+----------+-----------+------------------+\n",
      "|vamsi| 34|        10|[34.0,10.0]|28095.238095238106|\n",
      "+-----+---+----------+-----------+------------------+\n",
      "\n"
     ]
    }
   ],
   "source": [
    "from pyspark.ml.feature import VectorAssembler\n",
    "new_df=VectorAssembler(inputCols=['age', 'Experience'],outputCol='features')\n",
    "final_data1=new_df.transform(df_final)\n",
    "predict=lr_model.transform(final_data1)\n",
    "predict.show()"
   ]
  },
  {
   "cell_type": "code",
   "execution_count": null,
   "id": "6674baa0",
   "metadata": {},
   "outputs": [],
   "source": []
  }
 ],
 "metadata": {
  "kernelspec": {
   "display_name": "Python 3",
   "language": "python",
   "name": "python3"
  },
  "language_info": {
   "codemirror_mode": {
    "name": "ipython",
    "version": 3
   },
   "file_extension": ".py",
   "mimetype": "text/x-python",
   "name": "python",
   "nbconvert_exporter": "python",
   "pygments_lexer": "ipython3",
   "version": "3.10.11"
  }
 },
 "nbformat": 4,
 "nbformat_minor": 5
}
