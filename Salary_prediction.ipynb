{
 "cells": [
  {
   "cell_type": "code",
   "execution_count": 2,
   "id": "eb6baa83",
   "metadata": {},
   "outputs": [
    {
     "name": "stdout",
     "output_type": "stream",
     "text": [
      "+---------+---+----------+------+\n",
      "|     Name|age|Experience|Salary|\n",
      "+---------+---+----------+------+\n",
      "|    Krish| 31|        10| 30000|\n",
      "|Sudhanshu| 30|         8| 25000|\n",
      "|    Sunny| 29|         4| 20000|\n",
      "|     Paul| 24|         3| 20000|\n",
      "|   Harsha| 21|         1| 15000|\n",
      "|  Shubham| 23|         2| 18000|\n",
      "+---------+---+----------+------+\n",
      "\n",
      "+-------+------+------------------+-----------------+------------------+\n",
      "|summary|  Name|               age|       Experience|            Salary|\n",
      "+-------+------+------------------+-----------------+------------------+\n",
      "|  count|     6|                 6|                6|                 6|\n",
      "|   mean|  NULL|26.333333333333332|4.666666666666667|21333.333333333332|\n",
      "| stddev|  NULL| 4.179314138308661|3.559026084010437| 5354.126134736337|\n",
      "|    min|Harsha|                21|                1|             15000|\n",
      "|    max| Sunny|                31|               10|             30000|\n",
      "+-------+------+------------------+-----------------+------------------+\n",
      "\n",
      "root\n",
      " |-- Name: string (nullable = true)\n",
      " |-- age: integer (nullable = true)\n",
      " |-- Experience: integer (nullable = true)\n",
      " |-- Salary: integer (nullable = true)\n",
      "\n"
     ]
    }
   ],
   "source": [
    "#step1 Reading file and understand data\n",
    "from pyspark.sql import SparkSession\n",
    "spark=SparkSession.builder.appName('salary_prediction').getOrCreate()\n",
    "df=spark.read.csv(r\"C:\\Users\\Vamsi\\Downloads\\test2.csv\",header=True,inferSchema=True)\n",
    "df=df.na.drop()\n",
    "df.show()\n",
    "df.describe().show()\n",
    "df.printSchema()"
   ]
  },
  {
   "cell_type": "code",
   "execution_count": 3,
   "id": "d7fa5f68",
   "metadata": {},
   "outputs": [
    {
     "name": "stdout",
     "output_type": "stream",
     "text": [
      "+---------+---+----------+------+-------------------+\n",
      "|     Name|age|Experience|Salary|           features|\n",
      "+---------+---+----------+------+-------------------+\n",
      "|    Krish| 31|        10| 30000|[31.0,10.0,30000.0]|\n",
      "|Sudhanshu| 30|         8| 25000| [30.0,8.0,25000.0]|\n",
      "|    Sunny| 29|         4| 20000| [29.0,4.0,20000.0]|\n",
      "|     Paul| 24|         3| 20000| [24.0,3.0,20000.0]|\n",
      "|   Harsha| 21|         1| 15000| [21.0,1.0,15000.0]|\n",
      "|  Shubham| 23|         2| 18000| [23.0,2.0,18000.0]|\n",
      "+---------+---+----------+------+-------------------+\n",
      "\n"
     ]
    }
   ],
   "source": [
    "#Combine multiple features into single feature\n",
    "from pyspark.ml.feature import VectorAssembler\n",
    "feacturecols=['age', 'Experience','Salary']\n",
    "assembler=VectorAssembler(inputCols=feacturecols,outputCol='features')\n",
    "final_data=assembler.transform(df)\n",
    "final_data.show()"
   ]
  },
  {
   "cell_type": "code",
   "execution_count": 4,
   "id": "23300c8a",
   "metadata": {},
   "outputs": [
    {
     "data": {
      "text/plain": [
       "1"
      ]
     },
     "execution_count": 4,
     "metadata": {},
     "output_type": "execute_result"
    }
   ],
   "source": [
    "#Split the data into two 1)train_data 2)test_data\n",
    "train_data, test_data = final_data.randomSplit([0.75,0.25])\n",
    "train_data.count()\n",
    "test_data.count()"
   ]
  },
  {
   "cell_type": "code",
   "execution_count": 5,
   "id": "a1f0b8c8",
   "metadata": {},
   "outputs": [],
   "source": [
    "#Train the model\n",
    "from pyspark.ml.regression import LinearRegression\n",
    "lr=LinearRegression(featuresCol='features', labelCol='Salary')\n",
    "lr_model=lr.fit(train_data)"
   ]
  },
  {
   "cell_type": "code",
   "execution_count": 6,
   "id": "07bf7af9",
   "metadata": {},
   "outputs": [
    {
     "name": "stdout",
     "output_type": "stream",
     "text": [
      "coefficients: [6.492514080924944e-14,2.570179603450886e-12,0.999999999999998]\n",
      "Intercept: 2.8091636523404443e-11\n",
      "RMSE: 0.0\n",
      "R2 Score: nan\n"
     ]
    }
   ],
   "source": [
    "#Evaluate the model\n",
    "print('coefficients:',lr_model.coefficients)\n",
    "print('Intercept:',lr_model.intercept)\n",
    "test_result=lr_model.evaluate(test_data)\n",
    "print(\"RMSE:\", test_result.rootMeanSquaredError)\n",
    "print(\"R2 Score:\", test_result.r2)"
   ]
  },
  {
   "cell_type": "code",
   "execution_count": 8,
   "id": "53f42d9e",
   "metadata": {},
   "outputs": [
    {
     "name": "stdout",
     "output_type": "stream",
     "text": [
      "+-----+---+----------+------+-------------------+----------+\n",
      "| Name|age|Experience|Salary|           features|prediction|\n",
      "+-----+---+----------+------+-------------------+----------+\n",
      "|Krish| 31|        10| 30000|[31.0,10.0,30000.0]|   30000.0|\n",
      "+-----+---+----------+------+-------------------+----------+\n",
      "\n"
     ]
    }
   ],
   "source": [
    "#Make predictions\n",
    "prediction=lr_model.transform(test_data)\n",
    "prediction.show()"
   ]
  }
 ],
 "metadata": {
  "kernelspec": {
   "display_name": "Python 3",
   "language": "python",
   "name": "python3"
  },
  "language_info": {
   "codemirror_mode": {
    "name": "ipython",
    "version": 3
   },
   "file_extension": ".py",
   "mimetype": "text/x-python",
   "name": "python",
   "nbconvert_exporter": "python",
   "pygments_lexer": "ipython3",
   "version": "3.10.11"
  }
 },
 "nbformat": 4,
 "nbformat_minor": 5
}
